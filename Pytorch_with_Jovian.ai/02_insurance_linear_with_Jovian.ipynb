{
  "nbformat": 4,
  "nbformat_minor": 0,
  "metadata": {
    "kernelspec": {
      "display_name": "Python 3",
      "language": "python",
      "name": "python3"
    },
    "language_info": {
      "codemirror_mode": {
        "name": "ipython",
        "version": 3
      },
      "file_extension": ".py",
      "mimetype": "text/x-python",
      "name": "python",
      "nbconvert_exporter": "python",
      "pygments_lexer": "ipython3",
      "version": "3.8.5"
    },
    "colab": {
      "name": "02-insurance-linear_with_Jovian.ipynb",
      "provenance": [],
      "toc_visible": true
    }
  },
  "cells": [
    {
      "cell_type": "markdown",
      "metadata": {
        "_cell_guid": "b1076dfc-b9ad-4769-8c92-a6c4dae69d19",
        "_uuid": "8f2839f25d086af736a60e9eeb907d3b93b6e0e5",
        "id": "f2oWJh8HKVA9"
      },
      "source": [
        "# Insurance cost prediction using linear regression\n",
        "\n",
        "Make a submisson here: https://jovian.ai/learn/deep-learning-with-pytorch-zero-to-gans/assignment/assignment-2-train-your-first-model\n",
        "\n",
        "In this assignment we're going to use information like a person's age, sex, BMI, no. of children and smoking habit to predict the price of yearly medical bills. This kind of model is useful for insurance companies to determine the yearly insurance premium for a person. The dataset for this problem is taken from [Kaggle](https://www.kaggle.com/mirichoi0218/insurance).\n",
        "\n",
        "\n",
        "We will create a model with the following steps:\n",
        "1. Download and explore the dataset\n",
        "2. Prepare the dataset for training\n",
        "3. Create a linear regression model\n",
        "4. Train the model to fit the data\n",
        "5. Make predictions using the trained model\n",
        "\n",
        "\n",
        "This assignment builds upon the concepts from the first 2 lessons. It will help to review these Jupyter notebooks:\n",
        "- PyTorch basics: https://jovian.ai/aakashns/01-pytorch-basics\n",
        "- Linear Regression: https://jovian.ai/aakashns/02-linear-regression\n",
        "- Logistic Regression: https://jovian.ai/aakashns/03-logistic-regression\n",
        "- Linear regression (minimal): https://jovian.ai/aakashns/housing-linear-minimal\n",
        "- Logistic regression (minimal): https://jovian.ai/aakashns/mnist-logistic-minimal\n",
        "\n",
        "As you go through this notebook, you will find a **???** in certain places. Your job is to replace the **???** with appropriate code or values, to ensure that the notebook runs properly end-to-end . In some cases, you'll be required to choose some hyperparameters (learning rate, batch size etc.). Try to experiment with the hypeparameters to get the lowest loss.\n"
      ]
    },
    {
      "cell_type": "code",
      "metadata": {
        "id": "FYJ3ZgaTKVA_"
      },
      "source": [
        "# Uncomment and run the appropriate command for your operating system, if required\n",
        "\n",
        "# Linux / Binder\n",
        "# !pip install numpy matplotlib pandas torch==1.7.0+cpu torchvision==0.8.1+cpu torchaudio==0.7.0 -f https://download.pytorch.org/whl/torch_stable.html\n",
        "\n",
        "# Windows\n",
        "# !pip install numpy matplotlib pandas torch==1.7.0+cpu torchvision==0.8.1+cpu torchaudio==0.7.0 -f https://download.pytorch.org/whl/torch_stable.html\n",
        "\n",
        "# MacOS\n",
        "# !pip install numpy matplotlib pandas torch torchvision torchaudio"
      ],
      "execution_count": 167,
      "outputs": []
    },
    {
      "cell_type": "code",
      "metadata": {
        "colab": {
          "base_uri": "https://localhost:8080/"
        },
        "id": "bAbkqsDuKwFK",
        "outputId": "d6313e76-5c8e-418d-e1d7-f5e349b70e71"
      },
      "source": [
        "!pip install torch torchvision jovian "
      ],
      "execution_count": 168,
      "outputs": [
        {
          "output_type": "stream",
          "text": [
            "Requirement already satisfied: torch in /usr/local/lib/python3.6/dist-packages (1.7.0+cu101)\n",
            "Requirement already satisfied: torchvision in /usr/local/lib/python3.6/dist-packages (0.8.1+cu101)\n",
            "Requirement already satisfied: jovian in /usr/local/lib/python3.6/dist-packages (0.2.26)\n",
            "Requirement already satisfied: numpy in /usr/local/lib/python3.6/dist-packages (from torch) (1.18.5)\n",
            "Requirement already satisfied: typing-extensions in /usr/local/lib/python3.6/dist-packages (from torch) (3.7.4.3)\n",
            "Requirement already satisfied: dataclasses in /usr/local/lib/python3.6/dist-packages (from torch) (0.8)\n",
            "Requirement already satisfied: future in /usr/local/lib/python3.6/dist-packages (from torch) (0.16.0)\n",
            "Requirement already satisfied: pillow>=4.1.1 in /usr/local/lib/python3.6/dist-packages (from torchvision) (7.0.0)\n",
            "Requirement already satisfied: uuid in /usr/local/lib/python3.6/dist-packages (from jovian) (1.30)\n",
            "Requirement already satisfied: requests in /usr/local/lib/python3.6/dist-packages (from jovian) (2.23.0)\n",
            "Requirement already satisfied: click in /usr/local/lib/python3.6/dist-packages (from jovian) (7.1.2)\n",
            "Requirement already satisfied: pyyaml in /usr/local/lib/python3.6/dist-packages (from jovian) (3.13)\n",
            "Requirement already satisfied: idna<3,>=2.5 in /usr/local/lib/python3.6/dist-packages (from requests->jovian) (2.10)\n",
            "Requirement already satisfied: chardet<4,>=3.0.2 in /usr/local/lib/python3.6/dist-packages (from requests->jovian) (3.0.4)\n",
            "Requirement already satisfied: certifi>=2017.4.17 in /usr/local/lib/python3.6/dist-packages (from requests->jovian) (2020.11.8)\n",
            "Requirement already satisfied: urllib3!=1.25.0,!=1.25.1,<1.26,>=1.21.1 in /usr/local/lib/python3.6/dist-packages (from requests->jovian) (1.24.3)\n"
          ],
          "name": "stdout"
        }
      ]
    },
    {
      "cell_type": "code",
      "metadata": {
        "id": "UrwrRUOCKVBA"
      },
      "source": [
        "import torch\n",
        "import jovian\n",
        "import torchvision\n",
        "import torch.nn as nn\n",
        "import pandas as pd\n",
        "import matplotlib.pyplot as plt\n",
        "import torch.nn.functional as F\n",
        "from torchvision.datasets.utils import download_url\n",
        "from torch.utils.data import DataLoader, TensorDataset, random_split"
      ],
      "execution_count": 169,
      "outputs": []
    },
    {
      "cell_type": "code",
      "metadata": {
        "id": "1rH3_vw6KVBB"
      },
      "source": [
        "project_name='02-insurance-linear-regression' # will be used by jovian.commit"
      ],
      "execution_count": 170,
      "outputs": []
    },
    {
      "cell_type": "markdown",
      "metadata": {
        "id": "T_BZH-ZZKVBB"
      },
      "source": [
        "## Step 1: Download and explore the data\n",
        "\n",
        "Let us begin by downloading the data. We'll use the `download_url` function from PyTorch to get the data as a CSV (comma-separated values) file. "
      ]
    },
    {
      "cell_type": "code",
      "metadata": {
        "_cell_guid": "79c7e3d0-c299-4dcb-8224-4455121ee9b0",
        "_uuid": "d629ff2d2480ee46fbb7e2d37f6b5fab8052498a",
        "colab": {
          "base_uri": "https://localhost:8080/"
        },
        "id": "VIBQkcBbKVBB",
        "outputId": "49068c79-f623-48fe-867b-149f585142f3"
      },
      "source": [
        "DATASET_URL = \"https://hub.jovian.ml/wp-content/uploads/2020/05/insurance.csv\"\n",
        "DATA_FILENAME = \"insurance.csv\"\n",
        "download_url(DATASET_URL, '.')"
      ],
      "execution_count": 171,
      "outputs": [
        {
          "output_type": "stream",
          "text": [
            "Using downloaded and verified file: ./insurance.csv\n"
          ],
          "name": "stdout"
        }
      ]
    },
    {
      "cell_type": "markdown",
      "metadata": {
        "id": "CQvukUL1KVBH"
      },
      "source": [
        "To load the dataset into memory, we'll use the `read_csv` function from the `pandas` library. The data will be loaded as a Pandas dataframe. See this short tutorial to learn more: https://data36.com/pandas-tutorial-1-basics-reading-data-files-dataframes-data-selection/"
      ]
    },
    {
      "cell_type": "code",
      "metadata": {
        "colab": {
          "base_uri": "https://localhost:8080/",
          "height": 206
        },
        "id": "xcXPQJ99KVBH",
        "outputId": "2a75f8e9-8609-44b7-a0fe-266bc1111acf"
      },
      "source": [
        "dataframe_raw = pd.read_csv(DATA_FILENAME)\n",
        "dataframe_raw.head()"
      ],
      "execution_count": 172,
      "outputs": [
        {
          "output_type": "execute_result",
          "data": {
            "text/html": [
              "<div>\n",
              "<style scoped>\n",
              "    .dataframe tbody tr th:only-of-type {\n",
              "        vertical-align: middle;\n",
              "    }\n",
              "\n",
              "    .dataframe tbody tr th {\n",
              "        vertical-align: top;\n",
              "    }\n",
              "\n",
              "    .dataframe thead th {\n",
              "        text-align: right;\n",
              "    }\n",
              "</style>\n",
              "<table border=\"1\" class=\"dataframe\">\n",
              "  <thead>\n",
              "    <tr style=\"text-align: right;\">\n",
              "      <th></th>\n",
              "      <th>age</th>\n",
              "      <th>sex</th>\n",
              "      <th>bmi</th>\n",
              "      <th>children</th>\n",
              "      <th>smoker</th>\n",
              "      <th>region</th>\n",
              "      <th>charges</th>\n",
              "    </tr>\n",
              "  </thead>\n",
              "  <tbody>\n",
              "    <tr>\n",
              "      <th>0</th>\n",
              "      <td>19</td>\n",
              "      <td>female</td>\n",
              "      <td>27.900</td>\n",
              "      <td>0</td>\n",
              "      <td>yes</td>\n",
              "      <td>southwest</td>\n",
              "      <td>16884.92400</td>\n",
              "    </tr>\n",
              "    <tr>\n",
              "      <th>1</th>\n",
              "      <td>18</td>\n",
              "      <td>male</td>\n",
              "      <td>33.770</td>\n",
              "      <td>1</td>\n",
              "      <td>no</td>\n",
              "      <td>southeast</td>\n",
              "      <td>1725.55230</td>\n",
              "    </tr>\n",
              "    <tr>\n",
              "      <th>2</th>\n",
              "      <td>28</td>\n",
              "      <td>male</td>\n",
              "      <td>33.000</td>\n",
              "      <td>3</td>\n",
              "      <td>no</td>\n",
              "      <td>southeast</td>\n",
              "      <td>4449.46200</td>\n",
              "    </tr>\n",
              "    <tr>\n",
              "      <th>3</th>\n",
              "      <td>33</td>\n",
              "      <td>male</td>\n",
              "      <td>22.705</td>\n",
              "      <td>0</td>\n",
              "      <td>no</td>\n",
              "      <td>northwest</td>\n",
              "      <td>21984.47061</td>\n",
              "    </tr>\n",
              "    <tr>\n",
              "      <th>4</th>\n",
              "      <td>32</td>\n",
              "      <td>male</td>\n",
              "      <td>28.880</td>\n",
              "      <td>0</td>\n",
              "      <td>no</td>\n",
              "      <td>northwest</td>\n",
              "      <td>3866.85520</td>\n",
              "    </tr>\n",
              "  </tbody>\n",
              "</table>\n",
              "</div>"
            ],
            "text/plain": [
              "   age     sex     bmi  children smoker     region      charges\n",
              "0   19  female  27.900         0    yes  southwest  16884.92400\n",
              "1   18    male  33.770         1     no  southeast   1725.55230\n",
              "2   28    male  33.000         3     no  southeast   4449.46200\n",
              "3   33    male  22.705         0     no  northwest  21984.47061\n",
              "4   32    male  28.880         0     no  northwest   3866.85520"
            ]
          },
          "metadata": {
            "tags": []
          },
          "execution_count": 172
        }
      ]
    },
    {
      "cell_type": "markdown",
      "metadata": {
        "id": "sT4js7YZKVBH"
      },
      "source": [
        "We're going to do a slight customization of the data, so that you every participant receives a slightly different version of the dataset. Fill in your name below as a string (enter at least 5 characters)"
      ]
    },
    {
      "cell_type": "code",
      "metadata": {
        "id": "JKPrgD1vKVBI"
      },
      "source": [
        "your_name = \"Joseph Itopa\" #at least 5 characters"
      ],
      "execution_count": 173,
      "outputs": []
    },
    {
      "cell_type": "markdown",
      "metadata": {
        "id": "C8WRFPnJKVBI"
      },
      "source": [
        "The `customize_dataset` function will customize the dataset slightly using your name as a source of random numbers."
      ]
    },
    {
      "cell_type": "code",
      "metadata": {
        "id": "OrIk8s8lKVBI"
      },
      "source": [
        "def customize_dataset(dataframe_raw, rand_str):\n",
        "    dataframe = dataframe_raw.copy(deep=True)\n",
        "    # drop some rows\n",
        "    dataframe = dataframe.sample(int(0.95*len(dataframe)), random_state=int(ord(rand_str[0])))\n",
        "    # scale input\n",
        "    dataframe.bmi = dataframe.bmi * ord(rand_str[1])/100.\n",
        "    # scale target\n",
        "    dataframe.charges = dataframe.charges * ord(rand_str[2])/100.\n",
        "    # drop column\n",
        "    if ord(rand_str[3]) % 2 == 1:\n",
        "        dataframe = dataframe.drop(['region'], axis=1)\n",
        "    return dataframe"
      ],
      "execution_count": 174,
      "outputs": []
    },
    {
      "cell_type": "code",
      "metadata": {
        "colab": {
          "base_uri": "https://localhost:8080/",
          "height": 206
        },
        "id": "e7hSJsAaKVBJ",
        "outputId": "df33f855-aefc-4d52-b8f3-d7eaf72cb5f9"
      },
      "source": [
        "dataframe = customize_dataset(dataframe_raw, your_name)\n",
        "dataframe.head()"
      ],
      "execution_count": 175,
      "outputs": [
        {
          "output_type": "execute_result",
          "data": {
            "text/html": [
              "<div>\n",
              "<style scoped>\n",
              "    .dataframe tbody tr th:only-of-type {\n",
              "        vertical-align: middle;\n",
              "    }\n",
              "\n",
              "    .dataframe tbody tr th {\n",
              "        vertical-align: top;\n",
              "    }\n",
              "\n",
              "    .dataframe thead th {\n",
              "        text-align: right;\n",
              "    }\n",
              "</style>\n",
              "<table border=\"1\" class=\"dataframe\">\n",
              "  <thead>\n",
              "    <tr style=\"text-align: right;\">\n",
              "      <th></th>\n",
              "      <th>age</th>\n",
              "      <th>sex</th>\n",
              "      <th>bmi</th>\n",
              "      <th>children</th>\n",
              "      <th>smoker</th>\n",
              "      <th>charges</th>\n",
              "    </tr>\n",
              "  </thead>\n",
              "  <tbody>\n",
              "    <tr>\n",
              "      <th>676</th>\n",
              "      <td>55</td>\n",
              "      <td>female</td>\n",
              "      <td>45.29910</td>\n",
              "      <td>3</td>\n",
              "      <td>no</td>\n",
              "      <td>14358.671035</td>\n",
              "    </tr>\n",
              "    <tr>\n",
              "      <th>217</th>\n",
              "      <td>27</td>\n",
              "      <td>male</td>\n",
              "      <td>25.64100</td>\n",
              "      <td>0</td>\n",
              "      <td>no</td>\n",
              "      <td>2856.296400</td>\n",
              "    </tr>\n",
              "    <tr>\n",
              "      <th>864</th>\n",
              "      <td>51</td>\n",
              "      <td>male</td>\n",
              "      <td>28.19400</td>\n",
              "      <td>0</td>\n",
              "      <td>no</td>\n",
              "      <td>10099.839350</td>\n",
              "    </tr>\n",
              "    <tr>\n",
              "      <th>751</th>\n",
              "      <td>21</td>\n",
              "      <td>male</td>\n",
              "      <td>32.16225</td>\n",
              "      <td>0</td>\n",
              "      <td>no</td>\n",
              "      <td>2192.311988</td>\n",
              "    </tr>\n",
              "    <tr>\n",
              "      <th>1106</th>\n",
              "      <td>49</td>\n",
              "      <td>female</td>\n",
              "      <td>33.21675</td>\n",
              "      <td>0</td>\n",
              "      <td>no</td>\n",
              "      <td>10336.382563</td>\n",
              "    </tr>\n",
              "  </tbody>\n",
              "</table>\n",
              "</div>"
            ],
            "text/plain": [
              "      age     sex       bmi  children smoker       charges\n",
              "676    55  female  45.29910         3     no  14358.671035\n",
              "217    27    male  25.64100         0     no   2856.296400\n",
              "864    51    male  28.19400         0     no  10099.839350\n",
              "751    21    male  32.16225         0     no   2192.311988\n",
              "1106   49  female  33.21675         0     no  10336.382563"
            ]
          },
          "metadata": {
            "tags": []
          },
          "execution_count": 175
        }
      ]
    },
    {
      "cell_type": "markdown",
      "metadata": {
        "id": "CsyzNs4_KVBJ"
      },
      "source": [
        "Let us answer some basic questions about the dataset. \n",
        "\n",
        "\n",
        "**Q: How many rows does the dataset have?**"
      ]
    },
    {
      "cell_type": "code",
      "metadata": {
        "colab": {
          "base_uri": "https://localhost:8080/"
        },
        "id": "glt3HEKLKVBJ",
        "outputId": "440c75ba-29ea-4c73-f5b6-12d4a33ac0bb"
      },
      "source": [
        "num_rows = dataframe.shape[0]\n",
        "print(num_rows)"
      ],
      "execution_count": 176,
      "outputs": [
        {
          "output_type": "stream",
          "text": [
            "1271\n"
          ],
          "name": "stdout"
        }
      ]
    },
    {
      "cell_type": "markdown",
      "metadata": {
        "id": "JEaFbFP8KVBK"
      },
      "source": [
        "**Q: How many columns doe the dataset have**"
      ]
    },
    {
      "cell_type": "code",
      "metadata": {
        "colab": {
          "base_uri": "https://localhost:8080/"
        },
        "id": "4VoLQNZkKVBK",
        "outputId": "5ef7b35c-9477-4fec-c8b0-e4eb571f87ec"
      },
      "source": [
        "num_cols = dataframe.shape[1]\n",
        "print(num_cols)"
      ],
      "execution_count": 177,
      "outputs": [
        {
          "output_type": "stream",
          "text": [
            "6\n"
          ],
          "name": "stdout"
        }
      ]
    },
    {
      "cell_type": "markdown",
      "metadata": {
        "id": "S2HYtZY7KVBK"
      },
      "source": [
        "**Q: What are the column titles of the input variables?**"
      ]
    },
    {
      "cell_type": "code",
      "metadata": {
        "colab": {
          "base_uri": "https://localhost:8080/"
        },
        "id": "LcG85EnfKVBK",
        "outputId": "d7d5c3f6-6a4b-4308-8a63-d8dd732e27dd"
      },
      "source": [
        "input_cols = dataframe.columns\n",
        "print(input_cols)"
      ],
      "execution_count": 178,
      "outputs": [
        {
          "output_type": "stream",
          "text": [
            "Index(['age', 'sex', 'bmi', 'children', 'smoker', 'charges'], dtype='object')\n"
          ],
          "name": "stdout"
        }
      ]
    },
    {
      "cell_type": "markdown",
      "metadata": {
        "id": "mFCL-SyBKVBK"
      },
      "source": [
        "**Q: Which of the input columns are non-numeric or categorial variables ?**\n",
        "\n",
        "Hint: `sex` is one of them. List the columns that are not numbers."
      ]
    },
    {
      "cell_type": "code",
      "metadata": {
        "colab": {
          "base_uri": "https://localhost:8080/",
          "height": 206
        },
        "id": "Vwg0-DjmKVBK",
        "outputId": "82fb4249-435f-4987-8207-dd4bc8bf0efd"
      },
      "source": [
        "categorical_cols = dataframe.select_dtypes(exclude=['int64','float64'])\n",
        "categorical_cols.head(5)"
      ],
      "execution_count": 179,
      "outputs": [
        {
          "output_type": "execute_result",
          "data": {
            "text/html": [
              "<div>\n",
              "<style scoped>\n",
              "    .dataframe tbody tr th:only-of-type {\n",
              "        vertical-align: middle;\n",
              "    }\n",
              "\n",
              "    .dataframe tbody tr th {\n",
              "        vertical-align: top;\n",
              "    }\n",
              "\n",
              "    .dataframe thead th {\n",
              "        text-align: right;\n",
              "    }\n",
              "</style>\n",
              "<table border=\"1\" class=\"dataframe\">\n",
              "  <thead>\n",
              "    <tr style=\"text-align: right;\">\n",
              "      <th></th>\n",
              "      <th>sex</th>\n",
              "      <th>smoker</th>\n",
              "    </tr>\n",
              "  </thead>\n",
              "  <tbody>\n",
              "    <tr>\n",
              "      <th>676</th>\n",
              "      <td>female</td>\n",
              "      <td>no</td>\n",
              "    </tr>\n",
              "    <tr>\n",
              "      <th>217</th>\n",
              "      <td>male</td>\n",
              "      <td>no</td>\n",
              "    </tr>\n",
              "    <tr>\n",
              "      <th>864</th>\n",
              "      <td>male</td>\n",
              "      <td>no</td>\n",
              "    </tr>\n",
              "    <tr>\n",
              "      <th>751</th>\n",
              "      <td>male</td>\n",
              "      <td>no</td>\n",
              "    </tr>\n",
              "    <tr>\n",
              "      <th>1106</th>\n",
              "      <td>female</td>\n",
              "      <td>no</td>\n",
              "    </tr>\n",
              "  </tbody>\n",
              "</table>\n",
              "</div>"
            ],
            "text/plain": [
              "         sex smoker\n",
              "676   female     no\n",
              "217     male     no\n",
              "864     male     no\n",
              "751     male     no\n",
              "1106  female     no"
            ]
          },
          "metadata": {
            "tags": []
          },
          "execution_count": 179
        }
      ]
    },
    {
      "cell_type": "markdown",
      "metadata": {
        "id": "M0zVju8uKVBK"
      },
      "source": [
        "**Q: What are the column titles of output/target variable(s)?**"
      ]
    },
    {
      "cell_type": "code",
      "metadata": {
        "id": "LejbV-tmKVBK"
      },
      "source": [
        "output_cols = ['charges']"
      ],
      "execution_count": 180,
      "outputs": []
    },
    {
      "cell_type": "markdown",
      "metadata": {
        "id": "auuz82BhKVBK"
      },
      "source": [
        "**Q: (Optional) What is the minimum, maximum and average value of the `charges` column? Can you show the distribution of values in a graph?**\n",
        "Use this data visualization cheatsheet for referece: https://jovian.ml/aakashns/dataviz-cheatsheet"
      ]
    },
    {
      "cell_type": "code",
      "metadata": {
        "id": "asRtwXxfKVBL",
        "colab": {
          "base_uri": "https://localhost:8080/",
          "height": 352
        },
        "outputId": "6cee0f7b-d148-4a44-a2f9-bfbdc4a327ca"
      },
      "source": [
        "# Write your answer here\n",
        "# Import libraries\n",
        "import matplotlib\n",
        "import matplotlib.pyplot as plt\n",
        "import seaborn as sns\n",
        "\n",
        "plt.title(\"Distribution of Charges\")\n",
        "sns.distplot(dataframe.charges, kde=True);"
      ],
      "execution_count": 181,
      "outputs": [
        {
          "output_type": "stream",
          "text": [
            "/usr/local/lib/python3.6/dist-packages/seaborn/distributions.py:2551: FutureWarning: `distplot` is a deprecated function and will be removed in a future version. Please adapt your code to use either `displot` (a figure-level function with similar flexibility) or `histplot` (an axes-level function for histograms).\n",
            "  warnings.warn(msg, FutureWarning)\n"
          ],
          "name": "stderr"
        },
        {
          "output_type": "display_data",
          "data": {
            "image/png": "[encoded data removed]",
            "text/plain": [
              "<Figure size 432x288 with 1 Axes>"
            ]
          },
          "metadata": {
            "tags": [],
            "needs_background": "light"
          }
        }
      ]
    },
    {
      "cell_type": "markdown",
      "metadata": {
        "id": "wditj8l6KVBL"
      },
      "source": [
        "Remember to commit your notebook to Jovian after every step, so that you don't lose your work."
      ]
    },
    {
      "cell_type": "code",
      "metadata": {
        "id": "jrutsM0pKVBL"
      },
      "source": [
        "!pip install jovian --upgrade -q"
      ],
      "execution_count": 182,
      "outputs": []
    },
    {
      "cell_type": "code",
      "metadata": {
        "id": "wrUKcHYVKVBL"
      },
      "source": [
        "import jovian"
      ],
      "execution_count": 183,
      "outputs": []
    },
    {
      "cell_type": "code",
      "metadata": {
        "id": "PYpzm21LKVBL",
        "colab": {
          "base_uri": "https://localhost:8080/"
        },
        "outputId": "f78f3fb6-eab6-4603-86ba-37781ed35c10"
      },
      "source": [
        "jovian.commit()"
      ],
      "execution_count": 184,
      "outputs": [
        {
          "output_type": "stream",
          "text": [
            "[jovian] Detected Colab notebook...\u001b[0m\n"
          ],
          "name": "stdout"
        },
        {
          "output_type": "stream",
          "text": [
            "\u001b[31m[jovian] Error: Please provide the project argument e.g. jovian.commit(project='my-project')\u001b[0m\n"
          ],
          "name": "stderr"
        }
      ]
    },
    {
      "cell_type": "markdown",
      "metadata": {
        "id": "u1IEG-i_KVBM"
      },
      "source": [
        "## Step 2: Prepare the dataset for training\n",
        "\n",
        "We need to convert the data from the Pandas dataframe into a PyTorch tensors for training. To do this, the first step is to convert it numpy arrays. If you've filled out `input_cols`, `categorial_cols` and `output_cols` correctly, this following function will perform the conversion to numpy arrays."
      ]
    },
    {
      "cell_type": "code",
      "metadata": {
        "id": "aJnblbhIKVBM"
      },
      "source": [
        "def dataframe_to_arrays(dataframe):\n",
        "    # Make a copy of the original dataframe\n",
        "    dataframe1 = dataframe.copy(deep=True)\n",
        "    # Convert non-numeric categorical columns to numbers\n",
        "    for col in categorical_cols:\n",
        "        dataframe1[col] = dataframe1[col].astype('category').cat.codes\n",
        "    # Extract input & outupts as numpy arrays\n",
        "    inputs_array = dataframe1[input_cols].to_numpy()\n",
        "    targets_array = dataframe1[output_cols].to_numpy()\n",
        "    return inputs_array, targets_array"
      ],
      "execution_count": 185,
      "outputs": []
    },
    {
      "cell_type": "markdown",
      "metadata": {
        "id": "k-WI6H4IKVBM"
      },
      "source": [
        "Read through the [Pandas documentation](https://pandas.pydata.org/pandas-docs/stable/user_guide/categorical.html) to understand how we're converting categorical variables into numbers."
      ]
    },
    {
      "cell_type": "code",
      "metadata": {
        "id": "MEeEitLEKVBM",
        "colab": {
          "base_uri": "https://localhost:8080/"
        },
        "outputId": "27a91a3a-dc03-4393-e93c-7b9434349588"
      },
      "source": [
        "inputs_array, targets_array = dataframe_to_arrays(dataframe)\n",
        "inputs_array, targets_array"
      ],
      "execution_count": 186,
      "outputs": [
        {
          "output_type": "execute_result",
          "data": {
            "text/plain": [
              "(array([[5.50000000e+01, 0.00000000e+00, 4.52991000e+01, 3.00000000e+00,\n",
              "         0.00000000e+00, 1.43586710e+04],\n",
              "        [2.70000000e+01, 1.00000000e+00, 2.56410000e+01, 0.00000000e+00,\n",
              "         0.00000000e+00, 2.85629640e+03],\n",
              "        [5.10000000e+01, 1.00000000e+00, 2.81940000e+01, 0.00000000e+00,\n",
              "         0.00000000e+00, 1.00998394e+04],\n",
              "        ...,\n",
              "        [5.30000000e+01, 1.00000000e+00, 2.93151000e+01, 2.00000000e+00,\n",
              "         0.00000000e+00, 1.29310334e+04],\n",
              "        [1.90000000e+01, 0.00000000e+00, 4.49550000e+01, 0.00000000e+00,\n",
              "         0.00000000e+00, 2.02323870e+03],\n",
              "        [5.50000000e+01, 1.00000000e+00, 3.62637000e+01, 1.00000000e+00,\n",
              "         0.00000000e+00, 1.24286092e+04]]), array([[14358.671035],\n",
              "        [ 2856.2964  ],\n",
              "        [10099.83935 ],\n",
              "        ...,\n",
              "        [12931.033435],\n",
              "        [ 2023.2387  ],\n",
              "        [12428.609245]]))"
            ]
          },
          "metadata": {
            "tags": []
          },
          "execution_count": 186
        }
      ]
    },
    {
      "cell_type": "markdown",
      "metadata": {
        "id": "lnXWNDQvKVBM"
      },
      "source": [
        "**Q: Convert the numpy arrays `inputs_array` and `targets_array` into PyTorch tensors. Make sure that the data type is `torch.float32`.**"
      ]
    },
    {
      "cell_type": "code",
      "metadata": {
        "id": "83QIj4_nKVBM"
      },
      "source": [
        "import numpy as np\n",
        "inputs = torch.tensor(inputs_array, dtype=torch.float32)\n",
        "targets = torch.tensor(targets_array, dtype=torch.float32)"
      ],
      "execution_count": 187,
      "outputs": []
    },
    {
      "cell_type": "code",
      "metadata": {
        "id": "Ym5b4BBEKVBM",
        "colab": {
          "base_uri": "https://localhost:8080/"
        },
        "outputId": "b0c0822b-d0ee-4397-da3d-8f1d60a69405"
      },
      "source": [
        "inputs.dtype, targets.dtype"
      ],
      "execution_count": 188,
      "outputs": [
        {
          "output_type": "execute_result",
          "data": {
            "text/plain": [
              "(torch.float32, torch.float32)"
            ]
          },
          "metadata": {
            "tags": []
          },
          "execution_count": 188
        }
      ]
    },
    {
      "cell_type": "markdown",
      "metadata": {
        "id": "VnKUXeeSKVBM"
      },
      "source": [
        "Next, we need to create PyTorch datasets & data loaders for training & validation. We'll start by creating a `TensorDataset`."
      ]
    },
    {
      "cell_type": "code",
      "metadata": {
        "id": "TWlQKiPnKVBN"
      },
      "source": [
        "dataset = TensorDataset(inputs, targets)"
      ],
      "execution_count": 189,
      "outputs": []
    },
    {
      "cell_type": "markdown",
      "metadata": {
        "id": "4WflpNKuKVBN"
      },
      "source": [
        "**Q: Pick a number between `0.1` and `0.2` to determine the fraction of data that will be used for creating the validation set. Then use `random_split` to create training & validation datasets.**"
      ]
    },
    {
      "cell_type": "code",
      "metadata": {
        "id": "KdSaIKMDKVBN"
      },
      "source": [
        "val_percent = 0.15 # between 0.1 and 0.2\n",
        "val_size = int(num_rows * val_percent)\n",
        "train_size = num_rows - val_size\n",
        "\n",
        "train_ds, val_ds = torch.utils.data.random_split(dataset, [train_size, val_size]) # Use the random_split function to split dataset into 2 parts of the desired length\n",
        "# Split train and test\n"
      ],
      "execution_count": 190,
      "outputs": []
    },
    {
      "cell_type": "markdown",
      "metadata": {
        "id": "Se18DWk0K523"
      },
      "source": [
        ""
      ]
    },
    {
      "cell_type": "markdown",
      "metadata": {
        "id": "plBLlGiqKVBN"
      },
      "source": [
        "Finally, we can create data loaders for training & validation.\n",
        "\n",
        "**Q: Pick a batch size for the data loader.**"
      ]
    },
    {
      "cell_type": "code",
      "metadata": {
        "id": "xRRzi7FpKVBN"
      },
      "source": [
        "batch_size = 32"
      ],
      "execution_count": 203,
      "outputs": []
    },
    {
      "cell_type": "code",
      "metadata": {
        "id": "Z_TEeS72KVBN"
      },
      "source": [
        "train_loader = DataLoader(train_ds, batch_size, shuffle=True)\n",
        "val_loader = DataLoader(val_ds, batch_size)"
      ],
      "execution_count": 204,
      "outputs": []
    },
    {
      "cell_type": "markdown",
      "metadata": {
        "id": "4SpEhSqKKVBN"
      },
      "source": [
        "Let's look at a batch of data to verify everything is working fine so far."
      ]
    },
    {
      "cell_type": "code",
      "metadata": {
        "id": "L4A_NR-5KVBN",
        "colab": {
          "base_uri": "https://localhost:8080/"
        },
        "outputId": "9401d5c4-ce83-48f2-ef12-972ea0c49e63"
      },
      "source": [
        "for xb, yb in train_loader:\n",
        "    print(\"inputs:\", xb)\n",
        "    print(\"targets:\", yb)\n",
        "    break"
      ],
      "execution_count": 205,
      "outputs": [
        {
          "output_type": "stream",
          "text": [
            "inputs: tensor([[3.1000e+01, 0.0000e+00, 3.6275e+01, 1.0000e+00, 0.0000e+00, 5.4490e+03],\n",
            "        [5.4000e+01, 0.0000e+00, 3.5409e+01, 3.0000e+00, 0.0000e+00, 3.1421e+04],\n",
            "        [3.7000e+01, 1.0000e+00, 3.3111e+01, 2.0000e+00, 0.0000e+00, 7.3674e+03],\n",
            "        [6.2000e+01, 0.0000e+00, 3.6852e+01, 0.0000e+00, 0.0000e+00, 1.5482e+04],\n",
            "        [3.3000e+01, 0.0000e+00, 3.6519e+01, 2.0000e+00, 0.0000e+00, 6.1813e+03],\n",
            "        [5.8000e+01, 0.0000e+00, 3.0159e+01, 0.0000e+00, 0.0000e+00, 1.4056e+04],\n",
            "        [2.7000e+01, 0.0000e+00, 2.2250e+01, 3.0000e+00, 1.0000e+00, 1.8884e+04],\n",
            "        [6.3000e+01, 1.0000e+00, 4.5871e+01, 3.0000e+00, 0.0000e+00, 1.7888e+04],\n",
            "        [5.1000e+01, 0.0000e+00, 4.1125e+01, 3.0000e+00, 1.0000e+00, 5.3193e+04],\n",
            "        [4.4000e+01, 1.0000e+00, 3.5537e+01, 2.0000e+00, 0.0000e+00, 9.3337e+03],\n",
            "        [2.6000e+01, 1.0000e+00, 3.4482e+01, 0.0000e+00, 0.0000e+00, 3.1045e+03],\n",
            "        [4.6000e+01, 1.0000e+00, 2.4753e+01, 0.0000e+00, 0.0000e+00, 8.2192e+03],\n",
            "        [2.1000e+01, 0.0000e+00, 2.4253e+01, 1.0000e+00, 1.0000e+00, 1.7663e+04],\n",
            "        [3.4000e+01, 0.0000e+00, 2.9315e+01, 1.0000e+00, 0.0000e+00, 6.1931e+03],\n",
            "        [6.3000e+01, 0.0000e+00, 3.5742e+01, 2.0000e+00, 1.0000e+00, 5.4401e+04],\n",
            "        [2.7000e+01, 1.0000e+00, 3.3633e+01, 3.0000e+00, 0.0000e+00, 4.8999e+03],\n",
            "        [2.2000e+01, 0.0000e+00, 2.6973e+01, 0.0000e+00, 0.0000e+00, 2.4730e+03],\n",
            "        [1.8000e+01, 1.0000e+00, 3.9072e+01, 1.0000e+00, 0.0000e+00, 1.9867e+03],\n",
            "        [2.3000e+01, 1.0000e+00, 1.9297e+01, 1.0000e+00, 0.0000e+00, 3.1915e+03],\n",
            "        [5.4000e+01, 0.0000e+00, 3.4676e+01, 0.0000e+00, 0.0000e+00, 1.1890e+04],\n",
            "        [3.1000e+01, 1.0000e+00, 2.8749e+01, 3.0000e+00, 1.0000e+00, 2.2080e+04],\n",
            "        [1.9000e+01, 1.0000e+00, 2.2533e+01, 0.0000e+00, 0.0000e+00, 1.4286e+03],\n",
            "        [2.0000e+01, 1.0000e+00, 3.1108e+01, 1.0000e+00, 1.0000e+00, 2.0194e+04],\n",
            "        [3.9000e+01, 0.0000e+00, 2.7628e+01, 3.0000e+00, 1.0000e+00, 2.4909e+04],\n",
            "        [3.4000e+01, 0.0000e+00, 2.6152e+01, 0.0000e+00, 0.0000e+00, 5.7412e+03],\n",
            "        [2.4000e+01, 1.0000e+00, 2.8638e+01, 0.0000e+00, 0.0000e+00, 2.2689e+03],\n",
            "        [3.7000e+01, 0.0000e+00, 2.9304e+01, 0.0000e+00, 1.0000e+00, 2.2470e+04],\n",
            "        [3.8000e+01, 1.0000e+00, 3.1380e+01, 1.0000e+00, 0.0000e+00, 6.3071e+03],\n",
            "        [1.8000e+01, 1.0000e+00, 2.8999e+01, 0.0000e+00, 0.0000e+00, 1.9653e+03],\n",
            "        [2.3000e+01, 0.0000e+00, 3.6386e+01, 2.0000e+00, 1.0000e+00, 4.1424e+04],\n",
            "        [4.8000e+01, 0.0000e+00, 3.5853e+01, 2.0000e+00, 0.0000e+00, 1.1550e+04],\n",
            "        [5.7000e+01, 0.0000e+00, 4.2180e+01, 2.0000e+00, 0.0000e+00, 1.4543e+04]])\n",
            "targets: tensor([[ 5449.0083],\n",
            "        [31421.1445],\n",
            "        [ 7367.3721],\n",
            "        [15481.8984],\n",
            "        [ 6181.2935],\n",
            "        [14056.3330],\n",
            "        [18883.5684],\n",
            "        [17888.4668],\n",
            "        [53193.3789],\n",
            "        [ 9333.7090],\n",
            "        [ 3104.5037],\n",
            "        [ 8219.1709],\n",
            "        [17662.9707],\n",
            "        [ 6193.1387],\n",
            "        [54401.1016],\n",
            "        [ 4899.8555],\n",
            "        [ 2473.0393],\n",
            "        [ 1986.6710],\n",
            "        [ 3191.4709],\n",
            "        [11889.7715],\n",
            "        [22079.9355],\n",
            "        [ 1428.5990],\n",
            "        [20194.4375],\n",
            "        [24908.9199],\n",
            "        [ 5741.2329],\n",
            "        [ 2268.8926],\n",
            "        [22470.1289],\n",
            "        [ 6307.1372],\n",
            "        [ 1965.2646],\n",
            "        [41424.1641],\n",
            "        [11549.7363],\n",
            "        [14543.1377]])\n"
          ],
          "name": "stdout"
        }
      ]
    },
    {
      "cell_type": "markdown",
      "metadata": {
        "id": "VE1prTv7KVBN"
      },
      "source": [
        "Let's save our work by committing to Jovian."
      ]
    },
    {
      "cell_type": "code",
      "metadata": {
        "id": "eo1y8SFVKVBN",
        "colab": {
          "base_uri": "https://localhost:8080/"
        },
        "outputId": "16c7ea3c-1f49-44a1-bc8c-bc11e22fb129"
      },
      "source": [
        "jovian.commit(project=project_name, environment=None)"
      ],
      "execution_count": 194,
      "outputs": [
        {
          "output_type": "stream",
          "text": [
            "[jovian] Detected Colab notebook...\u001b[0m\n"
          ],
          "name": "stdout"
        },
        {
          "output_type": "stream",
          "text": [
            "\u001b[31m[jovian] Error: Colab File Id is not provided. Make sure to execute the cell where the Id is set.\u001b[0m\n"
          ],
          "name": "stderr"
        }
      ]
    },
    {
      "cell_type": "markdown",
      "metadata": {
        "id": "2LsFmv2eKVBO"
      },
      "source": [
        "## Step 3: Create a Linear Regression Model\n",
        "\n",
        "Our model itself is a fairly straightforward linear regression (we'll build more complex models in the next assignment). \n"
      ]
    },
    {
      "cell_type": "code",
      "metadata": {
        "id": "8Y4HTOUqKVBO"
      },
      "source": [
        "input_size = len(input_cols)\n",
        "output_size = len(output_cols)"
      ],
      "execution_count": 206,
      "outputs": []
    },
    {
      "cell_type": "markdown",
      "metadata": {
        "id": "A-MVXeFRKVBO"
      },
      "source": [
        "**Q: Complete the class definition below by filling out the constructor (`__init__`), `forward`, `training_step` and `validation_step` methods.**\n",
        "\n",
        "Hint: Think carefully about picking a good loss function (it's not cross entropy). Maybe try 2-3 of them and see which one works best. See https://pytorch.org/docs/stable/nn.functional.html#loss-functions"
      ]
    },
    {
      "cell_type": "code",
      "metadata": {
        "id": "JUOciMHaKVBO"
      },
      "source": [
        "class InsuranceModel(nn.Module):\n",
        "    def __init__(self):\n",
        "        super().__init__()\n",
        "        self.linear = nn.Linear(input_size, output_size)  # fill this (hint: use input_size & output_size defined above)\n",
        "        \n",
        "    def forward(self, xb):\n",
        "        xb = xb\n",
        "        out = self.linear(xb)                          # fill this\n",
        "        return out\n",
        "    \n",
        "    def training_step(self, batch):\n",
        "        inputs, targets = batch \n",
        "        # Generate predictions\n",
        "        out = self(inputs)          \n",
        "        # Calcuate loss\n",
        "        loss = F.l1_loss(out, targets)    # fill this\n",
        "        return loss\n",
        "    \n",
        "    def validation_step(self, batch):\n",
        "        inputs, targets = batch\n",
        "        # Generate predictions\n",
        "        out = self(inputs)\n",
        "        # Calculate loss\n",
        "        loss = F.l1_loss(out, targets)       # fill this    \n",
        "        return {'val_loss': loss.detach()}\n",
        "        \n",
        "    def validation_epoch_end(self, outputs):\n",
        "        batch_losses = [x['val_loss'] for x in outputs]\n",
        "        epoch_loss = torch.stack(batch_losses).mean()   # Combine losses\n",
        "        return {'val_loss': epoch_loss.item()}\n",
        "    \n",
        "    def epoch_end(self, epoch, result, num_epochs):\n",
        "        # Print result every 20th epoch\n",
        "        if (epoch+1) % 20 == 0 or epoch == num_epochs-1:\n",
        "            print(\"Epoch [{}], val_loss: {:.4f}\".format(epoch+1, result['val_loss']))"
      ],
      "execution_count": 210,
      "outputs": []
    },
    {
      "cell_type": "markdown",
      "metadata": {
        "id": "IRB06W7lKVBO"
      },
      "source": [
        "Let us create a model using the `InsuranceModel` class. You may need to come back later and re-run the next cell to reinitialize the model, in case the loss becomes `nan` or `infinity`."
      ]
    },
    {
      "cell_type": "code",
      "metadata": {
        "id": "Vdh2FKySKVBO"
      },
      "source": [
        "model = InsuranceModel()"
      ],
      "execution_count": 211,
      "outputs": []
    },
    {
      "cell_type": "markdown",
      "metadata": {
        "id": "A9031ubdKVBO"
      },
      "source": [
        "Let's check out the weights and biases of the model using `model.parameters`."
      ]
    },
    {
      "cell_type": "code",
      "metadata": {
        "id": "gHEh74wGKVBP",
        "colab": {
          "base_uri": "https://localhost:8080/"
        },
        "outputId": "7486e798-69a7-4658-bca3-8be4150e8b1a"
      },
      "source": [
        "for parameter in model.parameters():\n",
        "    print(\"parameters:\", parameter)"
      ],
      "execution_count": 212,
      "outputs": [
        {
          "output_type": "stream",
          "text": [
            "parameters: Parameter containing:\n",
            "tensor([[-0.1387,  0.3144,  0.1905, -0.2783, -0.0319,  0.1267]],\n",
            "       requires_grad=True)\n",
            "parameters: Parameter containing:\n",
            "tensor([-0.0825], requires_grad=True)\n"
          ],
          "name": "stdout"
        }
      ]
    },
    {
      "cell_type": "markdown",
      "metadata": {
        "id": "YXKIj8P6KVBP"
      },
      "source": [
        "One final commit before we train the model."
      ]
    },
    {
      "cell_type": "code",
      "metadata": {
        "id": "LBGU_6NqKVBP",
        "colab": {
          "base_uri": "https://localhost:8080/"
        },
        "outputId": "239c12dc-3dbb-4409-cb29-1968ee866c4e"
      },
      "source": [
        "jovian.commit(project=project_name, environment=None)"
      ],
      "execution_count": 199,
      "outputs": [
        {
          "output_type": "stream",
          "text": [
            "[jovian] Detected Colab notebook...\u001b[0m\n"
          ],
          "name": "stdout"
        },
        {
          "output_type": "stream",
          "text": [
            "\u001b[31m[jovian] Error: Colab File Id is not provided. Make sure to execute the cell where the Id is set.\u001b[0m\n"
          ],
          "name": "stderr"
        }
      ]
    },
    {
      "cell_type": "markdown",
      "metadata": {
        "id": "Dtp_YGYmKVBP"
      },
      "source": [
        "## Step 4: Train the model to fit the data\n",
        "\n",
        "To train our model, we'll use the same `fit` function explained in the lecture. That's the benefit of defining a generic training loop - you can use it for any problem."
      ]
    },
    {
      "cell_type": "code",
      "metadata": {
        "id": "ZVxa-KAsKVBP"
      },
      "source": [
        "def evaluate(model, val_loader):\n",
        "    outputs = [model.validation_step(batch) for batch in val_loader]\n",
        "    return model.validation_epoch_end(outputs)\n",
        "\n",
        "def fit(epochs, lr, model, train_loader, val_loader, opt_func=torch.optim.SGD):\n",
        "    history = []\n",
        "    optimizer = opt_func(model.parameters(), lr)\n",
        "    for epoch in range(epochs):\n",
        "        # Training Phase \n",
        "        for batch in train_loader:\n",
        "            loss = model.training_step(batch)\n",
        "            loss.backward()\n",
        "            optimizer.step()\n",
        "            optimizer.zero_grad()\n",
        "        # Validation phase\n",
        "        result = evaluate(model, val_loader)\n",
        "        model.epoch_end(epoch, result, epochs)\n",
        "        history.append(result)\n",
        "    return history"
      ],
      "execution_count": 213,
      "outputs": []
    },
    {
      "cell_type": "markdown",
      "metadata": {
        "id": "I7XZJathKVBP"
      },
      "source": [
        "**Q: Use the `evaluate` function to calculate the loss on the validation set before training.**"
      ]
    },
    {
      "cell_type": "code",
      "metadata": {
        "id": "Bzcyc4BjKVBP",
        "colab": {
          "base_uri": "https://localhost:8080/"
        },
        "outputId": "e12f0692-2a19-4aa7-b701-879fd7625bc9"
      },
      "source": [
        "result = model.eval() # Use the the evaluate function\n",
        "print(result)"
      ],
      "execution_count": 214,
      "outputs": [
        {
          "output_type": "stream",
          "text": [
            "InsuranceModel(\n",
            "  (linear): Linear(in_features=6, out_features=1, bias=True)\n",
            ")\n"
          ],
          "name": "stdout"
        }
      ]
    },
    {
      "cell_type": "markdown",
      "metadata": {
        "id": "gXyIraIiKVBP"
      },
      "source": [
        "\n",
        "We are now ready to train the model. You may need to run the training loop many times, for different number of epochs and with different learning rates, to get a good result. Also, if your loss becomes too large (or `nan`), you may have to re-initialize the model by running the cell `model = InsuranceModel()`. Experiment with this for a while, and try to get to as low a loss as possible."
      ]
    },
    {
      "cell_type": "markdown",
      "metadata": {
        "id": "JoFFSqH4KVBP"
      },
      "source": [
        "**Q: Train the model 4-5 times with different learning rates & for different number of epochs.**\n",
        "\n",
        "Hint: Vary learning rates by orders of 10 (e.g. `1e-2`, `1e-3`, `1e-4`, `1e-5`, `1e-6`) to figure out what works."
      ]
    },
    {
      "cell_type": "code",
      "metadata": {
        "id": "mm6GYyQzKVBP",
        "colab": {
          "base_uri": "https://localhost:8080/"
        },
        "outputId": "402b0e53-af24-4b6a-efd7-2f404138ccc5"
      },
      "source": [
        "epochs = 100\n",
        "lr = 1e-3\n",
        "history1 = fit(epochs, lr, model, train_loader, val_loader)"
      ],
      "execution_count": 234,
      "outputs": [
        {
          "output_type": "stream",
          "text": [
            "Epoch [20], val_loss: 3715.4004\n",
            "Epoch [40], val_loss: 220569.0625\n",
            "Epoch [60], val_loss: 205957.3281\n",
            "Epoch [80], val_loss: 972.8382\n",
            "Epoch [100], val_loss: 7126.7539\n"
          ],
          "name": "stdout"
        }
      ]
    },
    {
      "cell_type": "code",
      "metadata": {
        "id": "K5HFa268KVBQ",
        "colab": {
          "base_uri": "https://localhost:8080/"
        },
        "outputId": "da9639f7-a15c-4065-89a0-41dc1dab744c"
      },
      "source": [
        "epochs = 100\n",
        "lr = 1e-4\n",
        "history2 = fit(epochs, lr, model, train_loader, val_loader)"
      ],
      "execution_count": 235,
      "outputs": [
        {
          "output_type": "stream",
          "text": [
            "Epoch [20], val_loss: 30134.0469\n",
            "Epoch [40], val_loss: 19529.3535\n",
            "Epoch [60], val_loss: 860.2327\n",
            "Epoch [80], val_loss: 22416.2031\n",
            "Epoch [100], val_loss: 13003.7607\n"
          ],
          "name": "stdout"
        }
      ]
    },
    {
      "cell_type": "code",
      "metadata": {
        "id": "CGq5L7jjKVBQ",
        "colab": {
          "base_uri": "https://localhost:8080/"
        },
        "outputId": "65d11454-998c-4f2e-ad7a-fde243a0cbe8"
      },
      "source": [
        "epochs = 100\n",
        "lr = 1e-5\n",
        "history3 = fit(epochs, lr, model, train_loader, val_loader)"
      ],
      "execution_count": 236,
      "outputs": [
        {
          "output_type": "stream",
          "text": [
            "Epoch [20], val_loss: 370.8091\n",
            "Epoch [40], val_loss: 2125.1331\n",
            "Epoch [60], val_loss: 1368.5309\n",
            "Epoch [80], val_loss: 1944.9774\n",
            "Epoch [100], val_loss: 1341.2936\n"
          ],
          "name": "stdout"
        }
      ]
    },
    {
      "cell_type": "code",
      "metadata": {
        "id": "ZMLu5u5XKVBQ",
        "colab": {
          "base_uri": "https://localhost:8080/"
        },
        "outputId": "ca926f76-ce02-44a2-c5b5-03495aa35db6"
      },
      "source": [
        "epochs = 100\n",
        "lr = 1e-6\n",
        "history4 = fit(epochs, lr, model, train_loader, val_loader)"
      ],
      "execution_count": 238,
      "outputs": [
        {
          "output_type": "stream",
          "text": [
            "Epoch [20], val_loss: 109.4453\n",
            "Epoch [40], val_loss: 39.7887\n",
            "Epoch [60], val_loss: 197.6038\n",
            "Epoch [80], val_loss: 102.1510\n",
            "Epoch [100], val_loss: 147.3135\n"
          ],
          "name": "stdout"
        }
      ]
    },
    {
      "cell_type": "code",
      "metadata": {
        "id": "jaKLomj5KVBQ",
        "colab": {
          "base_uri": "https://localhost:8080/"
        },
        "outputId": "47fc5926-5be5-4a1d-d1f4-f041f484f526"
      },
      "source": [
        "epochs = 100\n",
        "lr = 1e-7\n",
        "history5 = fit(epochs, lr, model, train_loader, val_loader)"
      ],
      "execution_count": 239,
      "outputs": [
        {
          "output_type": "stream",
          "text": [
            "Epoch [20], val_loss: 36.1166\n",
            "Epoch [40], val_loss: 35.2282\n",
            "Epoch [60], val_loss: 37.6382\n",
            "Epoch [80], val_loss: 36.2720\n",
            "Epoch [100], val_loss: 35.7410\n"
          ],
          "name": "stdout"
        }
      ]
    },
    {
      "cell_type": "markdown",
      "metadata": {
        "id": "z8eaxEACKVBQ"
      },
      "source": [
        "**Q: What is the final validation loss of your model?**"
      ]
    },
    {
      "cell_type": "code",
      "metadata": {
        "id": "6wcrQZstKVBR",
        "colab": {
          "base_uri": "https://localhost:8080/"
        },
        "outputId": "f3447486-679f-4208-cb60-3f8f325e7e65"
      },
      "source": [
        "val_loss = history5[-1]['val_loss']\n",
        "val_loss"
      ],
      "execution_count": 240,
      "outputs": [
        {
          "output_type": "execute_result",
          "data": {
            "text/plain": [
              "35.741024017333984"
            ]
          },
          "metadata": {
            "tags": []
          },
          "execution_count": 240
        }
      ]
    },
    {
      "cell_type": "markdown",
      "metadata": {
        "id": "pVfQVWrHKVBR"
      },
      "source": [
        "Let's log the final validation loss to Jovian and commit the notebook"
      ]
    },
    {
      "cell_type": "code",
      "metadata": {
        "id": "bhn-Cy2PKVBR"
      },
      "source": [
        "jovian.log_metrics(val_loss=val_loss)"
      ],
      "execution_count": null,
      "outputs": []
    },
    {
      "cell_type": "code",
      "metadata": {
        "id": "UE924xpyKVBR"
      },
      "source": [
        "jovian.commit(project=project_name, environment=None)"
      ],
      "execution_count": null,
      "outputs": []
    },
    {
      "cell_type": "markdown",
      "metadata": {
        "id": "3NtJFmwAKVBR"
      },
      "source": [
        "Now scroll back up, re-initialize the model, and try different set of values for batch size, number of epochs, learning rate etc. Commit each experiment and use the \"Compare\" and \"View Diff\" options on Jovian to compare the different results."
      ]
    },
    {
      "cell_type": "markdown",
      "metadata": {
        "id": "vpvIN_03KVBR"
      },
      "source": [
        "## Step 5: Make predictions using the trained model\n",
        "\n",
        "**Q: Complete the following function definition to make predictions on a single input**"
      ]
    },
    {
      "cell_type": "code",
      "metadata": {
        "id": "O1Wj08W3KVBR"
      },
      "source": [
        "def predict_single(input, target, model):\n",
        "    inputs = input.unsqueeze(0)\n",
        "    predictions = model(inputs)             # fill this\n",
        "    prediction = predictions[0].detach()\n",
        "    print(\"Input:\", input)\n",
        "    print(\"Target:\", target)\n",
        "    print(\"Prediction:\", prediction)"
      ],
      "execution_count": 241,
      "outputs": []
    },
    {
      "cell_type": "code",
      "metadata": {
        "id": "M72S9HzwKVBR",
        "colab": {
          "base_uri": "https://localhost:8080/"
        },
        "outputId": "76e5c631-07f7-43fd-d7db-94c52f218156"
      },
      "source": [
        "input, target = val_ds[0]\n",
        "predict_single(input, target, model)"
      ],
      "execution_count": 242,
      "outputs": [
        {
          "output_type": "stream",
          "text": [
            "Input: tensor([4.0000e+01, 1.0000e+00, 3.2584e+01, 1.0000e+00, 0.0000e+00, 7.3526e+03])\n",
            "Target: tensor([7352.6440])\n",
            "Prediction: tensor([7392.2461])\n"
          ],
          "name": "stdout"
        }
      ]
    },
    {
      "cell_type": "code",
      "metadata": {
        "id": "WBlkcxabKVBR",
        "colab": {
          "base_uri": "https://localhost:8080/"
        },
        "outputId": "cc99b2e4-8e55-4df5-c284-d7f5d4f71f50"
      },
      "source": [
        "input, target = val_ds[10]\n",
        "predict_single(input, target, model)"
      ],
      "execution_count": 243,
      "outputs": [
        {
          "output_type": "stream",
          "text": [
            "Input: tensor([6.1000e+01, 1.0000e+00, 4.0071e+01, 3.0000e+00, 0.0000e+00, 3.2132e+04])\n",
            "Target: tensor([32132.4805])\n",
            "Prediction: tensor([32128.1191])\n"
          ],
          "name": "stdout"
        }
      ]
    },
    {
      "cell_type": "code",
      "metadata": {
        "id": "I-3PZnDZKVBR",
        "colab": {
          "base_uri": "https://localhost:8080/"
        },
        "outputId": "e3e309bb-dbe7-40a5-aaef-2ef24478fab3"
      },
      "source": [
        "input, target = val_ds[23]\n",
        "predict_single(input, target, model)"
      ],
      "execution_count": 244,
      "outputs": [
        {
          "output_type": "stream",
          "text": [
            "Input: tensor([  18.0000,    0.0000,   39.5438,    0.0000,    0.0000, 2542.8003])\n",
            "Target: tensor([2542.8003])\n",
            "Prediction: tensor([2588.5498])\n"
          ],
          "name": "stdout"
        }
      ]
    },
    {
      "cell_type": "markdown",
      "metadata": {
        "id": "VdijyWLnKVBR"
      },
      "source": [
        "Are you happy with your model's predictions? Try to improve them further."
      ]
    },
    {
      "cell_type": "markdown",
      "metadata": {
        "id": "onfFcqR_KVBR"
      },
      "source": [
        "## (Optional) Step 6: Try another dataset & blog about it\n",
        "\n",
        "While this last step is optional for the submission of your assignment, we highly recommend that you do it. Try to replicate this notebook for a different linear regression or logistic regression problem. This will help solidify your understanding, and give you a chance to differentiate the generic patterns in machine learning from problem-specific details.You can use one of these starer notebooks (just change the dataset):\n",
        "\n",
        "- Linear regression (minimal): https://jovian.ai/aakashns/housing-linear-minimal\n",
        "- Logistic regression (minimal): https://jovian.ai/aakashns/mnist-logistic-minimal\n",
        "\n",
        "Here are some sources to find good datasets:\n",
        "\n",
        "- https://lionbridge.ai/datasets/10-open-datasets-for-linear-regression/\n",
        "- https://www.kaggle.com/rtatman/datasets-for-regression-analysis\n",
        "- https://archive.ics.uci.edu/ml/datasets.php?format=&task=reg&att=&area=&numAtt=&numIns=&type=&sort=nameUp&view=table\n",
        "- https://people.sc.fsu.edu/~jburkardt/datasets/regression/regression.html\n",
        "- https://archive.ics.uci.edu/ml/datasets/wine+quality\n",
        "- https://pytorch.org/docs/stable/torchvision/datasets.html\n",
        "\n",
        "We also recommend that you write a blog about your approach to the problem. Here is a suggested structure for your post (feel free to experiment with it):\n",
        "\n",
        "- Interesting title & subtitle\n",
        "- Overview of what the blog covers (which dataset, linear regression or logistic regression, intro to PyTorch)\n",
        "- Downloading & exploring the data\n",
        "- Preparing the data for training\n",
        "- Creating a model using PyTorch\n",
        "- Training the model to fit the data\n",
        "- Your thoughts on how to experiment with different hyperparmeters to reduce loss\n",
        "- Making predictions using the model\n",
        "\n",
        "As with the previous assignment, you can [embed Juptyer notebook cells & outputs from Jovian](https://medium.com/jovianml/share-and-embed-jupyter-notebooks-online-with-jovian-ml-df709a03064e) into your blog. \n",
        "\n",
        "Don't forget to share your work on the forum: https://jovian.ai/forum/t/linear-regression-and-logistic-regression-notebooks-and-blog-posts/14039"
      ]
    },
    {
      "cell_type": "code",
      "metadata": {
        "id": "JuLGKRNxKVBR"
      },
      "source": [
        "jovian.commit(project=project_name, environment=None)\n",
        "jovian.commit(project=project_name, environment=None) # try again, kaggle fails sometimes"
      ],
      "execution_count": null,
      "outputs": []
    },
    {
      "cell_type": "code",
      "metadata": {
        "id": "FNLQGiUrKVBS"
      },
      "source": [
        ""
      ],
      "execution_count": null,
      "outputs": []
    }
  ]
}