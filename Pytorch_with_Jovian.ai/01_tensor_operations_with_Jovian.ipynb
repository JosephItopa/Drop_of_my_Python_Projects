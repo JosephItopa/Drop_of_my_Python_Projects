{
  "nbformat": 4,
  "nbformat_minor": 0,
  "metadata": {
    "kernelspec": {
      "display_name": "Python 3",
      "language": "python",
      "name": "python3"
    },
    "language_info": {
      "codemirror_mode": {
        "name": "ipython",
        "version": 3
      },
      "file_extension": ".py",
      "mimetype": "text/x-python",
      "name": "python",
      "nbconvert_exporter": "python",
      "pygments_lexer": "ipython3",
      "version": "3.8.5"
    },
    "colab": {
      "name": "01-tensor-operations-with-Jovian.ipynb",
      "provenance": []
    }
  },
  "cells": [
    {
      "cell_type": "markdown",
      "metadata": {
        "id": "SGpEdaKc6Hj-"
      },
      "source": [
        "# Five Interesting Pytorch functions\n",
        "Pytorch is a machine learning library built using python by Facebook AI lab for deep learning projects such as computer vision, natural language processing, etc. \n",
        "\n",
        "I will be discussing six pytorch features with example.\n",
        "\n",
        "- is_tensor\n",
        "- squeeze / unsqueeze\n",
        "- dstack / hstack\n",
        "- generators\n",
        "- sigmoid\n",
        "\n",
        "Before we begin, let's install and import PyTorch"
      ]
    },
    {
      "cell_type": "code",
      "metadata": {
        "colab": {
          "base_uri": "https://localhost:8080/"
        },
        "id": "HuhvPos36HkA",
        "outputId": "511f81c8-7698-4267-8f25-769975d5cea0"
      },
      "source": [
        "# Linux / Binder\n",
        "# !pip install numpy torch==1.7.0+cpu torchvision==0.8.1+cpu torchaudio==0.7.0 -f https://download.pytorch.org/whl/torch_stable.html\n",
        "\n",
        "# Windows\n",
        "!pip install numpy torch==1.7.0+cpu torchvision==0.8.1+cpu torchaudio==0.7.0 -f https://download.pytorch.org/whl/torch_stable.html\n",
        "\n",
        "# MacOS\n",
        "# !pip install numpy torch torchvision torchaudio"
      ],
      "execution_count": 2,
      "outputs": [
        {
          "output_type": "stream",
          "text": [
            "Looking in links: https://download.pytorch.org/whl/torch_stable.html\n",
            "Requirement already satisfied: numpy in /usr/local/lib/python3.6/dist-packages (1.18.5)\n",
            "Collecting torch==1.7.0+cpu\n",
            "\u001b[?25l  Downloading https://download.pytorch.org/whl/cpu/torch-1.7.0%2Bcpu-cp36-cp36m-linux_x86_64.whl (159.3MB)\n",
            "\u001b[K     |████████████████████████████████| 159.3MB 91kB/s \n",
            "\u001b[33mWARNING: Retrying (Retry(total=4, connect=None, read=None, redirect=None, status=None)) after connection broken by 'ProtocolError('Connection aborted.', ConnectionResetError(104, 'Connection reset by peer'))': /simple/torchvision/\u001b[0m\n",
            "\u001b[?25hCollecting torchvision==0.8.1+cpu\n",
            "\u001b[?25l  Downloading https://download.pytorch.org/whl/cpu/torchvision-0.8.1%2Bcpu-cp36-cp36m-linux_x86_64.whl (11.8MB)\n",
            "\u001b[K     |████████████████████████████████| 11.8MB 30.7MB/s \n",
            "\u001b[?25hCollecting torchaudio==0.7.0\n",
            "\u001b[?25l  Downloading https://files.pythonhosted.org/packages/3f/23/6b54106b3de029d3f10cf8debc302491c17630357449c900d6209665b302/torchaudio-0.7.0-cp36-cp36m-manylinux1_x86_64.whl (7.6MB)\n",
            "\u001b[K     |████████████████████████████████| 7.6MB 3.5MB/s \n",
            "\u001b[?25hRequirement already satisfied: future in /usr/local/lib/python3.6/dist-packages (from torch==1.7.0+cpu) (0.16.0)\n",
            "Requirement already satisfied: typing-extensions in /usr/local/lib/python3.6/dist-packages (from torch==1.7.0+cpu) (3.7.4.3)\n",
            "Requirement already satisfied: dataclasses in /usr/local/lib/python3.6/dist-packages (from torch==1.7.0+cpu) (0.8)\n",
            "Requirement already satisfied: pillow>=4.1.1 in /usr/local/lib/python3.6/dist-packages (from torchvision==0.8.1+cpu) (7.0.0)\n",
            "Installing collected packages: torch, torchvision, torchaudio\n",
            "  Found existing installation: torch 1.7.0+cu101\n",
            "    Uninstalling torch-1.7.0+cu101:\n",
            "      Successfully uninstalled torch-1.7.0+cu101\n",
            "  Found existing installation: torchvision 0.8.1+cu101\n",
            "    Uninstalling torchvision-0.8.1+cu101:\n",
            "      Successfully uninstalled torchvision-0.8.1+cu101\n",
            "Successfully installed torch-1.7.0+cpu torchaudio-0.7.0 torchvision-0.8.1+cpu\n"
          ],
          "name": "stdout"
        }
      ]
    },
    {
      "cell_type": "code",
      "metadata": {
        "id": "kxYzeEvG6HkC"
      },
      "source": [
        "# Import torch and other required modules\n",
        "import torch"
      ],
      "execution_count": 3,
      "outputs": []
    },
    {
      "cell_type": "markdown",
      "metadata": {
        "id": "O9kWrnJm6HkC"
      },
      "source": [
        "## Function 1 - is_tensor()\n",
        "\n",
        "is_tensor() aids one to confirm if a variable is a tensor or not. Its basically helps one against typechecking."
      ]
    },
    {
      "cell_type": "code",
      "metadata": {
        "colab": {
          "base_uri": "https://localhost:8080/"
        },
        "id": "jzAT72-56HkD",
        "outputId": "a6307668-1bac-4d25-fe3c-892df0cd0657"
      },
      "source": [
        "# Example 1:  with 2 by 2 Matrix \n",
        "tensor_2_2 = torch.tensor([[6, 8], [12, 4]])\n",
        "torch.is_tensor(tensor_2_2) #Right way of doing it"
      ],
      "execution_count": null,
      "outputs": [
        {
          "output_type": "execute_result",
          "data": {
            "text/plain": [
              "True"
            ]
          },
          "metadata": {
            "tags": []
          },
          "execution_count": 8
        }
      ]
    },
    {
      "cell_type": "markdown",
      "metadata": {
        "id": "fsIDK5Pq6HkF"
      },
      "source": [
        "Example 1 shows we use the method or function on a tensor. We store the tensor in a variable and then, parse the tensor through the is_tensor method, which help us to confirm if its teensor or not."
      ]
    },
    {
      "cell_type": "code",
      "metadata": {
        "colab": {
          "base_uri": "https://localhost:8080/"
        },
        "id": "YZKMix8I-hWH",
        "outputId": "8581056c-01aa-47d9-dff5-d61056e210cd"
      },
      "source": [
        "# Example 2:  with 3 by 4 Matrix \n",
        "tensor_3_4 = torch.tensor([[3,5,8],[4,6,2],[1,1,1],[5,5,5]])\n",
        "torch.is_tensor(tensor_3_4)"
      ],
      "execution_count": null,
      "outputs": [
        {
          "output_type": "execute_result",
          "data": {
            "text/plain": [
              "True"
            ]
          },
          "metadata": {
            "tags": []
          },
          "execution_count": 10
        }
      ]
    },
    {
      "cell_type": "markdown",
      "metadata": {
        "id": "QIyh66CX6HkH"
      },
      "source": [
        "Example 2 is similar to the first one but we alter the dimension of the matrix and then try it and it worked."
      ]
    },
    {
      "cell_type": "code",
      "metadata": {
        "colab": {
          "base_uri": "https://localhost:8080/",
          "height": 172
        },
        "id": "x3jvs0iT-VgH",
        "outputId": "6d795a99-359b-4967-e2c4-4dcb859f1a10"
      },
      "source": [
        "# Example 3:  How not use the method \n",
        "tensor_2_2.is_tensor() #Wrong way of doing it"
      ],
      "execution_count": null,
      "outputs": [
        {
          "output_type": "error",
          "ename": "AttributeError",
          "evalue": "ignored",
          "traceback": [
            "\u001b[0;31m---------------------------------------------------------------------------\u001b[0m",
            "\u001b[0;31mAttributeError\u001b[0m                            Traceback (most recent call last)",
            "\u001b[0;32m<ipython-input-9-e9cd67cf701c>\u001b[0m in \u001b[0;36m<module>\u001b[0;34m()\u001b[0m\n\u001b[0;32m----> 1\u001b[0;31m \u001b[0mtensor_2_2\u001b[0m\u001b[0;34m.\u001b[0m\u001b[0mis_tensor\u001b[0m\u001b[0;34m(\u001b[0m\u001b[0;34m)\u001b[0m \u001b[0;31m#Wrong way of doing it\u001b[0m\u001b[0;34m\u001b[0m\u001b[0;34m\u001b[0m\u001b[0m\n\u001b[0m",
            "\u001b[0;31mAttributeError\u001b[0m: 'Tensor' object has no attribute 'is_tensor'"
          ]
        }
      ]
    },
    {
      "cell_type": "markdown",
      "metadata": {
        "id": "OXY_PRbT6HkJ"
      },
      "source": [
        "Example 3 shows we can't use the method by using the chaining technique."
      ]
    },
    {
      "cell_type": "markdown",
      "metadata": {
        "id": "mIVRot0T6HkJ"
      },
      "source": [
        "**Closing comments:** We have seen how we can use is_tensor() function and also how not use it. Above all, it becomes relevant when one intends to avoid typechecking style because is_tensor() is easy to use."
      ]
    },
    {
      "cell_type": "markdown",
      "metadata": {
        "id": "PBpGtulS6HkJ"
      },
      "source": [
        "Let's save our work using Jovian before continuing."
      ]
    },
    {
      "cell_type": "code",
      "metadata": {
        "colab": {
          "base_uri": "https://localhost:8080/"
        },
        "id": "gckfFb_C6HkJ",
        "outputId": "d1da55fd-a7d9-427c-d25f-ec93d21f6851"
      },
      "source": [
        "!pip install jovian --upgrade --quiet"
      ],
      "execution_count": null,
      "outputs": [
        {
          "output_type": "stream",
          "text": [
            "\u001b[?25l\r\u001b[K     |█████                           | 10kB 21.0MB/s eta 0:00:01\r\u001b[K     |██████████                      | 20kB 26.7MB/s eta 0:00:01\r\u001b[K     |██████████████▉                 | 30kB 29.2MB/s eta 0:00:01\r\u001b[K     |███████████████████▉            | 40kB 20.9MB/s eta 0:00:01\r\u001b[K     |████████████████████████▉       | 51kB 16.9MB/s eta 0:00:01\r\u001b[K     |█████████████████████████████▊  | 61kB 15.1MB/s eta 0:00:01\r\u001b[K     |████████████████████████████████| 71kB 6.4MB/s \n",
            "\u001b[?25h  Building wheel for uuid (setup.py) ... \u001b[?25l\u001b[?25hdone\n"
          ],
          "name": "stdout"
        }
      ]
    },
    {
      "cell_type": "code",
      "metadata": {
        "id": "zcCbUnUS6HkL"
      },
      "source": [
        "import jovian"
      ],
      "execution_count": null,
      "outputs": []
    },
    {
      "cell_type": "markdown",
      "metadata": {
        "id": "fW8JwHeJ6HkO"
      },
      "source": [
        "## Function 2 - Torch.Sigmoid\n",
        "\n",
        "Torch.Sigmoid aids in generating sigmoids output of an input tensor."
      ]
    },
    {
      "cell_type": "code",
      "metadata": {
        "colab": {
          "base_uri": "https://localhost:8080/"
        },
        "id": "SBu7w2iE6HkO",
        "outputId": "c4c128d7-098c-494b-ffe9-4c9e0f2871de"
      },
      "source": [
        "# Example 1 - Using 4 by 4 tensors\n",
        "tensor_4_4 = torch.randn(4,4) \n",
        "torch.sigmoid(tensor_4_4)"
      ],
      "execution_count": null,
      "outputs": [
        {
          "output_type": "execute_result",
          "data": {
            "text/plain": [
              "tensor([[0.3066, 0.7273, 0.1178, 0.5707],\n",
              "        [0.8368, 0.5739, 0.6258, 0.8098],\n",
              "        [0.6415, 0.2513, 0.6646, 0.6127],\n",
              "        [0.5038, 0.6232, 0.3273, 0.7124]])"
            ]
          },
          "metadata": {
            "tags": []
          },
          "execution_count": 15
        }
      ]
    },
    {
      "cell_type": "markdown",
      "metadata": {
        "id": "ac5wf5s16HkO"
      },
      "source": [
        "Example 1 shows how one can convert tensor values into sigmoid values. We simply generate a tensor from a random 4 by 4 matrix. And then store it in a variable tensor_4_4, then parse the variable to the method (torch.sigmoid())."
      ]
    },
    {
      "cell_type": "code",
      "metadata": {
        "colab": {
          "base_uri": "https://localhost:8080/"
        },
        "id": "g_swYA2M6HkO",
        "outputId": "4ef1a170-a491-4af8-a1db-73ee5d94efd1"
      },
      "source": [
        "# Example 2 - working\n",
        "tensor_2_2a = torch.tensor([[2.0, 3.0], [1.2, 2.4]])\n",
        "torch.sigmoid(tensor_2_2a)"
      ],
      "execution_count": null,
      "outputs": [
        {
          "output_type": "execute_result",
          "data": {
            "text/plain": [
              "tensor([[0.8808, 0.9526],\n",
              "        [0.7685, 0.9168]])"
            ]
          },
          "metadata": {
            "tags": []
          },
          "execution_count": 20
        }
      ]
    },
    {
      "cell_type": "markdown",
      "metadata": {
        "id": "G-a1nVVr6HkO"
      },
      "source": [
        "Example 2 shows we can do the same with self generate tensor instead of using randomly generated tensor. Its basically the same with example 1, just that the inputs are generated differently."
      ]
    },
    {
      "cell_type": "code",
      "metadata": {
        "id": "BnB_kRaR6HkO"
      },
      "source": [
        "# Example 3 - breaking (to illustrate when it breaks)"
      ],
      "execution_count": null,
      "outputs": []
    },
    {
      "cell_type": "code",
      "metadata": {
        "colab": {
          "base_uri": "https://localhost:8080/",
          "height": 191
        },
        "id": "iSMCJxRcBi-r",
        "outputId": "136733ac-d8b7-468e-e259-ae35aefd7cbf"
      },
      "source": [
        "tensor_2_3 = torch.tensor([[3, 3], [5, 2], [9,1]])\n",
        "torch.sigmoid(tensor_2_3)"
      ],
      "execution_count": null,
      "outputs": [
        {
          "output_type": "error",
          "ename": "RuntimeError",
          "evalue": "ignored",
          "traceback": [
            "\u001b[0;31m---------------------------------------------------------------------------\u001b[0m",
            "\u001b[0;31mRuntimeError\u001b[0m                              Traceback (most recent call last)",
            "\u001b[0;32m<ipython-input-16-d99faba06a67>\u001b[0m in \u001b[0;36m<module>\u001b[0;34m()\u001b[0m\n\u001b[1;32m      1\u001b[0m \u001b[0mtensor_2_3\u001b[0m \u001b[0;34m=\u001b[0m \u001b[0mtorch\u001b[0m\u001b[0;34m.\u001b[0m\u001b[0mtensor\u001b[0m\u001b[0;34m(\u001b[0m\u001b[0;34m[\u001b[0m\u001b[0;34m[\u001b[0m\u001b[0;36m3\u001b[0m\u001b[0;34m,\u001b[0m \u001b[0;36m3\u001b[0m\u001b[0;34m]\u001b[0m\u001b[0;34m,\u001b[0m \u001b[0;34m[\u001b[0m\u001b[0;36m5\u001b[0m\u001b[0;34m,\u001b[0m \u001b[0;36m2\u001b[0m\u001b[0;34m]\u001b[0m\u001b[0;34m,\u001b[0m \u001b[0;34m[\u001b[0m\u001b[0;36m9\u001b[0m\u001b[0;34m,\u001b[0m\u001b[0;36m1\u001b[0m\u001b[0;34m]\u001b[0m\u001b[0;34m]\u001b[0m\u001b[0;34m)\u001b[0m\u001b[0;34m\u001b[0m\u001b[0;34m\u001b[0m\u001b[0m\n\u001b[0;32m----> 2\u001b[0;31m \u001b[0mtorch\u001b[0m\u001b[0;34m.\u001b[0m\u001b[0msigmoid\u001b[0m\u001b[0;34m(\u001b[0m\u001b[0mtensor_2_3\u001b[0m\u001b[0;34m)\u001b[0m\u001b[0;34m\u001b[0m\u001b[0;34m\u001b[0m\u001b[0m\n\u001b[0m",
            "\u001b[0;31mRuntimeError\u001b[0m: \"sigmoid_cpu\" not implemented for 'Long'"
          ]
        }
      ]
    },
    {
      "cell_type": "markdown",
      "metadata": {
        "id": "0MWKxZFf6HkQ"
      },
      "source": [
        "Example 3 shows how torch.sigmoid() function is not sensitive to integers or whole numbers because it assumes its a 'Long integer' "
      ]
    },
    {
      "cell_type": "markdown",
      "metadata": {
        "id": "FUWirfQt6HkQ"
      },
      "source": [
        "**Closing comments:** We have learnt how to use torch.sigmoid function to convert tensor values to sigmoid values and also, the datatype that the function is sensitive to. "
      ]
    },
    {
      "cell_type": "code",
      "metadata": {
        "id": "tL3m6yc56HkR",
        "outputId": "689a0713-9252-4904-8529-12f43d9305bb"
      },
      "source": [
        "jovian.commit(project='01-tensor-operations')"
      ],
      "execution_count": null,
      "outputs": [
        {
          "output_type": "display_data",
          "data": {
            "application/javascript": [
              "window.require && require([\"base/js/namespace\"],function(Jupyter){Jupyter.notebook.save_checkpoint()})"
            ],
            "text/plain": [
              "<IPython.core.display.Javascript object>"
            ]
          },
          "metadata": {
            "tags": []
          }
        },
        {
          "output_type": "stream",
          "text": [
            "[jovian] Attempting to save notebook..\u001b[0m\n",
            "[jovian] Updating notebook \"aakashns/01-tensor-operations\" on https://jovian.ai/\u001b[0m\n",
            "[jovian] Uploading notebook..\u001b[0m\n",
            "[jovian] Capturing environment..\u001b[0m\n",
            "[jovian] Committed successfully! https://jovian.ai/aakashns/01-tensor-operations\u001b[0m\n"
          ],
          "name": "stdout"
        },
        {
          "output_type": "execute_result",
          "data": {
            "text/plain": [
              "'https://jovian.ai/aakashns/01-tensor-operations'"
            ]
          },
          "metadata": {
            "tags": []
          },
          "execution_count": 16
        }
      ]
    },
    {
      "cell_type": "markdown",
      "metadata": {
        "id": "Yar259sh6HkU"
      },
      "source": [
        "## Function 3 - Squeeze and Unsqueeze\n",
        "\n",
        "The squeeze and unsqueeze function helps to change the size or shape of a tensor."
      ]
    },
    {
      "cell_type": "code",
      "metadata": {
        "colab": {
          "base_uri": "https://localhost:8080/"
        },
        "id": "ahB3qtLu6HkU",
        "outputId": "f7b34132-3463-4889-a83f-5471f4530548"
      },
      "source": [
        "# Example 1: Squeezing tensors\n",
        "x = torch.zeros(3, 1, 5, 2, 4)\n",
        "print(\"Orignial size, x: \",x.size())\n",
        "y = torch.squeeze(x)\n",
        "print(\"Squeezed size, y: \",y.size())\n",
        "\n",
        "x1 = torch.zeros(1, 2, 2, 1, 2)\n",
        "y0 = torch.squeeze(x1, 0) #0\n",
        "print(\"Squeezed, y0: \", y0.size()) \n",
        "y1 = torch.squeeze(x1, 1)  #1\n",
        "print(\"Squeezed, y1: \", y1.size())\n",
        "y2 = torch.squeeze(x1, -2)  #-2\n",
        "print(\"Squeezed, y2: \", y2.size())"
      ],
      "execution_count": 5,
      "outputs": [
        {
          "output_type": "stream",
          "text": [
            "Orignial size, x:  torch.Size([3, 1, 5, 2, 4])\n",
            "Squeezed size, y:  torch.Size([3, 5, 2, 4])\n",
            "Squeezed, y0:  torch.Size([2, 2, 1, 2])\n",
            "Squeezed, y1:  torch.Size([1, 2, 2, 1, 2])\n",
            "Squeezed, y2:  torch.Size([1, 2, 2, 2])\n"
          ],
          "name": "stdout"
        }
      ]
    },
    {
      "cell_type": "markdown",
      "metadata": {
        "id": "_nxvQ2g16HkV"
      },
      "source": [
        "In example 1, we were able to alter the shape of the tensor, x. x and x1 were the input tensors, after squeezing, the shape have been reduced from 1 by 5 to 1 by 4. However, this is between -2 to 1 in (x, **0**). "
      ]
    },
    {
      "cell_type": "code",
      "metadata": {
        "colab": {
          "base_uri": "https://localhost:8080/"
        },
        "id": "VfsATcvE6HkV",
        "outputId": "78ce433f-b5df-46f6-c22c-bf9c62909903"
      },
      "source": [
        "# Example 2: Unsqueezing tensors\n",
        "\n",
        "x = torch.tensor([4, 2, 3, 4])\n",
        "print(torch.unsqueeze(x, 0))\n",
        "print(torch.unsqueeze(x, 1))\n",
        "print(torch.unsqueeze(x, -2))"
      ],
      "execution_count": 6,
      "outputs": [
        {
          "output_type": "stream",
          "text": [
            "tensor([[4, 2, 3, 4]])\n",
            "tensor([[4],\n",
            "        [2],\n",
            "        [3],\n",
            "        [4]])\n",
            "tensor([[4, 2, 3, 4]])\n"
          ],
          "name": "stdout"
        }
      ]
    },
    {
      "cell_type": "markdown",
      "metadata": {
        "id": "0zReSwlJ6HkW"
      },
      "source": [
        "Example 2 shows how we can unsqueeze tensors by using the torch.unsqueeze() with the tensors as an input argument."
      ]
    },
    {
      "cell_type": "code",
      "metadata": {
        "colab": {
          "base_uri": "https://localhost:8080/",
          "height": 227
        },
        "id": "BR-hztK26HkW",
        "outputId": "a5cffd56-311d-49e0-85c9-11ba722fd289"
      },
      "source": [
        "# Example 3 - breaking (to illustrate when it breaks)\n",
        "x2 = torch.zeros(3)\n",
        "y4 = torch.squeeze(x2, 2)\n",
        "print(\"Squeezed:\", y4.size())\n"
      ],
      "execution_count": null,
      "outputs": [
        {
          "output_type": "error",
          "ename": "IndexError",
          "evalue": "ignored",
          "traceback": [
            "\u001b[0;31m---------------------------------------------------------------------------\u001b[0m",
            "\u001b[0;31mIndexError\u001b[0m                                Traceback (most recent call last)",
            "\u001b[0;32m<ipython-input-39-85990c3e4918>\u001b[0m in \u001b[0;36m<module>\u001b[0;34m()\u001b[0m\n\u001b[1;32m      1\u001b[0m \u001b[0;31m# Example 3 - breaking (to illustrate when it breaks)\u001b[0m\u001b[0;34m\u001b[0m\u001b[0;34m\u001b[0m\u001b[0;34m\u001b[0m\u001b[0m\n\u001b[1;32m      2\u001b[0m \u001b[0mx2\u001b[0m \u001b[0;34m=\u001b[0m \u001b[0mtorch\u001b[0m\u001b[0;34m.\u001b[0m\u001b[0mzeros\u001b[0m\u001b[0;34m(\u001b[0m\u001b[0;36m3\u001b[0m\u001b[0;34m)\u001b[0m\u001b[0;34m\u001b[0m\u001b[0;34m\u001b[0m\u001b[0m\n\u001b[0;32m----> 3\u001b[0;31m \u001b[0my4\u001b[0m \u001b[0;34m=\u001b[0m \u001b[0mtorch\u001b[0m\u001b[0;34m.\u001b[0m\u001b[0msqueeze\u001b[0m\u001b[0;34m(\u001b[0m\u001b[0mx2\u001b[0m\u001b[0;34m,\u001b[0m \u001b[0;36m2\u001b[0m\u001b[0;34m)\u001b[0m\u001b[0;34m\u001b[0m\u001b[0;34m\u001b[0m\u001b[0m\n\u001b[0m\u001b[1;32m      4\u001b[0m \u001b[0mprint\u001b[0m\u001b[0;34m(\u001b[0m\u001b[0;34m\"Squeezed:\"\u001b[0m\u001b[0;34m,\u001b[0m \u001b[0my4\u001b[0m\u001b[0;34m.\u001b[0m\u001b[0msize\u001b[0m\u001b[0;34m(\u001b[0m\u001b[0;34m)\u001b[0m\u001b[0;34m)\u001b[0m\u001b[0;34m\u001b[0m\u001b[0;34m\u001b[0m\u001b[0m\n",
            "\u001b[0;31mIndexError\u001b[0m: Dimension out of range (expected to be in range of [-1, 0], but got 2)"
          ]
        }
      ]
    },
    {
      "cell_type": "markdown",
      "metadata": {
        "id": "yrlFpQ1o6HkW"
      },
      "source": [
        "Example 3, shows that squeeze.tensor() has a range and any value out of the range cannot be taken."
      ]
    },
    {
      "cell_type": "markdown",
      "metadata": {
        "id": "4-p3Xrmi6HkW"
      },
      "source": [
        "**Closing comments:** We learnt how to use both the squeeze and unsqueeze pytorch functions.\n"
      ]
    },
    {
      "cell_type": "code",
      "metadata": {
        "id": "bnS352_w6HkX",
        "outputId": "b78bff3a-11c1-4397-be13-611d1ac137a2"
      },
      "source": [
        "jovian.commit(project='01-tensor-operations')"
      ],
      "execution_count": null,
      "outputs": [
        {
          "output_type": "display_data",
          "data": {
            "application/javascript": [
              "window.require && require([\"base/js/namespace\"],function(Jupyter){Jupyter.notebook.save_checkpoint()})"
            ],
            "text/plain": [
              "<IPython.core.display.Javascript object>"
            ]
          },
          "metadata": {
            "tags": []
          }
        },
        {
          "output_type": "stream",
          "text": [
            "[jovian] Attempting to save notebook..\u001b[0m\n",
            "[jovian] Updating notebook \"aakashns/01-tensor-operations\" on https://jovian.ai/\u001b[0m\n",
            "[jovian] Uploading notebook..\u001b[0m\n",
            "[jovian] Capturing environment..\u001b[0m\n",
            "[jovian] Committed successfully! https://jovian.ai/aakashns/01-tensor-operations\u001b[0m\n"
          ],
          "name": "stdout"
        },
        {
          "output_type": "execute_result",
          "data": {
            "text/plain": [
              "'https://jovian.ai/aakashns/01-tensor-operations'"
            ]
          },
          "metadata": {
            "tags": []
          },
          "execution_count": 17
        }
      ]
    },
    {
      "cell_type": "markdown",
      "metadata": {
        "id": "hj1ZLo_-6HkY"
      },
      "source": [
        "## Function 4 - Dstack and Hstack\n",
        "\n",
        "Dstack and Hstack is all about how we can concatenate tensors using pytorch."
      ]
    },
    {
      "cell_type": "code",
      "metadata": {
        "colab": {
          "base_uri": "https://localhost:8080/"
        },
        "id": "CladSs9H6HkY",
        "outputId": "fd49ead3-9eb8-4c16-9052-4beb55932c95"
      },
      "source": [
        "# Example 1: dstack example\n",
        "a = torch.tensor([3, 2, 4])\n",
        "b = torch.tensor([6, 4, 8])\n",
        "torch.dstack((a,b))"
      ],
      "execution_count": null,
      "outputs": [
        {
          "output_type": "execute_result",
          "data": {
            "text/plain": [
              "tensor([[[3, 6],\n",
              "         [2, 4],\n",
              "         [4, 8]]])"
            ]
          },
          "metadata": {
            "tags": []
          },
          "execution_count": 61
        }
      ]
    },
    {
      "cell_type": "markdown",
      "metadata": {
        "id": "GW1PhFeD6HkY"
      },
      "source": [
        "Example 1 shows how dstack concatenate tensors vertically."
      ]
    },
    {
      "cell_type": "code",
      "metadata": {
        "colab": {
          "base_uri": "https://localhost:8080/"
        },
        "id": "PCxxJMee6HkZ",
        "outputId": "34bde2aa-ccd7-4a75-e136-2f3a3b10c4bd"
      },
      "source": [
        "# Example 2 - working\n",
        "a = torch.tensor([4, 3, 6])\n",
        "b = torch.tensor([6, 4, 8])\n",
        "torch.hstack((a,b))"
      ],
      "execution_count": null,
      "outputs": [
        {
          "output_type": "execute_result",
          "data": {
            "text/plain": [
              "tensor([4, 3, 6, 6, 4, 8])"
            ]
          },
          "metadata": {
            "tags": []
          },
          "execution_count": 62
        }
      ]
    },
    {
      "cell_type": "markdown",
      "metadata": {
        "id": "1OwMRn916HkZ"
      },
      "source": [
        "Example 2 shows how hstack concatenate tensors horizontally."
      ]
    },
    {
      "cell_type": "code",
      "metadata": {
        "colab": {
          "base_uri": "https://localhost:8080/",
          "height": 227
        },
        "id": "QmpJeipP6HkZ",
        "outputId": "993b0df8-63b0-44af-d737-20fb7fff6e45"
      },
      "source": [
        "# Example 3 - breaking (to illustrate when it breaks)\n",
        "a = torch.tensor([4, 2, 8,9])\n",
        "b = torch.tensor([5, 5, 7])\n",
        "print(torch.hstack((a,b)))\n",
        "print(torch.dstack((a,b)))"
      ],
      "execution_count": null,
      "outputs": [
        {
          "output_type": "stream",
          "text": [
            "tensor([4, 2, 8, 9, 5, 5, 7])\n"
          ],
          "name": "stdout"
        },
        {
          "output_type": "error",
          "ename": "RuntimeError",
          "evalue": "ignored",
          "traceback": [
            "\u001b[0;31m---------------------------------------------------------------------------\u001b[0m",
            "\u001b[0;31mRuntimeError\u001b[0m                              Traceback (most recent call last)",
            "\u001b[0;32m<ipython-input-64-3e685bb0f36b>\u001b[0m in \u001b[0;36m<module>\u001b[0;34m()\u001b[0m\n\u001b[1;32m      3\u001b[0m \u001b[0mb\u001b[0m \u001b[0;34m=\u001b[0m \u001b[0mtorch\u001b[0m\u001b[0;34m.\u001b[0m\u001b[0mtensor\u001b[0m\u001b[0;34m(\u001b[0m\u001b[0;34m[\u001b[0m\u001b[0;36m5\u001b[0m\u001b[0;34m,\u001b[0m \u001b[0;36m5\u001b[0m\u001b[0;34m,\u001b[0m \u001b[0;36m7\u001b[0m\u001b[0;34m]\u001b[0m\u001b[0;34m)\u001b[0m\u001b[0;34m\u001b[0m\u001b[0;34m\u001b[0m\u001b[0m\n\u001b[1;32m      4\u001b[0m \u001b[0mprint\u001b[0m\u001b[0;34m(\u001b[0m\u001b[0mtorch\u001b[0m\u001b[0;34m.\u001b[0m\u001b[0mhstack\u001b[0m\u001b[0;34m(\u001b[0m\u001b[0;34m(\u001b[0m\u001b[0ma\u001b[0m\u001b[0;34m,\u001b[0m\u001b[0mb\u001b[0m\u001b[0;34m)\u001b[0m\u001b[0;34m)\u001b[0m\u001b[0;34m)\u001b[0m\u001b[0;34m\u001b[0m\u001b[0;34m\u001b[0m\u001b[0m\n\u001b[0;32m----> 5\u001b[0;31m \u001b[0mprint\u001b[0m\u001b[0;34m(\u001b[0m\u001b[0mtorch\u001b[0m\u001b[0;34m.\u001b[0m\u001b[0mdstack\u001b[0m\u001b[0;34m(\u001b[0m\u001b[0;34m(\u001b[0m\u001b[0ma\u001b[0m\u001b[0;34m,\u001b[0m\u001b[0mb\u001b[0m\u001b[0;34m)\u001b[0m\u001b[0;34m)\u001b[0m\u001b[0;34m)\u001b[0m\u001b[0;34m\u001b[0m\u001b[0;34m\u001b[0m\u001b[0m\n\u001b[0m",
            "\u001b[0;31mRuntimeError\u001b[0m: Sizes of tensors must match except in dimension 2. Got 4 and 3 in dimension 1 (The offending index is 1)"
          ]
        }
      ]
    },
    {
      "cell_type": "markdown",
      "metadata": {
        "id": "8uJ176Jb6HkZ"
      },
      "source": [
        "Example 3 shows that, different dimension of tensors can be concatenated horizontally but throws error when we intend to concatenate them vertically."
      ]
    },
    {
      "cell_type": "markdown",
      "metadata": {
        "id": "O7-5X9906Hka"
      },
      "source": [
        "**Closing comments:** We learnt how to use hstack and dstack methods in pytorch and their limitations."
      ]
    },
    {
      "cell_type": "code",
      "metadata": {
        "id": "GcgQez-v6Hka",
        "outputId": "a2c2a71e-ec72-4233-f539-db4a46250e80"
      },
      "source": [
        "jovian.commit(project='01-tensor-operations')"
      ],
      "execution_count": null,
      "outputs": [
        {
          "output_type": "display_data",
          "data": {
            "application/javascript": [
              "window.require && require([\"base/js/namespace\"],function(Jupyter){Jupyter.notebook.save_checkpoint()})"
            ],
            "text/plain": [
              "<IPython.core.display.Javascript object>"
            ]
          },
          "metadata": {
            "tags": []
          }
        },
        {
          "output_type": "stream",
          "text": [
            "[jovian] Attempting to save notebook..\u001b[0m\n",
            "[jovian] Updating notebook \"aakashns/01-tensor-operations\" on https://jovian.ai/\u001b[0m\n",
            "[jovian] Uploading notebook..\u001b[0m\n",
            "[jovian] Capturing environment..\u001b[0m\n",
            "[jovian] Committed successfully! https://jovian.ai/aakashns/01-tensor-operations\u001b[0m\n"
          ],
          "name": "stdout"
        },
        {
          "output_type": "execute_result",
          "data": {
            "text/plain": [
              "'https://jovian.ai/aakashns/01-tensor-operations'"
            ]
          },
          "metadata": {
            "tags": []
          },
          "execution_count": 18
        }
      ]
    },
    {
      "cell_type": "markdown",
      "metadata": {
        "id": "vsCpaZmW6Hkc"
      },
      "source": [
        "## Function 5 - Generators\n",
        "\n",
        "Its a class that creates and generates an object that manage the condition of an algorithm."
      ]
    },
    {
      "cell_type": "code",
      "metadata": {
        "colab": {
          "base_uri": "https://localhost:8080/"
        },
        "id": "pRmrcG406Hkc",
        "outputId": "04d3168c-ef07-473a-936d-5715afdb71e9"
      },
      "source": [
        "# Example 1: getting the condition of a generator\n",
        "g_cpu = torch.Generator()\n",
        "g_cpu.get_state()\n",
        "#print(g_cuda)"
      ],
      "execution_count": null,
      "outputs": [
        {
          "output_type": "execute_result",
          "data": {
            "text/plain": [
              "tensor([  1, 209, 156,  ...,   0,   0,   0], dtype=torch.uint8)"
            ]
          },
          "metadata": {
            "tags": []
          },
          "execution_count": 58
        }
      ]
    },
    {
      "cell_type": "markdown",
      "metadata": {
        "id": "bph9FRlY6Hkc"
      },
      "source": [
        "Example 1 shows us how a generator can be restored at a specific point in time."
      ]
    },
    {
      "cell_type": "code",
      "metadata": {
        "colab": {
          "base_uri": "https://localhost:8080/"
        },
        "id": "871YxLGc6Hkc",
        "outputId": "69e3ce00-611a-4144-8d8b-e034a29554cf"
      },
      "source": [
        "# Example 2: Initial seed\n",
        "g_cpu = torch.Generator()\n",
        "g_cpu.initial_seed()"
      ],
      "execution_count": null,
      "outputs": [
        {
          "output_type": "execute_result",
          "data": {
            "text/plain": [
              "67280421310721"
            ]
          },
          "metadata": {
            "tags": []
          },
          "execution_count": 59
        }
      ]
    },
    {
      "cell_type": "markdown",
      "metadata": {
        "id": "ucxEF_JS6Hkc"
      },
      "source": [
        "Example 2 shows us how one can return an initial seed while generating random numbers."
      ]
    },
    {
      "cell_type": "code",
      "metadata": {
        "colab": {
          "base_uri": "https://localhost:8080/",
          "height": 209
        },
        "id": "4mST6uUC6Hke",
        "outputId": "bbc13385-267b-4c52-dab8-0982ff61f888"
      },
      "source": [
        "# Example 3: initial seed\n",
        "g_cpu = torch.Generator()\n",
        "g_cpu.initial_seed(2)"
      ],
      "execution_count": null,
      "outputs": [
        {
          "output_type": "error",
          "ename": "TypeError",
          "evalue": "ignored",
          "traceback": [
            "\u001b[0;31m---------------------------------------------------------------------------\u001b[0m",
            "\u001b[0;31mTypeError\u001b[0m                                 Traceback (most recent call last)",
            "\u001b[0;32m<ipython-input-60-cadd57257b4b>\u001b[0m in \u001b[0;36m<module>\u001b[0;34m()\u001b[0m\n\u001b[1;32m      1\u001b[0m \u001b[0;31m# Example 3 - breaking (to illustrate when it breaks)\u001b[0m\u001b[0;34m\u001b[0m\u001b[0;34m\u001b[0m\u001b[0;34m\u001b[0m\u001b[0m\n\u001b[1;32m      2\u001b[0m \u001b[0mg_cpu\u001b[0m \u001b[0;34m=\u001b[0m \u001b[0mtorch\u001b[0m\u001b[0;34m.\u001b[0m\u001b[0mGenerator\u001b[0m\u001b[0;34m(\u001b[0m\u001b[0;34m)\u001b[0m\u001b[0;34m\u001b[0m\u001b[0;34m\u001b[0m\u001b[0m\n\u001b[0;32m----> 3\u001b[0;31m \u001b[0mg_cpu\u001b[0m\u001b[0;34m.\u001b[0m\u001b[0minitial_seed\u001b[0m\u001b[0;34m(\u001b[0m\u001b[0;36m2\u001b[0m\u001b[0;34m)\u001b[0m\u001b[0;34m\u001b[0m\u001b[0;34m\u001b[0m\u001b[0m\n\u001b[0m",
            "\u001b[0;31mTypeError\u001b[0m: initial_seed() takes no arguments (1 given)"
          ]
        }
      ]
    },
    {
      "cell_type": "markdown",
      "metadata": {
        "id": "ESjwMdcC6Hke"
      },
      "source": [
        "In example 3, we learnt how that initial seed doesn't take arguments."
      ]
    },
    {
      "cell_type": "markdown",
      "metadata": {
        "id": "PXOa71tY6Hke"
      },
      "source": [
        "**Closing comments:** We learnt about generator function, what it is and how works, and the limitation or breaking point of the function."
      ]
    },
    {
      "cell_type": "code",
      "metadata": {
        "id": "7UdBWaF46Hke",
        "outputId": "8da84cf0-7564-48ac-b65b-4199e0fff2d4"
      },
      "source": [
        "jovian.commit(project='01-tensor-operations')"
      ],
      "execution_count": null,
      "outputs": [
        {
          "output_type": "display_data",
          "data": {
            "application/javascript": [
              "window.require && require([\"base/js/namespace\"],function(Jupyter){Jupyter.notebook.save_checkpoint()})"
            ],
            "text/plain": [
              "<IPython.core.display.Javascript object>"
            ]
          },
          "metadata": {
            "tags": []
          }
        },
        {
          "output_type": "stream",
          "text": [
            "[jovian] Attempting to save notebook..\u001b[0m\n",
            "[jovian] Updating notebook \"aakashns/01-tensor-operations\" on https://jovian.ai/\u001b[0m\n",
            "[jovian] Uploading notebook..\u001b[0m\n",
            "[jovian] Capturing environment..\u001b[0m\n",
            "[jovian] Committed successfully! https://jovian.ai/aakashns/01-tensor-operations\u001b[0m\n"
          ],
          "name": "stdout"
        },
        {
          "output_type": "execute_result",
          "data": {
            "text/plain": [
              "'https://jovian.ai/aakashns/01-tensor-operations'"
            ]
          },
          "metadata": {
            "tags": []
          },
          "execution_count": 19
        }
      ]
    },
    {
      "cell_type": "markdown",
      "metadata": {
        "id": "pKVUaTK06Hkg"
      },
      "source": [
        "## Conclusion\n",
        "\n",
        "We were able to cover 5 fascinating functions in pytorch, their strength and weaknesses. By next week, we will dive deeper into pytorch. :)"
      ]
    },
    {
      "cell_type": "markdown",
      "metadata": {
        "id": "Ud7qZcPy6Hkg"
      },
      "source": [
        "## Reference Links\n",
        "\n",
        "- is_tensor: \n",
        "   - https://pytorch.org/docs/stable/generated/torch.is_tensor.html#torch.is_tensor\n",
        "\n",
        "- squeeze / unsqueeze: \n",
        "  - https://pytorch.org/docs/stable/generated/torch.unsqueeze.html#torch.unsqueeze\n",
        "  - https://pytorch.org/docs/stable/generated/torch.squeeze.html#torch.squeeze\n",
        "\n",
        "- dstack / hstack: \n",
        "   - https://pytorch.org/docs/stable/generated/torch.dstack.html#torch.dstack\n",
        "\n",
        "   - https://pytorch.org/docs/stable/generated/torch.hstack.html#torch.hstack\n",
        "\n",
        "- generators: \n",
        "   - https://pytorch.org/docs/stable/generated/torch.Generator.html#torch.Generator\n",
        "\n",
        "- sigmoid: \n",
        " - https://pytorch.org/docs/stable/generated/torch.sigmoid.html#torch.sigmoid"
      ]
    },
    {
      "cell_type": "code",
      "metadata": {
        "id": "hMA0GUGB6Hkg",
        "outputId": "81531a0c-1ce1-4161-f1de-9b7cb3eb0bdc"
      },
      "source": [
        "jovian.commit(project='01-tensor-operations')"
      ],
      "execution_count": null,
      "outputs": [
        {
          "output_type": "display_data",
          "data": {
            "application/javascript": [
              "window.require && require([\"base/js/namespace\"],function(Jupyter){Jupyter.notebook.save_checkpoint()})"
            ],
            "text/plain": [
              "<IPython.core.display.Javascript object>"
            ]
          },
          "metadata": {
            "tags": []
          }
        },
        {
          "output_type": "stream",
          "text": [
            "[jovian] Attempting to save notebook..\u001b[0m\n"
          ],
          "name": "stdout"
        }
      ]
    },
    {
      "cell_type": "code",
      "metadata": {
        "id": "DUuphquy6Hki"
      },
      "source": [
        ""
      ],
      "execution_count": null,
      "outputs": []
    }
  ]
}