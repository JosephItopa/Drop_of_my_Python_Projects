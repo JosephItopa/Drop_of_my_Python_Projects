{
 "cells": [
  {
   "cell_type": "markdown",
   "metadata": {},
   "source": [
    "### IBM AutoAI-SDK Auto-Generated Notebook v1.12.2\n",
    "\n",
    "**Note:** Notebook code generated using AutoAI will execute successfully. If code is modified or reordered,   \n",
    "there is no guarantee it will successfully execute. This pipeline is optimized for the original dataset.  \n",
    "The pipeline may fail or produce sub-optimium results if used with different data. For different data,  \n",
    "please consider returning to AutoAI Experiments to generate a new pipeline. Please read our documentation   \n",
    "for more information:   \n",
    "<a href=\"https://dataplatform.cloud.ibm.com/docs/content/wsj/analyze-data/autoai-notebook.html\">Cloud Platform</a>  \n",
    "\n",
    "\n",
    "Before modifying the pipeline or trying to re-fit the pipeline, consider:   \n",
    "The notebook converts dataframes to numpy arrays before fitting the pipeline   \n",
    "(a current restriction of the preprocessor pipeline). The known_values_list is passed by reference   \n",
    "and populated with categorical values during fit of the preprocessing pipeline. Delete its members before re-fitting."
   ]
  },
  {
   "cell_type": "markdown",
   "metadata": {},
   "source": [
    "<a id=\"content\"></a>\n",
    "## Notebook content\n",
    "\n",
    "This notebook contains steps and code to demonstrate AutoAI pipeline. This notebook introduces commands for getting data,  \n",
    "pipeline model, model inspection and testing.\n",
    "\n",
    "Some familiarity with Python is helpful. This notebook uses Python 3."
   ]
  },
  {
   "cell_type": "markdown",
   "metadata": {
    "pycharm": {
     "name": "#%% md\n"
    }
   },
   "source": [
    "## Notebook goals\n",
    "\n",
    "-  inspection of trained pipeline via graphical vizualization and source code preview.\n",
    "-  pipeline evaluation.\n",
    "-  pipeline deployment and webservice scoring\n",
    "\n",
    "## Contents\n",
    "\n",
    "This notebook contains the following parts:\n",
    "\n",
    "1.\t[Setup](#setup)         \n",
    "    a.  [AutoAI experiment metadata](#variables_definition)      \n",
    "2.\t[Pipeline inspection](#inspection)      \n",
    "    a.  [Get historical optimizer instance](#get_hist_and_train)      \n",
    "    b.  [Get pipeline model](#get_pipeline)      \n",
    "    c.  [Preview pipeline model as python code](#preview_model_to_python_code)      \n",
    "    d.  [Visualize pipeline model](#visualize_pipeline)      \n",
    "    e.  [Read training and holdout data](#train_holdout_read)        \n",
    "    f.  [Test pipeline model locally](#test_model)       \n",
    "3.\t[Pipeline refinery](#refinery)       \n",
    "    a.  [Pipeline definition source code](#pipeline_definition)      \n",
    "    b.  [Lale library](#lale_library)      \n",
    "4.\t[Deploy and score](#scoring)       \n",
    "    a.  [Insert WML credentials](#wml_credentials)   \n",
    "    b.  [Create deployment](#deployment)      \n",
    "    c.  [Score webservice](#online_scoring)        \n",
    "    d.  [Delete deployment](#delete_deployment)       \n",
    "5.  [Authors](#authors)      "
   ]
  },
  {
   "cell_type": "markdown",
   "metadata": {},
   "source": [
    "<a id=\"setup\"></a>\n",
    "# Setup\n",
    "\n",
    "Before you use the sample code in this notebook, you must perform the following setup tasks:\n",
    " - `watson-machine-learning-client` uninstallation of the old client\n",
    " - `watson-machine-learning-client-V4` installation\n",
    " - `autoai-libs` installation/upgrade\n",
    " - `lightgbm` or `xgboost` installation/downgrade if they are needed"
   ]
  },
  {
   "cell_type": "code",
   "execution_count": 1,
   "metadata": {
    "pycharm": {
     "name": "#%%\n"
    }
   },
   "outputs": [
    {
     "name": "stdout",
     "output_type": "stream",
     "text": [
      "Uninstalling watson-machine-learning-client-1.0.376:\n",
      "  Successfully uninstalled watson-machine-learning-client-1.0.376\n"
     ]
    }
   ],
   "source": [
    "!pip uninstall watson-machine-learning-client -y"
   ]
  },
  {
   "cell_type": "code",
   "execution_count": 2,
   "metadata": {
    "pycharm": {
     "is_executing": false,
     "name": "#%%\n"
    }
   },
   "outputs": [
    {
     "name": "stdout",
     "output_type": "stream",
     "text": [
      "Collecting watson-machine-learning-client-V4\n",
      "\u001b[?25l  Downloading https://files.pythonhosted.org/packages/cf/9a/cd255fb8e3a67a688c36748233eb57ac4a4331fa574ef678c3cd69e14e44/watson_machine_learning_client_V4-1.0.99-py3-none-any.whl (1.2MB)\n",
      "\u001b[K     |████████████████████████████████| 1.2MB 7.8MB/s eta 0:00:01\n",
      "\u001b[?25hRequirement already satisfied, skipping upgrade: urllib3 in /opt/conda/envs/Python36/lib/python3.6/site-packages (from watson-machine-learning-client-V4) (1.24.1)\n",
      "Requirement already satisfied, skipping upgrade: tabulate in /opt/conda/envs/Python36/lib/python3.6/site-packages (from watson-machine-learning-client-V4) (0.8.2)\n",
      "Requirement already satisfied, skipping upgrade: certifi in /opt/conda/envs/Python36/lib/python3.6/site-packages (from watson-machine-learning-client-V4) (2020.4.5.1)\n",
      "Requirement already satisfied, skipping upgrade: lomond in /opt/conda/envs/Python36/lib/python3.6/site-packages (from watson-machine-learning-client-V4) (0.3.3)\n",
      "Requirement already satisfied, skipping upgrade: pandas<=0.25.3 in /opt/conda/envs/Python36/lib/python3.6/site-packages (from watson-machine-learning-client-V4) (0.24.1)\n",
      "Collecting ibm-cos-sdk==2.6.0 (from watson-machine-learning-client-V4)\n",
      "\u001b[?25l  Downloading https://files.pythonhosted.org/packages/6f/91/86b2816c7b77d816b03a1ad6cf7db4b1f67556af395d5b93fdae6086c933/ibm-cos-sdk-2.6.0.tar.gz (53kB)\n",
      "\u001b[K     |████████████████████████████████| 61kB 23.6MB/s eta 0:00:01\n",
      "\u001b[?25hRequirement already satisfied, skipping upgrade: requests in /opt/conda/envs/Python36/lib/python3.6/site-packages (from watson-machine-learning-client-V4) (2.21.0)\n",
      "Requirement already satisfied, skipping upgrade: six>=1.10.0 in /opt/conda/envs/Python36/lib/python3.6/site-packages (from lomond->watson-machine-learning-client-V4) (1.12.0)\n",
      "Requirement already satisfied, skipping upgrade: pytz>=2011k in /opt/conda/envs/Python36/lib/python3.6/site-packages (from pandas<=0.25.3->watson-machine-learning-client-V4) (2018.9)\n",
      "Requirement already satisfied, skipping upgrade: numpy>=1.12.0 in /opt/conda/envs/Python36/lib/python3.6/site-packages (from pandas<=0.25.3->watson-machine-learning-client-V4) (1.15.4)\n",
      "Requirement already satisfied, skipping upgrade: python-dateutil>=2.5.0 in /opt/conda/envs/Python36/lib/python3.6/site-packages (from pandas<=0.25.3->watson-machine-learning-client-V4) (2.7.5)\n",
      "Collecting ibm-cos-sdk-core==2.6.0 (from ibm-cos-sdk==2.6.0->watson-machine-learning-client-V4)\n",
      "\u001b[?25l  Downloading https://files.pythonhosted.org/packages/ea/c1/c823507c472bf88dbd045445df6850744111d34fd218c6ea3b9c9bde2cfe/ibm-cos-sdk-core-2.6.0.tar.gz (763kB)\n",
      "\u001b[K     |████████████████████████████████| 768kB 36.0MB/s eta 0:00:01\n",
      "\u001b[?25hCollecting ibm-cos-sdk-s3transfer==2.6.0 (from ibm-cos-sdk==2.6.0->watson-machine-learning-client-V4)\n",
      "\u001b[?25l  Downloading https://files.pythonhosted.org/packages/6f/92/682a28b99777a3fdc65e6d5641ed7e1ca470d0eab3bb2826cc30c6b60e21/ibm-cos-sdk-s3transfer-2.6.0.tar.gz (221kB)\n",
      "\u001b[K     |████████████████████████████████| 225kB 36.2MB/s eta 0:00:01\n",
      "\u001b[?25hRequirement already satisfied, skipping upgrade: jmespath<1.0.0,>=0.7.1 in /opt/conda/envs/Python36/lib/python3.6/site-packages (from ibm-cos-sdk==2.6.0->watson-machine-learning-client-V4) (0.9.3)\n",
      "Requirement already satisfied, skipping upgrade: idna<2.9,>=2.5 in /opt/conda/envs/Python36/lib/python3.6/site-packages (from requests->watson-machine-learning-client-V4) (2.8)\n",
      "Requirement already satisfied, skipping upgrade: chardet<3.1.0,>=3.0.2 in /opt/conda/envs/Python36/lib/python3.6/site-packages (from requests->watson-machine-learning-client-V4) (3.0.4)\n",
      "Requirement already satisfied, skipping upgrade: docutils<0.16,>=0.10 in /opt/conda/envs/Python36/lib/python3.6/site-packages (from ibm-cos-sdk-core==2.6.0->ibm-cos-sdk==2.6.0->watson-machine-learning-client-V4) (0.14)\n",
      "Building wheels for collected packages: ibm-cos-sdk, ibm-cos-sdk-core, ibm-cos-sdk-s3transfer\n",
      "  Building wheel for ibm-cos-sdk (setup.py) ... \u001b[?25ldone\n",
      "\u001b[?25h  Stored in directory: /home/dsxuser/.cache/pip/wheels/37/9c/c4/a2c610ccb877d37c2cb87a5bfe55845fecffd6bb01bcd5e9d5\n",
      "  Building wheel for ibm-cos-sdk-core (setup.py) ... \u001b[?25ldone\n",
      "\u001b[?25h  Stored in directory: /home/dsxuser/.cache/pip/wheels/75/93/e6/23071b2c037147a0993d34b64a03e51abca84435fc9cd6a278\n",
      "  Building wheel for ibm-cos-sdk-s3transfer (setup.py) ... \u001b[?25ldone\n",
      "\u001b[?25h  Stored in directory: /home/dsxuser/.cache/pip/wheels/23/d9/d7/43fd95b014eed89466154d8373bf4cffbb3d972de7841e213c\n",
      "Successfully built ibm-cos-sdk ibm-cos-sdk-core ibm-cos-sdk-s3transfer\n",
      "Installing collected packages: ibm-cos-sdk-core, ibm-cos-sdk-s3transfer, ibm-cos-sdk, watson-machine-learning-client-V4\n",
      "  Found existing installation: ibm-cos-sdk-core 2.4.3\n",
      "    Uninstalling ibm-cos-sdk-core-2.4.3:\n",
      "      Successfully uninstalled ibm-cos-sdk-core-2.4.3\n",
      "  Found existing installation: ibm-cos-sdk-s3transfer 2.4.3\n",
      "    Uninstalling ibm-cos-sdk-s3transfer-2.4.3:\n",
      "      Successfully uninstalled ibm-cos-sdk-s3transfer-2.4.3\n",
      "  Found existing installation: ibm-cos-sdk 2.4.3\n",
      "    Uninstalling ibm-cos-sdk-2.4.3:\n",
      "      Successfully uninstalled ibm-cos-sdk-2.4.3\n",
      "Successfully installed ibm-cos-sdk-2.6.0 ibm-cos-sdk-core-2.6.0 ibm-cos-sdk-s3transfer-2.6.0 watson-machine-learning-client-V4-1.0.99\n"
     ]
    }
   ],
   "source": [
    "!pip install -U watson-machine-learning-client-V4"
   ]
  },
  {
   "cell_type": "code",
   "execution_count": 3,
   "metadata": {
    "pycharm": {
     "name": "#%%\n"
    }
   },
   "outputs": [
    {
     "name": "stdout",
     "output_type": "stream",
     "text": [
      "Collecting autoai-libs\n",
      "\u001b[?25l  Downloading https://files.pythonhosted.org/packages/39/cb/4144b9ee74fcb058cea934478c87f2444cfa7b38a01396507f1a417030cb/autoai_libs-1.10.12-37-cp36-cp36m-manylinux1_x86_64.whl (4.3MB)\n",
      "\u001b[K     |████████████████████████████████| 4.3MB 4.1MB/s eta 0:00:01\n",
      "\u001b[?25hCollecting pandas<1.0.0,>=0.24.2 (from autoai-libs)\n",
      "\u001b[?25l  Downloading https://files.pythonhosted.org/packages/52/3f/f6a428599e0d4497e1595030965b5ba455fd8ade6e977e3c819973c4b41d/pandas-0.25.3-cp36-cp36m-manylinux1_x86_64.whl (10.4MB)\n",
      "\u001b[K     |████████████████████████████████| 10.4MB 34.7MB/s eta 0:00:01\n",
      "\u001b[?25hCollecting category-encoders==2.1.0 (from autoai-libs)\n",
      "\u001b[?25l  Downloading https://files.pythonhosted.org/packages/a0/52/c54191ad3782de633ea3d6ee3bb2837bda0cf3bc97644bb6375cf14150a0/category_encoders-2.1.0-py2.py3-none-any.whl (100kB)\n",
      "\u001b[K     |████████████████████████████████| 102kB 27.4MB/s ta 0:00:01\n",
      "\u001b[?25hCollecting numpy>=1.16.4 (from autoai-libs)\n",
      "\u001b[?25l  Downloading https://files.pythonhosted.org/packages/b3/a9/b1bc4c935ed063766bce7d3e8c7b20bd52e515ff1c732b02caacf7918e5a/numpy-1.18.5-cp36-cp36m-manylinux1_x86_64.whl (20.1MB)\n",
      "\u001b[K     |████████████████████████████████| 20.1MB 33.8MB/s eta 0:00:01\n",
      "\u001b[?25hRequirement already satisfied, skipping upgrade: scikit-learn==0.20.3 in /opt/conda/envs/Python36/lib/python3.6/site-packages (from autoai-libs) (0.20.3)\n",
      "Requirement already satisfied, skipping upgrade: pytz>=2017.2 in /opt/conda/envs/Python36/lib/python3.6/site-packages (from pandas<1.0.0,>=0.24.2->autoai-libs) (2018.9)\n",
      "Requirement already satisfied, skipping upgrade: python-dateutil>=2.6.1 in /opt/conda/envs/Python36/lib/python3.6/site-packages (from pandas<1.0.0,>=0.24.2->autoai-libs) (2.7.5)\n",
      "Requirement already satisfied, skipping upgrade: patsy>=0.4.1 in /opt/conda/envs/Python36/lib/python3.6/site-packages (from category-encoders==2.1.0->autoai-libs) (0.5.1)\n",
      "Requirement already satisfied, skipping upgrade: scipy>=0.19.0 in /opt/conda/envs/Python36/lib/python3.6/site-packages (from category-encoders==2.1.0->autoai-libs) (1.2.0)\n",
      "Requirement already satisfied, skipping upgrade: statsmodels>=0.6.1 in /opt/conda/envs/Python36/lib/python3.6/site-packages (from category-encoders==2.1.0->autoai-libs) (0.9.0)\n",
      "Requirement already satisfied, skipping upgrade: six>=1.5 in /opt/conda/envs/Python36/lib/python3.6/site-packages (from python-dateutil>=2.6.1->pandas<1.0.0,>=0.24.2->autoai-libs) (1.12.0)\n",
      "\u001b[31mERROR: tensorflow 1.13.1 requires tensorboard<1.14.0,>=1.13.0, which is not installed.\u001b[0m\n",
      "Installing collected packages: numpy, pandas, category-encoders, autoai-libs\n",
      "  Found existing installation: numpy 1.15.4\n",
      "    Uninstalling numpy-1.15.4:\n",
      "      Successfully uninstalled numpy-1.15.4\n",
      "  Found existing installation: pandas 0.24.1\n",
      "    Uninstalling pandas-0.24.1:\n",
      "      Successfully uninstalled pandas-0.24.1\n",
      "  Found existing installation: category-encoders 2.0.0\n",
      "    Uninstalling category-encoders-2.0.0:\n",
      "      Successfully uninstalled category-encoders-2.0.0\n",
      "  Found existing installation: autoai-libs 1.10.5\n",
      "    Uninstalling autoai-libs-1.10.5:\n",
      "      Successfully uninstalled autoai-libs-1.10.5\n",
      "Successfully installed autoai-libs-1.10.12 category-encoders-2.1.0 numpy-1.18.5 pandas-0.25.3\n",
      "Collecting xgboost==0.90\n",
      "\u001b[?25l  Downloading https://files.pythonhosted.org/packages/c1/24/5fe7237b2eca13ee0cfb100bec8c23f4e69ce9df852a64b0493d49dae4e0/xgboost-0.90-py2.py3-none-manylinux1_x86_64.whl (142.8MB)\n",
      "\u001b[K     |████████████████████████████████| 142.8MB 40.1MB/s eta 0:00:01   |██████▌                         | 28.8MB 7.9MB/s eta 0:00:15\n",
      "\u001b[?25hRequirement already satisfied, skipping upgrade: numpy in /opt/conda/envs/Python36/lib/python3.6/site-packages (from xgboost==0.90) (1.18.5)\n",
      "Requirement already satisfied, skipping upgrade: scipy in /opt/conda/envs/Python36/lib/python3.6/site-packages (from xgboost==0.90) (1.2.0)\n",
      "Installing collected packages: xgboost\n",
      "Successfully installed xgboost-0.90\n"
     ]
    }
   ],
   "source": [
    "!pip install -U autoai-libs\n",
    "!pip install -U xgboost==0.90"
   ]
  },
  {
   "cell_type": "markdown",
   "metadata": {},
   "source": [
    "<a id=\"variables_definition\"></a>\n",
    "### AutoAI experiment metadata\n",
    "\n",
    "This cell contains input parameters provided to run the AutoAI experiment in Watson Studio and COS credentials required to retrieve AutoAI pipeline."
   ]
  },
  {
   "cell_type": "code",
   "execution_count": 4,
   "metadata": {
    "pycharm": {
     "name": "#%%\n"
    }
   },
   "outputs": [],
   "source": [
    "from watson_machine_learning_client.helpers import DataConnection, S3Connection, S3Location\n",
    "\n",
    "experiment_metadata = dict(\n",
    "   prediction_type='regression',\n",
    "   prediction_column='Government expenditure on education (% of GDP)_HDI',\n",
    "   test_size=0.1,\n",
    "   scoring='neg_root_mean_squared_error',\n",
    "   max_number_of_estimators=2,\n",
    "   training_data_reference = [DataConnection(\n",
    "        connection=S3Connection(\n",
    "            api_key='QNfyD0PsSOpdHDNT_jwf9P2H-9SSc2LzPQS2qllCW69q',\n",
    "            auth_endpoint='https://iam.bluemix.net/oidc/token/',\n",
    "            endpoint_url='https://s3.eu-geo.objectstorage.softlayer.net'\n",
    "        ),\n",
    "            location=S3Location(\n",
    "            bucket='omdenashapingeduautomlv2-donotdelete-pr-uubkwkobtxmcep',\n",
    "            path='data_asset/Model_Data_v3_shaped_0c6eb97b.csv'\n",
    "        ))\n",
    "    ],\n",
    "    training_result_reference = DataConnection(\n",
    "        connection=S3Connection(\n",
    "            api_key='QNfyD0PsSOpdHDNT_jwf9P2H-9SSc2LzPQS2qllCW69q',\n",
    "            auth_endpoint='https://iam.bluemix.net/oidc/token/',\n",
    "            endpoint_url='https://s3.eu-geo.objectstorage.softlayer.net'\n",
    "        ),\n",
    "        location=S3Location(\n",
    "            bucket='omdenashapingeduautomlv2-donotdelete-pr-uubkwkobtxmcep',\n",
    "            path='auto_ml/2b67f1bb-4c06-4255-b351-0f1a7b00b076/wml_data/14991e96-c714-45ed-96e3-48aec26214ad/data/automl',\n",
    "            model_location='auto_ml/2b67f1bb-4c06-4255-b351-0f1a7b00b076/wml_data/14991e96-c714-45ed-96e3-48aec26214ad/data/automl/pre_hpo_d_output/Pipeline1/model.pickle',\n",
    "            training_status='auto_ml/2b67f1bb-4c06-4255-b351-0f1a7b00b076/wml_data/14991e96-c714-45ed-96e3-48aec26214ad/training-status.json'\n",
    "        )\n",
    "    ))\n",
    "\n",
    "pipeline_name='Pipeline_1'"
   ]
  },
  {
   "cell_type": "markdown",
   "metadata": {
    "pycharm": {
     "name": "#%% md\n"
    }
   },
   "source": [
    "<a id=\"inspection\"></a>\n",
    "## Pipeline inspection\n",
    "In this section you will get the trained pipeline model from the AutoAI experiment and inspect it.  \n",
    "You will see pipeline as a pythone code, graphically visualized and at the end, you will perform a local test.\n"
   ]
  },
  {
   "cell_type": "markdown",
   "metadata": {
    "pycharm": {
     "name": "#%% md\n"
    }
   },
   "source": [
    "<a id=\"get_hist_and_train\"></a>\n",
    "### Get historical optimizer instance\n",
    "\n",
    "The next cell contains code for retrieving fitted optimizer."
   ]
  },
  {
   "cell_type": "code",
   "execution_count": 5,
   "metadata": {
    "pycharm": {
     "is_executing": false,
     "name": "#%%\n"
    }
   },
   "outputs": [
    {
     "name": "stdout",
     "output_type": "stream",
     "text": [
      "Warning: To use AutoAI with lightgbm estimators, you need to have lightgbm 2.2.3 installed.\n"
     ]
    }
   ],
   "source": [
    "from watson_machine_learning_client.experiment import AutoAI\n",
    "\n",
    "optimizer = AutoAI().runs.get_optimizer(metadata=experiment_metadata)"
   ]
  },
  {
   "cell_type": "markdown",
   "metadata": {
    "pycharm": {
     "name": "#%% md\n"
    }
   },
   "source": [
    "<a id=\"get_pipeline\"></a>\n",
    "### Get pipeline model\n",
    "\n",
    "The following cell loads selected AutoAI pipeline model. If you want to get pure scikit-learn pipeline specify `as_type='sklearn'` parameter. By default enriched scikit-learn pipeline is returned `as_type='lale'`."
   ]
  },
  {
   "cell_type": "code",
   "execution_count": 6,
   "metadata": {
    "pycharm": {
     "is_executing": false,
     "name": "#%%\n"
    }
   },
   "outputs": [
    {
     "name": "stdout",
     "output_type": "stream",
     "text": [
      "[07:34:31] WARNING: /workspace/src/objective/regression_obj.cu:152: reg:linear is now deprecated in favor of reg:squarederror.\n"
     ]
    }
   ],
   "source": [
    "pipeline_model = optimizer.get_pipeline(pipeline_name=pipeline_name)"
   ]
  },
  {
   "cell_type": "markdown",
   "metadata": {
    "pycharm": {
     "name": "#%% md\n"
    }
   },
   "source": [
    "<a id=\"preview_model_to_python_code\"></a>\n",
    "### Preview pipeline model as python code\n",
    "In the next cell, downloaded pipeline model could be previewed as a python code.  \n",
    "You will be able to see what exact steps are involved in model creation."
   ]
  },
  {
   "cell_type": "code",
   "execution_count": 7,
   "metadata": {
    "pycharm": {
     "name": "#%%\n"
    }
   },
   "outputs": [
    {
     "data": {
      "text/markdown": [
       "```python\n",
       "from lale.lib.autoai_libs import NumpyColumnSelector\n",
       "from lale.lib.autoai_libs import FloatStr2Float\n",
       "from lale.lib.autoai_libs import NumpyReplaceMissingValues\n",
       "from lale.lib.autoai_libs import NumImputer\n",
       "from lale.lib.autoai_libs import OptStandardScaler\n",
       "from lale.lib.autoai_libs import float32_transform\n",
       "from xgboost import XGBRegressor\n",
       "from lale.operators import make_pipeline\n",
       "\n",
       "numpy_column_selector = NumpyColumnSelector(columns=[0, 1, 2, 3, 4, 5, 6, 7, 8, 9, 10])\n",
       "float_str2_float = FloatStr2Float(dtypes_list=['float_num', 'float_num', 'float_num', 'float_num', 'float_num', 'float_num', 'float_num', 'float_num', 'float_num', 'float_num', 'float_num'], missing_values_reference_list=[])\n",
       "numpy_replace_missing_values = NumpyReplaceMissingValues(filling_values=float('nan'), missing_values=[])\n",
       "num_imputer = NumImputer(missing_values=float('nan'), strategy='median')\n",
       "opt_standard_scaler = OptStandardScaler(num_scaler_copy=None, num_scaler_with_mean=None, num_scaler_with_std=None, use_scaler_flag=False)\n",
       "xgb_regressor = XGBRegressor(missing=float('nan'), random_state=33, silent=True, verbosity=0)\n",
       "pipeline = make_pipeline(numpy_column_selector, float_str2_float, numpy_replace_missing_values, num_imputer, opt_standard_scaler, float32_transform(), xgb_regressor)\n",
       "```"
      ],
      "text/plain": [
       "<IPython.core.display.Markdown object>"
      ]
     },
     "metadata": {},
     "output_type": "display_data"
    }
   ],
   "source": [
    "pipeline_model.pretty_print(combinators=False, ipython_display=True)"
   ]
  },
  {
   "cell_type": "markdown",
   "metadata": {
    "pycharm": {
     "name": "#%% md\n"
    }
   },
   "source": [
    "<a id=\"visualize_pipeline\"></a>\n",
    "### Visualize pipeline model\n",
    "\n",
    "Preview pipeline model stages as graph. Each node's name links to detailed description of the stage.\n"
   ]
  },
  {
   "cell_type": "code",
   "execution_count": 8,
   "metadata": {
    "pycharm": {
     "is_executing": false,
     "name": "#%%\n"
    }
   },
   "outputs": [
    {
     "data": {
      "image/svg+xml": [
       "<?xml version=\"1.0\" encoding=\"UTF-8\" standalone=\"no\"?>\n",
       "<!DOCTYPE svg PUBLIC \"-//W3C//DTD SVG 1.1//EN\"\n",
       " \"http://www.w3.org/Graphics/SVG/1.1/DTD/svg11.dtd\">\n",
       "<!-- Generated by graphviz version 2.40.1 (20161225.0304)\n",
       " -->\n",
       "<!-- Title: cluster:(root) Pages: 1 -->\n",
       "<svg width=\"788pt\" height=\"82pt\"\n",
       " viewBox=\"0.00 0.00 788.27 81.54\" xmlns=\"http://www.w3.org/2000/svg\" xmlns:xlink=\"http://www.w3.org/1999/xlink\">\n",
       "<g id=\"graph0\" class=\"graph\" transform=\"scale(1 1) rotate(0) translate(4 77.5391)\">\n",
       "<title>cluster:(root)</title>\n",
       "<g id=\"a_graph0\"><a xlink:title=\"(root) = ...\">\n",
       "<polygon fill=\"#ffffff\" stroke=\"transparent\" points=\"-4,4 -4,-77.5391 784.2712,-77.5391 784.2712,4 -4,4\"/>\n",
       "</a>\n",
       "</g>\n",
       "<!-- numpy_column_selector -->\n",
       "<g id=\"node1\" class=\"node\">\n",
       "<title>numpy_column_selector</title>\n",
       "<g id=\"a_node1\"><a xlink:href=\"https://lale.readthedocs.io/en/latest/modules/lale.lib.autoai_libs.numpy_column_selector.html\" xlink:title=\"numpy_column_selector = NumpyColumnSelector(columns=[0, 1, 2, 3, 4, 5, 6, 7, 8, 9, 10])\">\n",
       "<ellipse fill=\"#ffffff\" stroke=\"#000000\" cx=\"39.598\" cy=\"-36.7696\" rx=\"39.6962\" ry=\"28.0702\"/>\n",
       "<text text-anchor=\"middle\" x=\"39.598\" y=\"-45.9696\" font-family=\"Times,serif\" font-size=\"11.00\" fill=\"#000000\">Numpy&#45;</text>\n",
       "<text text-anchor=\"middle\" x=\"39.598\" y=\"-33.9696\" font-family=\"Times,serif\" font-size=\"11.00\" fill=\"#000000\">Column&#45;</text>\n",
       "<text text-anchor=\"middle\" x=\"39.598\" y=\"-21.9696\" font-family=\"Times,serif\" font-size=\"11.00\" fill=\"#000000\">Selector</text>\n",
       "</a>\n",
       "</g>\n",
       "</g>\n",
       "<!-- float_str2_float -->\n",
       "<g id=\"node2\" class=\"node\">\n",
       "<title>float_str2_float</title>\n",
       "<g id=\"a_node2\"><a xlink:href=\"https://lale.readthedocs.io/en/latest/modules/lale.lib.autoai_libs.float_str2_float.html\" xlink:title=\"float_str2_float = FloatStr2Float(dtypes_list=[&#39;float_num&#39;, &#39;float_num&#39;, &#39;float_num&#39;, &#39;float_num&#39;, &#39;float_num&#39;, &#39;float_num&#39;, &#39;float_num&#39;, &#39;float_num&#39;, &#39;float_num&#39;, &#39;float_num&#39;, &#39;float_num&#39;], missing_values_reference_list=[])\">\n",
       "<ellipse fill=\"#ffffff\" stroke=\"#000000\" cx=\"143.4802\" cy=\"-36.7696\" rx=\"28.0702\" ry=\"28.0702\"/>\n",
       "<text text-anchor=\"middle\" x=\"143.4802\" y=\"-45.9696\" font-family=\"Times,serif\" font-size=\"11.00\" fill=\"#000000\">Float&#45;</text>\n",
       "<text text-anchor=\"middle\" x=\"143.4802\" y=\"-33.9696\" font-family=\"Times,serif\" font-size=\"11.00\" fill=\"#000000\">Str2&#45;</text>\n",
       "<text text-anchor=\"middle\" x=\"143.4802\" y=\"-21.9696\" font-family=\"Times,serif\" font-size=\"11.00\" fill=\"#000000\">Float</text>\n",
       "</a>\n",
       "</g>\n",
       "</g>\n",
       "<!-- numpy_column_selector&#45;&gt;float_str2_float -->\n",
       "<g id=\"edge1\" class=\"edge\">\n",
       "<title>numpy_column_selector&#45;&gt;float_str2_float</title>\n",
       "<path fill=\"none\" stroke=\"#000000\" d=\"M79.4645,-36.7696C87.8325,-36.7696 96.6432,-36.7696 104.9609,-36.7696\"/>\n",
       "<polygon fill=\"#000000\" stroke=\"#000000\" points=\"105.1626,-40.2697 115.1626,-36.7696 105.1625,-33.2697 105.1626,-40.2697\"/>\n",
       "</g>\n",
       "<!-- numpy_replace_missing_values -->\n",
       "<g id=\"node3\" class=\"node\">\n",
       "<title>numpy_replace_missing_values</title>\n",
       "<g id=\"a_node3\"><a xlink:href=\"https://lale.readthedocs.io/en/latest/modules/lale.lib.autoai_libs.numpy_replace_missing_values.html\" xlink:title=\"numpy_replace_missing_values = NumpyReplaceMissingValues(filling_values=float(&#39;nan&#39;), missing_values=[])\">\n",
       "<ellipse fill=\"#ffffff\" stroke=\"#000000\" cx=\"247.3625\" cy=\"-36.7696\" rx=\"39.6962\" ry=\"36.5405\"/>\n",
       "<text text-anchor=\"middle\" x=\"247.3625\" y=\"-51.9696\" font-family=\"Times,serif\" font-size=\"11.00\" fill=\"#000000\">Numpy&#45;</text>\n",
       "<text text-anchor=\"middle\" x=\"247.3625\" y=\"-39.9696\" font-family=\"Times,serif\" font-size=\"11.00\" fill=\"#000000\">Replace&#45;</text>\n",
       "<text text-anchor=\"middle\" x=\"247.3625\" y=\"-27.9696\" font-family=\"Times,serif\" font-size=\"11.00\" fill=\"#000000\">Missing&#45;</text>\n",
       "<text text-anchor=\"middle\" x=\"247.3625\" y=\"-15.9696\" font-family=\"Times,serif\" font-size=\"11.00\" fill=\"#000000\">Values</text>\n",
       "</a>\n",
       "</g>\n",
       "</g>\n",
       "<!-- float_str2_float&#45;&gt;numpy_replace_missing_values -->\n",
       "<g id=\"edge2\" class=\"edge\">\n",
       "<title>float_str2_float&#45;&gt;numpy_replace_missing_values</title>\n",
       "<path fill=\"none\" stroke=\"#000000\" d=\"M171.8665,-36.7696C179.8112,-36.7696 188.6887,-36.7696 197.4871,-36.7696\"/>\n",
       "<polygon fill=\"#000000\" stroke=\"#000000\" points=\"197.7186,-40.2697 207.7186,-36.7696 197.7185,-33.2697 197.7186,-40.2697\"/>\n",
       "</g>\n",
       "<!-- num_imputer -->\n",
       "<g id=\"node4\" class=\"node\">\n",
       "<title>num_imputer</title>\n",
       "<g id=\"a_node4\"><a xlink:href=\"https://lale.readthedocs.io/en/latest/modules/lale.lib.autoai_libs.num_imputer.html\" xlink:title=\"num_imputer = NumImputer(missing_values=float(&#39;nan&#39;), strategy=&#39;median&#39;)\">\n",
       "<ellipse fill=\"#ffffff\" stroke=\"#000000\" cx=\"361.1442\" cy=\"-36.7696\" rx=\"38.3684\" ry=\"19.6\"/>\n",
       "<text text-anchor=\"middle\" x=\"361.1442\" y=\"-39.9696\" font-family=\"Times,serif\" font-size=\"11.00\" fill=\"#000000\">Num&#45;</text>\n",
       "<text text-anchor=\"middle\" x=\"361.1442\" y=\"-27.9696\" font-family=\"Times,serif\" font-size=\"11.00\" fill=\"#000000\">Imputer</text>\n",
       "</a>\n",
       "</g>\n",
       "</g>\n",
       "<!-- numpy_replace_missing_values&#45;&gt;num_imputer -->\n",
       "<g id=\"edge3\" class=\"edge\">\n",
       "<title>numpy_replace_missing_values&#45;&gt;num_imputer</title>\n",
       "<path fill=\"none\" stroke=\"#000000\" d=\"M287.1578,-36.7696C295.3587,-36.7696 304.082,-36.7696 312.5543,-36.7696\"/>\n",
       "<polygon fill=\"#000000\" stroke=\"#000000\" points=\"312.7122,-40.2697 322.7122,-36.7696 312.7121,-33.2697 312.7122,-40.2697\"/>\n",
       "</g>\n",
       "<!-- opt_standard_scaler -->\n",
       "<g id=\"node5\" class=\"node\">\n",
       "<title>opt_standard_scaler</title>\n",
       "<g id=\"a_node5\"><a xlink:href=\"https://lale.readthedocs.io/en/latest/modules/lale.lib.autoai_libs.opt_standard_scaler.html\" xlink:title=\"opt_standard_scaler = OptStandardScaler(num_scaler_copy=None, num_scaler_with_mean=None, num_scaler_with_std=None, use_scaler_flag=False)\">\n",
       "<ellipse fill=\"#ffffff\" stroke=\"#000000\" cx=\"481.2899\" cy=\"-36.7696\" rx=\"45.9239\" ry=\"28.0702\"/>\n",
       "<text text-anchor=\"middle\" x=\"481.2899\" y=\"-45.9696\" font-family=\"Times,serif\" font-size=\"11.00\" fill=\"#000000\">Opt&#45;</text>\n",
       "<text text-anchor=\"middle\" x=\"481.2899\" y=\"-33.9696\" font-family=\"Times,serif\" font-size=\"11.00\" fill=\"#000000\">Standard&#45;</text>\n",
       "<text text-anchor=\"middle\" x=\"481.2899\" y=\"-21.9696\" font-family=\"Times,serif\" font-size=\"11.00\" fill=\"#000000\">Scaler</text>\n",
       "</a>\n",
       "</g>\n",
       "</g>\n",
       "<!-- num_imputer&#45;&gt;opt_standard_scaler -->\n",
       "<g id=\"edge4\" class=\"edge\">\n",
       "<title>num_imputer&#45;&gt;opt_standard_scaler</title>\n",
       "<path fill=\"none\" stroke=\"#000000\" d=\"M399.4894,-36.7696C407.5844,-36.7696 416.2878,-36.7696 424.8904,-36.7696\"/>\n",
       "<polygon fill=\"#000000\" stroke=\"#000000\" points=\"424.9003,-40.2697 434.9002,-36.7696 424.9002,-33.2697 424.9003,-40.2697\"/>\n",
       "</g>\n",
       "<!-- float32_transform -->\n",
       "<g id=\"node6\" class=\"node\">\n",
       "<title>float32_transform</title>\n",
       "<g id=\"a_node6\"><a xlink:href=\"https://lale.readthedocs.io/en/latest/modules/lale.lib.autoai_libs.float32_transform.html\" xlink:title=\"float32_transform = float32_transform()\">\n",
       "<ellipse fill=\"#ffffff\" stroke=\"#000000\" cx=\"608.5067\" cy=\"-36.7696\" rx=\"45.011\" ry=\"19.6\"/>\n",
       "<text text-anchor=\"middle\" x=\"608.5067\" y=\"-39.9696\" font-family=\"Times,serif\" font-size=\"11.00\" fill=\"#000000\">float32_&#45;</text>\n",
       "<text text-anchor=\"middle\" x=\"608.5067\" y=\"-27.9696\" font-family=\"Times,serif\" font-size=\"11.00\" fill=\"#000000\">transform</text>\n",
       "</a>\n",
       "</g>\n",
       "</g>\n",
       "<!-- opt_standard_scaler&#45;&gt;float32_transform -->\n",
       "<g id=\"edge5\" class=\"edge\">\n",
       "<title>opt_standard_scaler&#45;&gt;float32_transform</title>\n",
       "<path fill=\"none\" stroke=\"#000000\" d=\"M527.578,-36.7696C535.7602,-36.7696 544.3564,-36.7696 552.7662,-36.7696\"/>\n",
       "<polygon fill=\"#000000\" stroke=\"#000000\" points=\"552.8916,-40.2697 562.8916,-36.7696 552.8915,-33.2697 552.8916,-40.2697\"/>\n",
       "</g>\n",
       "<!-- xgb_regressor -->\n",
       "<g id=\"node7\" class=\"node\">\n",
       "<title>xgb_regressor</title>\n",
       "<g id=\"a_node7\"><a xlink:title=\"xgb_regressor = XGBRegressor(missing=float(&#39;nan&#39;), random_state=33, silent=True, verbosity=0)\">\n",
       "<ellipse fill=\"#ffffff\" stroke=\"#000000\" cx=\"735.0164\" cy=\"-36.7696\" rx=\"45.011\" ry=\"19.6\"/>\n",
       "<text text-anchor=\"middle\" x=\"735.0164\" y=\"-39.9696\" font-family=\"Times,serif\" font-size=\"11.00\" fill=\"#000000\">XGB&#45;</text>\n",
       "<text text-anchor=\"middle\" x=\"735.0164\" y=\"-27.9696\" font-family=\"Times,serif\" font-size=\"11.00\" fill=\"#000000\">Regressor</text>\n",
       "</a>\n",
       "</g>\n",
       "</g>\n",
       "<!-- float32_transform&#45;&gt;xgb_regressor -->\n",
       "<g id=\"edge6\" class=\"edge\">\n",
       "<title>float32_transform&#45;&gt;xgb_regressor</title>\n",
       "<path fill=\"none\" stroke=\"#000000\" d=\"M653.8223,-36.7696C662.0887,-36.7696 670.8008,-36.7696 679.3268,-36.7696\"/>\n",
       "<polygon fill=\"#000000\" stroke=\"#000000\" points=\"679.592,-40.2697 689.592,-36.7696 679.592,-33.2697 679.592,-40.2697\"/>\n",
       "</g>\n",
       "</g>\n",
       "</svg>\n"
      ],
      "text/plain": [
       "<graphviz.dot.Digraph at 0x7f12b8a34080>"
      ]
     },
     "metadata": {},
     "output_type": "display_data"
    }
   ],
   "source": [
    "pipeline_model.visualize()"
   ]
  },
  {
   "cell_type": "markdown",
   "metadata": {
    "pycharm": {
     "name": "#%% md\n"
    }
   },
   "source": [
    "<a id=\"train_holdout_read\"></a>\n",
    "### Read training and holdout data\n",
    "\n",
    "Retrieve training dataset from AutoAI experiment as pandas DataFrame."
   ]
  },
  {
   "cell_type": "code",
   "execution_count": 9,
   "metadata": {
    "pycharm": {
     "name": "#%%\n"
    }
   },
   "outputs": [],
   "source": [
    "training_df, holdout_df = optimizer.get_data_connections()[0].read(with_holdout_split=True)\n",
    "\n",
    "train_X = training_df.drop([experiment_metadata['prediction_column']], axis=1).values\n",
    "train_y = training_df[experiment_metadata['prediction_column']].values\n",
    "\n",
    "test_X = holdout_df.drop([experiment_metadata['prediction_column']], axis=1).values\n",
    "y_true = holdout_df[experiment_metadata['prediction_column']].values"
   ]
  },
  {
   "cell_type": "markdown",
   "metadata": {
    "pycharm": {
     "name": "#%% md\n"
    }
   },
   "source": [
    "<a id=\"test_model\"></a>\n",
    "### Test pipeline model locally\n",
    "**Note**: you can chose the metric to evaluate the model by your own, this example contains only a basic scenario."
   ]
  },
  {
   "cell_type": "code",
   "execution_count": 10,
   "metadata": {
    "pycharm": {
     "name": "#%%\n"
    }
   },
   "outputs": [
    {
     "name": "stdout",
     "output_type": "stream",
     "text": [
      "r2_score:  0.9995947493547936\n"
     ]
    }
   ],
   "source": [
    "from sklearn.metrics import r2_score\n",
    "\n",
    "predictions = pipeline_model.predict(test_X)\n",
    "score = r2_score(y_true=y_true, y_pred=predictions)\n",
    "print('r2_score: ', score)"
   ]
  },
  {
   "cell_type": "markdown",
   "metadata": {
    "pycharm": {
     "name": "#%% md\n"
    }
   },
   "source": [
    "<a id=\"refinery\"></a>\n",
    "## Pipeline refinery and testing (optional)\n",
    "\n",
    "In this section you will learn how to refine and retrain the best pipeline returned by AutoAI.\n",
    "It can be performed by:\n",
    " - modifying pipeline definition source code\n",
    " - using [lale](https://lale.readthedocs.io/en/latest/) library for semi-automated data science\n",
    "\n",
    "**Note**: In order to run this section change following cells to 'code' cell."
   ]
  },
  {
   "cell_type": "markdown",
   "metadata": {},
   "source": [
    "<a id=\"pipeline_definition\"></a>\n",
    "### Pipeline definition source code\n",
    "Following cell lets you experiment with pipeline definition in python, e.g. change steps parameters.\n",
    "\n",
    "It will inject pipeline definition to the next cell."
   ]
  },
  {
   "cell_type": "raw",
   "metadata": {
    "pycharm": {
     "name": "#%%\n"
    }
   },
   "source": [
    "pipeline_model.pretty_print(combinators=False, ipython_display='input')"
   ]
  },
  {
   "cell_type": "markdown",
   "metadata": {
    "pycharm": {
     "name": "#%% md\n"
    }
   },
   "source": [
    "<a id=\"lale_library\"></a>\n",
    "### Lale library\n",
    "\n",
    "**Note**: This is only an exemplary usage of lale package. You can import more different estimators to refine downloaded pipeline model."
   ]
  },
  {
   "cell_type": "markdown",
   "metadata": {},
   "source": [
    "#### Import estimators"
   ]
  },
  {
   "cell_type": "raw",
   "metadata": {
    "pycharm": {
     "is_executing": false,
     "name": "#%%\n"
    }
   },
   "source": [
    "from sklearn.linear_model import LinearRegression as E1\n",
    "from sklearn.tree import DecisionTreeRegressor as E2\n",
    "from sklearn.neighbors import KNeighborsRegressor as E3\n",
    "from lale.lib.lale import Hyperopt\n",
    "from lale.operators import TrainedPipeline\n",
    "from lale import wrap_imported_operators\n",
    "from lale.helpers import import_from_sklearn_pipeline\n",
    "wrap_imported_operators()"
   ]
  },
  {
   "cell_type": "markdown",
   "metadata": {
    "pycharm": {
     "name": "#%% md\n"
    }
   },
   "source": [
    "<a id=\"decomposition_definition\"></a>\n",
    "#### Pipeline decomposition and new definition\n",
    "In this step the last stage from pipeline is removed."
   ]
  },
  {
   "cell_type": "raw",
   "metadata": {
    "pycharm": {
     "name": "#%%\n"
    }
   },
   "source": [
    "prefix = pipeline_model.remove_last().freeze_trainable()\n",
    "prefix.visualize()"
   ]
  },
  {
   "cell_type": "raw",
   "metadata": {
    "pycharm": {
     "is_executing": false,
     "name": "#%%\n"
    }
   },
   "source": [
    "new_pipeline = prefix >> (E1 | E2 | E3)\n",
    "new_pipeline.visualize()"
   ]
  },
  {
   "cell_type": "markdown",
   "metadata": {
    "pycharm": {
     "name": "#%% md\n"
    }
   },
   "source": [
    "<a id=\"new_optimizer\"></a>\n",
    "#### New optimizer `hyperopt` configuration and training\n",
    "\n",
    "This section can introduce other results than the original one and it should be used\n",
    "by more advanced users.\n",
    "\n",
    "New pipeline is re-trained by passing train data to it and calling `fit` method."
   ]
  },
  {
   "cell_type": "raw",
   "metadata": {
    "pycharm": {
     "name": "#%%\n"
    }
   },
   "source": [
    "hyperopt = Hyperopt(estimator=new_pipeline, cv=3, max_evals=20, scoring='r2')\n",
    "fitted_hyperopt = hyperopt.fit(train_X, train_y)"
   ]
  },
  {
   "cell_type": "raw",
   "metadata": {
    "pycharm": {
     "name": "#%%\n"
    }
   },
   "source": [
    "hyperopt_pipeline = fitted_hyperopt.get_pipeline()\n",
    "new_pipeline = hyperopt_pipeline.export_to_sklearn_pipeline()"
   ]
  },
  {
   "cell_type": "raw",
   "metadata": {
    "pycharm": {
     "name": "#%%\n"
    }
   },
   "source": [
    "predictions = new_pipeline.predict(train_X)"
   ]
  },
  {
   "cell_type": "raw",
   "metadata": {
    "pycharm": {
     "name": "#%%\n"
    }
   },
   "source": [
    "predictions = new_pipeline.predict(test_X)\n",
    "refined_score = r2_score(y_true=y_true, y_pred=predictions)\n",
    "print('r2_score: ', score)\n",
    "print('refined_r2_score: ', refined_score)"
   ]
  },
  {
   "cell_type": "code",
   "execution_count": 15,
   "metadata": {},
   "outputs": [
    {
     "data": {
      "image/png": "[encoded data removed]",
      "text/plain": [
       "<Figure size 432x288 with 1 Axes>"
      ]
     },
     "metadata": {
      "needs_background": "light"
     },
     "output_type": "display_data"
    }
   ],
   "source": [
    "import matplotlib.pyplot as plt\n",
    "fig, pX = plt.subplots()\n",
    "\n",
    "pX.scatter(y_true, predictions, edgecolors=(0, 0, 0))\n",
    "pX.plot([y_true.min(), y_true.max()], [y_true.min(), y_true.max()], 'm--', lw=3)\n",
    "pX.set_xlabel('Actual Data')\n",
    "pX.set_ylabel('Predicted Data')\n",
    "pX.set_title(\"Verified vs Predicted\")\n",
    "plt.show()"
   ]
  },
  {
   "cell_type": "markdown",
   "metadata": {
    "pycharm": {
     "name": "#%% md\n"
    }
   },
   "source": [
    "<a id=\"scoring\"></a>\n",
    "## Deploy and Score\n",
    "\n",
    "In this section you will learn how to deploy and score pipeline model as webservice using WML instance."
   ]
  },
  {
   "cell_type": "markdown",
   "metadata": {},
   "source": [
    "<a id=\"wml_credentials\"></a>\n",
    "### Connect to WML client in order to create deployment\n",
    "**Action:** Next you will need credentials for Watson Machine Learning and training run_id:\n",
    " - go to [Cloud catalog resources list](https://cloud.ibm.com/resources)\n",
    " - click on Services and chose Machine Learning service. Once you are there\n",
    " - click the **Service Credentials** link on the left side of the screen\n",
    " - click to expand specific credentials name.\n",
    " - copy and paste your WML credentials into the cell below\n",
    "\n",
    "*Take in mind that WML Service instance should be the same as used to generate this notebook.*"
   ]
  },
  {
   "cell_type": "code",
   "execution_count": 11,
   "metadata": {
    "pycharm": {
     "name": "#%%\n"
    }
   },
   "outputs": [],
   "source": [
    "wml_credentials = {\n",
    "  \"apikey\": \"\",\n",
    "  \"iam_apikey_description\": \"\",\n",
    "  \"iam_apikey_name\": \"\",\n",
    "  \"iam_role_crn\": \"r\",\n",
    "  \"iam_serviceid_crn\": \"\",\n",
    "  \"instance_id\": \"\",\n",
    "  \"url\": \"\"\n",
    "}"
   ]
  },
  {
   "cell_type": "markdown",
   "metadata": {},
   "source": [
    "<a id=\"deployment\"></a>\n",
    "### Create deployment\n",
    "\n",
    "**Action**: If you want to deploy refined pipeline please change the `pipeline_model` to `new_pipeline`.\n",
    " \n",
    "If you prefer you can also change the `deployment_name`."
   ]
  },
  {
   "cell_type": "code",
   "execution_count": 12,
   "metadata": {
    "pycharm": {
     "name": "#%%\n"
    }
   },
   "outputs": [
    {
     "ename": "IndexError",
     "evalue": "string index out of range",
     "output_type": "error",
     "traceback": [
      "\u001b[0;31m---------------------------------------------------------------------------\u001b[0m",
      "\u001b[0;31mIndexError\u001b[0m                                Traceback (most recent call last)",
      "\u001b[0;32m<ipython-input-12-5b803fbbdb2d>\u001b[0m in \u001b[0;36m<module>\u001b[0;34m\u001b[0m\n\u001b[1;32m      1\u001b[0m \u001b[0;32mfrom\u001b[0m \u001b[0mwatson_machine_learning_client\u001b[0m\u001b[0;34m.\u001b[0m\u001b[0mdeployment\u001b[0m \u001b[0;32mimport\u001b[0m \u001b[0mWebService\u001b[0m\u001b[0;34m\u001b[0m\u001b[0;34m\u001b[0m\u001b[0m\n\u001b[1;32m      2\u001b[0m \u001b[0;34m\u001b[0m\u001b[0m\n\u001b[0;32m----> 3\u001b[0;31m \u001b[0mservice\u001b[0m \u001b[0;34m=\u001b[0m \u001b[0mWebService\u001b[0m\u001b[0;34m(\u001b[0m\u001b[0mwml_credentials\u001b[0m\u001b[0;34m)\u001b[0m\u001b[0;34m\u001b[0m\u001b[0;34m\u001b[0m\u001b[0m\n\u001b[0m\u001b[1;32m      4\u001b[0m \u001b[0;34m\u001b[0m\u001b[0m\n\u001b[1;32m      5\u001b[0m service.create(\n",
      "\u001b[0;32m/opt/conda/envs/Python36/lib/python3.6/site-packages/watson_machine_learning_client/deployment/web_service.py\u001b[0m in \u001b[0;36m__init__\u001b[0;34m(self, wml_credentials, project_id, space_id)\u001b[0m\n\u001b[1;32m     44\u001b[0m             self._workspace = WorkSpace(wml_credentials=wml_credentials.copy(),\n\u001b[1;32m     45\u001b[0m                                         \u001b[0mproject_id\u001b[0m\u001b[0;34m=\u001b[0m\u001b[0mproject_id\u001b[0m\u001b[0;34m,\u001b[0m\u001b[0;34m\u001b[0m\u001b[0;34m\u001b[0m\u001b[0m\n\u001b[0;32m---> 46\u001b[0;31m                                         space_id=space_id)\n\u001b[0m\u001b[1;32m     47\u001b[0m         \u001b[0;31m# --- end note\u001b[0m\u001b[0;34m\u001b[0m\u001b[0;34m\u001b[0m\u001b[0;34m\u001b[0m\u001b[0m\n\u001b[1;32m     48\u001b[0m \u001b[0;34m\u001b[0m\u001b[0m\n",
      "\u001b[0;32m/opt/conda/envs/Python36/lib/python3.6/site-packages/watson_machine_learning_client/workspace/workspace.py\u001b[0m in \u001b[0;36m__init__\u001b[0;34m(self, wml_credentials, project_id, space_id)\u001b[0m\n\u001b[1;32m     40\u001b[0m         \u001b[0mself\u001b[0m\u001b[0;34m.\u001b[0m\u001b[0mspace_id\u001b[0m \u001b[0;34m=\u001b[0m \u001b[0mspace_id\u001b[0m\u001b[0;34m\u001b[0m\u001b[0;34m\u001b[0m\u001b[0m\n\u001b[1;32m     41\u001b[0m         \u001b[0mself\u001b[0m\u001b[0;34m.\u001b[0m\u001b[0mWMLS\u001b[0m \u001b[0;34m=\u001b[0m \u001b[0;32mFalse\u001b[0m\u001b[0;34m\u001b[0m\u001b[0;34m\u001b[0m\u001b[0m\n\u001b[0;32m---> 42\u001b[0;31m         \u001b[0mself\u001b[0m\u001b[0;34m.\u001b[0m\u001b[0mwml_client\u001b[0m \u001b[0;34m=\u001b[0m \u001b[0mWatsonMachineLearningAPIClient\u001b[0m\u001b[0;34m(\u001b[0m\u001b[0mwml_credentials\u001b[0m\u001b[0;34m=\u001b[0m\u001b[0mwml_credentials\u001b[0m\u001b[0;34m)\u001b[0m\u001b[0;34m\u001b[0m\u001b[0;34m\u001b[0m\u001b[0m\n\u001b[0m\u001b[1;32m     43\u001b[0m \u001b[0;34m\u001b[0m\u001b[0m\n\u001b[1;32m     44\u001b[0m         \u001b[0;32mif\u001b[0m \u001b[0mwml_credentials\u001b[0m\u001b[0;34m[\u001b[0m\u001b[0;34mu'instance_id'\u001b[0m\u001b[0;34m]\u001b[0m\u001b[0;34m.\u001b[0m\u001b[0mlower\u001b[0m\u001b[0;34m(\u001b[0m\u001b[0;34m)\u001b[0m \u001b[0;34m==\u001b[0m \u001b[0;34m'wml_local'\u001b[0m\u001b[0;34m:\u001b[0m\u001b[0;34m\u001b[0m\u001b[0;34m\u001b[0m\u001b[0m\n",
      "\u001b[0;32m/opt/conda/envs/Python36/lib/python3.6/site-packages/watson_machine_learning_client/client.py\u001b[0m in \u001b[0;36m__init__\u001b[0;34m(self, wml_credentials, project_id)\u001b[0m\n\u001b[1;32m     61\u001b[0m         \u001b[0;32mif\u001b[0m \u001b[0mwml_credentials\u001b[0m \u001b[0;32mis\u001b[0m \u001b[0;32mNone\u001b[0m\u001b[0;34m:\u001b[0m\u001b[0;34m\u001b[0m\u001b[0;34m\u001b[0m\u001b[0m\n\u001b[1;32m     62\u001b[0m             \u001b[0;32mraise\u001b[0m \u001b[0mNoWMLCredentialsProvided\u001b[0m\u001b[0;34m(\u001b[0m\u001b[0;34m)\u001b[0m\u001b[0;34m\u001b[0m\u001b[0;34m\u001b[0m\u001b[0m\n\u001b[0;32m---> 63\u001b[0;31m         \u001b[0;32mif\u001b[0m \u001b[0mself\u001b[0m\u001b[0;34m.\u001b[0m\u001b[0mwml_credentials\u001b[0m\u001b[0;34m[\u001b[0m\u001b[0;34m'url'\u001b[0m\u001b[0;34m]\u001b[0m\u001b[0;34m[\u001b[0m\u001b[0;34m-\u001b[0m\u001b[0;36m1\u001b[0m\u001b[0;34m]\u001b[0m \u001b[0;34m==\u001b[0m \u001b[0;34m\"/\"\u001b[0m\u001b[0;34m:\u001b[0m\u001b[0;34m\u001b[0m\u001b[0;34m\u001b[0m\u001b[0m\n\u001b[0m\u001b[1;32m     64\u001b[0m             \u001b[0mself\u001b[0m\u001b[0;34m.\u001b[0m\u001b[0mwml_credentials\u001b[0m\u001b[0;34m[\u001b[0m\u001b[0;34m'url'\u001b[0m\u001b[0;34m]\u001b[0m \u001b[0;34m=\u001b[0m \u001b[0mself\u001b[0m\u001b[0;34m.\u001b[0m\u001b[0mwml_credentials\u001b[0m\u001b[0;34m[\u001b[0m\u001b[0;34m'url'\u001b[0m\u001b[0;34m]\u001b[0m\u001b[0;34m.\u001b[0m\u001b[0mrstrip\u001b[0m\u001b[0;34m(\u001b[0m\u001b[0;34m'/'\u001b[0m\u001b[0;34m)\u001b[0m\u001b[0;34m\u001b[0m\u001b[0;34m\u001b[0m\u001b[0m\n\u001b[1;32m     65\u001b[0m         \u001b[0;32mif\u001b[0m \u001b[0;34m'icp'\u001b[0m \u001b[0;34m==\u001b[0m \u001b[0mwml_credentials\u001b[0m\u001b[0;34m[\u001b[0m\u001b[0;34mu'instance_id'\u001b[0m\u001b[0;34m]\u001b[0m\u001b[0;34m.\u001b[0m\u001b[0mlower\u001b[0m\u001b[0;34m(\u001b[0m\u001b[0;34m)\u001b[0m \u001b[0;32mor\u001b[0m \u001b[0;34m'openshift'\u001b[0m \u001b[0;34m==\u001b[0m \u001b[0mwml_credentials\u001b[0m\u001b[0;34m[\u001b[0m\u001b[0;34mu'instance_id'\u001b[0m\u001b[0;34m]\u001b[0m\u001b[0;34m.\u001b[0m\u001b[0mlower\u001b[0m\u001b[0;34m(\u001b[0m\u001b[0;34m)\u001b[0m \u001b[0;32mor\u001b[0m \u001b[0;34m'wml_local'\u001b[0m \u001b[0;34m==\u001b[0m \u001b[0mwml_credentials\u001b[0m\u001b[0;34m[\u001b[0m\u001b[0;34mu'instance_id'\u001b[0m\u001b[0;34m]\u001b[0m\u001b[0;34m.\u001b[0m\u001b[0mlower\u001b[0m\u001b[0;34m(\u001b[0m\u001b[0;34m)\u001b[0m\u001b[0;34m:\u001b[0m\u001b[0;34m\u001b[0m\u001b[0;34m\u001b[0m\u001b[0m\n",
      "\u001b[0;31mIndexError\u001b[0m: string index out of range"
     ]
    }
   ],
   "source": [
    "from watson_machine_learning_client.deployment import WebService\n",
    "\n",
    "service = WebService(wml_credentials)\n",
    "\n",
    "service.create(\n",
    "    model=pipeline_model,\n",
    "    metadata=experiment_metadata,\n",
    "    deployment_name=f'{pipeline_name}_webservice'\n",
    ")"
   ]
  },
  {
   "cell_type": "markdown",
   "metadata": {},
   "source": [
    "Deployment object could be printed to show basic information:"
   ]
  },
  {
   "cell_type": "code",
   "execution_count": null,
   "metadata": {
    "pycharm": {
     "name": "#%%\n"
    }
   },
   "outputs": [],
   "source": [
    "print(service)"
   ]
  },
  {
   "cell_type": "markdown",
   "metadata": {},
   "source": [
    "To be able to show all available information about deployment use `.get_params()` method:"
   ]
  },
  {
   "cell_type": "code",
   "execution_count": null,
   "metadata": {
    "pycharm": {
     "name": "#%%\n"
    }
   },
   "outputs": [],
   "source": [
    "service.get_params()"
   ]
  },
  {
   "cell_type": "markdown",
   "metadata": {
    "pycharm": {
     "name": "#%% md\n"
    }
   },
   "source": [
    "<a id=\"online_scoring\"></a>\n",
    "### Score webservice\n",
    "You can make scoring request by calling `score()` on deployed pipeline."
   ]
  },
  {
   "cell_type": "code",
   "execution_count": null,
   "metadata": {
    "pycharm": {
     "name": "#%%\n"
    }
   },
   "outputs": [],
   "source": [
    "predictions = service.score(payload=holdout_df.drop([experiment_metadata['prediction_column']], axis=1).iloc[:10])\n",
    "predictions"
   ]
  },
  {
   "cell_type": "markdown",
   "metadata": {},
   "source": [
    "If you want to work with the webservice in external Python application you can retrieve the service object by:\n",
    " - initialize service by `service = WebService(wml_credentials)`\n",
    " - get deployment_id by `service.list()` method\n",
    " - get webservice object by `service.get('deployment_id')` method\n",
    "\n",
    "After that you can call `service.score()` method."
   ]
  },
  {
   "cell_type": "markdown",
   "metadata": {
    "pycharm": {
     "name": "#%% md\n"
    }
   },
   "source": [
    "<a id=\"delete_deployment\"></a>\n",
    "### Delete deployment\n",
    "\n",
    "You can delete an existing deployment by calling `service.delete()`."
   ]
  },
  {
   "cell_type": "markdown",
   "metadata": {
    "pycharm": {
     "name": "#%% md\n"
    }
   },
   "source": [
    "<a id=\"authors\"></a>\n",
    "### Authors\n",
    "\n",
    "Licensed Materials - Copyright © 2020 IBM. This notebook and its source code are released under the terms of the ILAN License.\n",
    "Use, duplication disclosure restricted by GSA ADP Schedule Contract with IBM Corp.\n",
    "\n",
    "**Note:** The auto-generated notebooks are subject to the International License Agreement for Non-Warranted Programs  \n",
    "(or equivalent) and License Information document for Watson Studio Auto-generated Notebook (License Terms),  \n",
    "such agreements located in the link below. Specifically, the Source Components and Sample Materials clause  \n",
    "included in the License Information document for Watson Studio Auto-generated Notebook applies to the auto-generated notebooks.  \n",
    "\n",
    "By downloading, copying, accessing, or otherwise using the materials, you agree to the <a href=\"http://www14.software.ibm.com/cgi-bin/weblap/lap.pl?li_formnum=L-AMCU-BHU2B7&title=IBM%20Watson%20Studio%20Auto-generated%20Notebook%20V2.1\">License Terms</a>  \n",
    "\n",
    "___"
   ]
  }
 ],
 "metadata": {
  "kernelspec": {
   "display_name": "Python 3.6",
   "language": "python",
   "name": "python3"
  },
  "language_info": {
   "codemirror_mode": {
    "name": "ipython",
    "version": 3
   },
   "file_extension": ".py",
   "mimetype": "text/x-python",
   "name": "python",
   "nbconvert_exporter": "python",
   "pygments_lexer": "ipython3",
   "version": "3.6.9"
  }
 },
 "nbformat": 4,
 "nbformat_minor": 2
}
