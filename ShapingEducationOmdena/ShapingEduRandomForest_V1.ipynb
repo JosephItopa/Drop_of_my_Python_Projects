{
  "nbformat": 4,
  "nbformat_minor": 0,
  "metadata": {
    "colab": {
      "name": "ShapingEduRandomForest_V1.ipynb",
      "provenance": []
    },
    "kernelspec": {
      "name": "python3",
      "display_name": "Python 3"
    }
  },
  "cells": [
    {
      "cell_type": "code",
      "metadata": {
        "id": "BThbV6VYo4-0",
        "colab_type": "code",
        "colab": {}
      },
      "source": [
        "#Import all needed libraries for this project\n",
        "import numpy as np\n",
        "import pandas as pd\n",
        "import time\n",
        "\n",
        "from sklearn.preprocessing import StandardScaler \n",
        "#from sklearn.decomposition import PCA\n",
        "from sklearn.model_selection import train_test_split\n",
        "from sklearn.metrics import mean_squared_error, r2_score\n",
        "from sklearn.ensemble import RandomForestRegressor\n",
        "import matplotlib.pyplot as plt\n",
        "from sklearn.metrics import confusion_matrix, accuracy_score, classification_report"
      ],
      "execution_count": 0,
      "outputs": []
    },
    {
      "cell_type": "code",
      "metadata": {
        "id": "z_UXsHK5pCoi",
        "colab_type": "code",
        "colab": {}
      },
      "source": [
        "#Sample datasets are already imported as presented by Xavier_Torres\n",
        "df = pd.read_csv('data_for_Model_v2.csv')"
      ],
      "execution_count": 0,
      "outputs": []
    },
    {
      "cell_type": "code",
      "metadata": {
        "id": "Z-xnbeTIqcSj",
        "colab_type": "code",
        "colab": {}
      },
      "source": [
        "y = df['hdi_human_development_index']\n",
        "x = df = df.drop(columns=['country','year','hdi_human_development_index'])"
      ],
      "execution_count": 0,
      "outputs": []
    },
    {
      "cell_type": "code",
      "metadata": {
        "id": "aQlPD_yRpQfn",
        "colab_type": "code",
        "colab": {}
      },
      "source": [
        "# Split train and test\n",
        "X_train, X_test, Y_train, Y_test = train_test_split(x, y, test_size = 0.25, random_state=10, shuffle=True)\n"
      ],
      "execution_count": 0,
      "outputs": []
    },
    {
      "cell_type": "code",
      "metadata": {
        "id": "m5J34NlepVZx",
        "colab_type": "code",
        "colab": {}
      },
      "source": [
        "#NeXt Step is to Scale features by standardizing\n",
        "sf = StandardScaler()\n",
        "X_train = sf.fit_transform(X_train)\n",
        "X_test = sf.transform(X_test)"
      ],
      "execution_count": 0,
      "outputs": []
    },
    {
      "cell_type": "code",
      "metadata": {
        "id": "8w0LFLAHpcXX",
        "colab_type": "code",
        "colab": {}
      },
      "source": [
        "#Training the algorithm with the sample dataset\n",
        "estModel = RandomForestRegressor(n_estimators = 300, random_state = 5)\n",
        "estModel.fit(X_train, Y_train)\n",
        "#Model Score\n",
        "mScore = estModel.score(X_train,Y_train)\n",
        "\n",
        "#Prediction\n",
        "Predict_Y = estModel.predict(X_test)"
      ],
      "execution_count": 0,
      "outputs": []
    },
    {
      "cell_type": "code",
      "metadata": {
        "id": "P9Xw4Zuapjng",
        "colab_type": "code",
        "colab": {
          "base_uri": "https://localhost:8080/",
          "height": 72
        },
        "outputId": "0ad1d2fd-40fa-4070-c615-bd439430daa3"
      },
      "source": [
        "#Evaluating algorithm performance\n",
        "#MSE Result\n",
        "rmse = mean_squared_error(Y_test,Predict_Y)\n",
        "print('Root Mean Squared Error:, %.2f' % np.sqrt(rmse))\n",
        "#Variance score: 1 is perfect prediction score\n",
        "print('Test Variance Score: %.4f' % r2_score(Y_test, Predict_Y))\n",
        "#Variance score: 1 is perfect prediction score\n",
        "print('R^2 Prediction Score: %.4f'% mScore)"
      ],
      "execution_count": 9,
      "outputs": [
        {
          "output_type": "stream",
          "text": [
            "Root Mean Squared Error:, 0.05\n",
            "Test Variance Score: 0.9959\n",
            "R^2 Prediction Score: 0.9983\n"
          ],
          "name": "stdout"
        }
      ]
    },
    {
      "cell_type": "code",
      "metadata": {
        "id": "53Ll8jbUp8Ni",
        "colab_type": "code",
        "colab": {
          "base_uri": "https://localhost:8080/",
          "height": 295
        },
        "outputId": "2b96d863-5864-4ff9-e1fd-e8845fec56f5"
      },
      "source": [
        "#Root Mean Squared Error\n",
        "#mse = np.sqrt(np.mean((Y_test - Predict_Y)**2))\n",
        "time.sleep(1)\n",
        "#rint('Root Mean Square Error: %.4f'%rmse)\n",
        "#Run the model against the test data presented through a plot\n",
        "fig, pX = plt.subplots()\n",
        "\n",
        "pX.scatter(Y_test, Predict_Y, edgecolors=(0, 0, 0))\n",
        "pX.plot([Y_test.min(), Y_test.max()], [Y_test.min(), Y_test.max()], 'm--', lw=3)\n",
        "pX.set_xlabel('Actual Data')\n",
        "pX.set_ylabel('Predicted Data')\n",
        "pX.set_title(\"Verified vs Predicted\")\n",
        "plt.show()"
      ],
      "execution_count": 10,
      "outputs": [
        {
          "output_type": "display_data",
          "data": {
            "image/png": "[encoded data removed]",
            "text/plain": [
              "<Figure size 432x288 with 1 Axes>"
            ]
          },
          "metadata": {
            "tags": [],
            "needs_background": "light"
          }
        }
      ]
    }
  ]
}