{
  "nbformat": 4,
  "nbformat_minor": 0,
  "metadata": {
    "colab": {
      "name": "bed_utilization_rate_prediction_model.ipynb",
      "provenance": [],
      "authorship_tag": "ABX9TyPfkPiUB2SRTHB+Mfbj6Jwp",
      "include_colab_link": true
    },
    "kernelspec": {
      "name": "python3",
      "display_name": "Python 3"
    }
  },
  "cells": [
    {
      "cell_type": "markdown",
      "metadata": {
        "id": "view-in-github",
        "colab_type": "text"
      },
      "source": [
        "<a href=\"https://colab.research.google.com/github/light-ti-man/Drop_of_my_Python_Projects/blob/master/Hackathon/bed_utilization_rate_prediction_model.ipynb\" target=\"_parent\"><img src=\"https://colab.research.google.com/assets/colab-badge.svg\" alt=\"Open In Colab\"/></a>"
      ]
    },
    {
      "cell_type": "code",
      "metadata": {
        "id": "Ow6pkvV7CHea"
      },
      "source": [
        "import numpy as np\n",
        "import pandas as pd\n",
        "\n",
        "from sklearn.ensemble import RandomForestRegressor, AdaBoostRegressor, GradientBoostingRegressor\n",
        "from sklearn.model_selection import train_test_split\n",
        "from sklearn.metrics import mean_squared_error, r2_score\n",
        "\n",
        "from sklearn.model_selection import GridSearchCV\n",
        "import matplotlib.pyplot as plt\n",
        "import seaborn as sns\n",
        "import math"
      ],
      "execution_count": 1,
      "outputs": []
    },
    {
      "cell_type": "code",
      "metadata": {
        "id": "87lRiceFG1Mf",
        "outputId": "800aa4da-9b76-4f7c-839f-75959871fb4d",
        "colab": {
          "base_uri": "https://localhost:8080/",
          "height": 244
        }
      },
      "source": [
        "df = pd.read_csv('merge-result-cleaned1.csv')\n",
        "df.head(5)"
      ],
      "execution_count": 2,
      "outputs": [
        {
          "output_type": "execute_result",
          "data": {
            "text/html": [
              "<div>\n",
              "<style scoped>\n",
              "    .dataframe tbody tr th:only-of-type {\n",
              "        vertical-align: middle;\n",
              "    }\n",
              "\n",
              "    .dataframe tbody tr th {\n",
              "        vertical-align: top;\n",
              "    }\n",
              "\n",
              "    .dataframe thead th {\n",
              "        text-align: right;\n",
              "    }\n",
              "</style>\n",
              "<table border=\"1\" class=\"dataframe\">\n",
              "  <thead>\n",
              "    <tr style=\"text-align: right;\">\n",
              "      <th></th>\n",
              "      <th>Unnamed: 0</th>\n",
              "      <th>NUM_LICENSED_BEDS</th>\n",
              "      <th>NUM_STAFFED_BEDS</th>\n",
              "      <th>NUM_ICU_BEDS</th>\n",
              "      <th>ADULT_ICU_BEDS</th>\n",
              "      <th>PEDI_ICU_BEDS</th>\n",
              "      <th>BED_UTILIZATION</th>\n",
              "      <th>Potential_Increase_In_Bed_Capac</th>\n",
              "      <th>AVG_VENTILATOR_USAGE</th>\n",
              "      <th>cases</th>\n",
              "      <th>deaths</th>\n",
              "    </tr>\n",
              "  </thead>\n",
              "  <tbody>\n",
              "    <tr>\n",
              "      <th>0</th>\n",
              "      <td>0</td>\n",
              "      <td>85.0</td>\n",
              "      <td>55.0</td>\n",
              "      <td>6.0</td>\n",
              "      <td>6.0</td>\n",
              "      <td>0.0</td>\n",
              "      <td>0.623113</td>\n",
              "      <td>30.0</td>\n",
              "      <td>2.0</td>\n",
              "      <td>39785.0</td>\n",
              "      <td>931.0</td>\n",
              "    </tr>\n",
              "    <tr>\n",
              "      <th>1</th>\n",
              "      <td>1</td>\n",
              "      <td>386.0</td>\n",
              "      <td>362.0</td>\n",
              "      <td>51.0</td>\n",
              "      <td>51.0</td>\n",
              "      <td>0.0</td>\n",
              "      <td>2.248812</td>\n",
              "      <td>24.0</td>\n",
              "      <td>8.0</td>\n",
              "      <td>77258.0</td>\n",
              "      <td>992.0</td>\n",
              "    </tr>\n",
              "    <tr>\n",
              "      <th>2</th>\n",
              "      <td>2</td>\n",
              "      <td>74.0</td>\n",
              "      <td>30.0</td>\n",
              "      <td>5.0</td>\n",
              "      <td>5.0</td>\n",
              "      <td>0.0</td>\n",
              "      <td>0.378721</td>\n",
              "      <td>44.0</td>\n",
              "      <td>2.0</td>\n",
              "      <td>24648.0</td>\n",
              "      <td>155.0</td>\n",
              "    </tr>\n",
              "    <tr>\n",
              "      <th>3</th>\n",
              "      <td>3</td>\n",
              "      <td>35.0</td>\n",
              "      <td>25.0</td>\n",
              "      <td>4.0</td>\n",
              "      <td>4.0</td>\n",
              "      <td>0.0</td>\n",
              "      <td>0.430904</td>\n",
              "      <td>10.0</td>\n",
              "      <td>1.0</td>\n",
              "      <td>13685.0</td>\n",
              "      <td>103.0</td>\n",
              "    </tr>\n",
              "    <tr>\n",
              "      <th>4</th>\n",
              "      <td>4</td>\n",
              "      <td>25.0</td>\n",
              "      <td>25.0</td>\n",
              "      <td>6.0</td>\n",
              "      <td>6.0</td>\n",
              "      <td>0.0</td>\n",
              "      <td>0.499069</td>\n",
              "      <td>0.0</td>\n",
              "      <td>2.0</td>\n",
              "      <td>19359.0</td>\n",
              "      <td>82.0</td>\n",
              "    </tr>\n",
              "  </tbody>\n",
              "</table>\n",
              "</div>"
            ],
            "text/plain": [
              "   Unnamed: 0  NUM_LICENSED_BEDS  ...    cases  deaths\n",
              "0           0               85.0  ...  39785.0   931.0\n",
              "1           1              386.0  ...  77258.0   992.0\n",
              "2           2               74.0  ...  24648.0   155.0\n",
              "3           3               35.0  ...  13685.0   103.0\n",
              "4           4               25.0  ...  19359.0    82.0\n",
              "\n",
              "[5 rows x 11 columns]"
            ]
          },
          "metadata": {
            "tags": []
          },
          "execution_count": 2
        }
      ]
    },
    {
      "cell_type": "code",
      "metadata": {
        "id": "V5E03RZ0LyyG",
        "outputId": "e26f8b63-ec49-4f51-a41d-dca0ce08432b",
        "colab": {
          "base_uri": "https://localhost:8080/",
          "height": 109
        }
      },
      "source": [
        "df.columns"
      ],
      "execution_count": 3,
      "outputs": [
        {
          "output_type": "execute_result",
          "data": {
            "text/plain": [
              "Index(['Unnamed: 0', 'NUM_LICENSED_BEDS', 'NUM_STAFFED_BEDS', 'NUM_ICU_BEDS',\n",
              "       'ADULT_ICU_BEDS', 'PEDI_ICU_BEDS', 'BED_UTILIZATION',\n",
              "       'Potential_Increase_In_Bed_Capac', 'AVG_VENTILATOR_USAGE', 'cases',\n",
              "       'deaths'],\n",
              "      dtype='object')"
            ]
          },
          "metadata": {
            "tags": []
          },
          "execution_count": 3
        }
      ]
    },
    {
      "cell_type": "code",
      "metadata": {
        "id": "U3w9biXuL6sg",
        "outputId": "ff3db60b-7cec-4062-b24d-40eab7fec093",
        "colab": {
          "base_uri": "https://localhost:8080/",
          "height": 226
        }
      },
      "source": [
        "df = df.drop(['Unnamed: 0'], axis=1)\n",
        "df.head(5)"
      ],
      "execution_count": 4,
      "outputs": [
        {
          "output_type": "execute_result",
          "data": {
            "text/html": [
              "<div>\n",
              "<style scoped>\n",
              "    .dataframe tbody tr th:only-of-type {\n",
              "        vertical-align: middle;\n",
              "    }\n",
              "\n",
              "    .dataframe tbody tr th {\n",
              "        vertical-align: top;\n",
              "    }\n",
              "\n",
              "    .dataframe thead th {\n",
              "        text-align: right;\n",
              "    }\n",
              "</style>\n",
              "<table border=\"1\" class=\"dataframe\">\n",
              "  <thead>\n",
              "    <tr style=\"text-align: right;\">\n",
              "      <th></th>\n",
              "      <th>NUM_LICENSED_BEDS</th>\n",
              "      <th>NUM_STAFFED_BEDS</th>\n",
              "      <th>NUM_ICU_BEDS</th>\n",
              "      <th>ADULT_ICU_BEDS</th>\n",
              "      <th>PEDI_ICU_BEDS</th>\n",
              "      <th>BED_UTILIZATION</th>\n",
              "      <th>Potential_Increase_In_Bed_Capac</th>\n",
              "      <th>AVG_VENTILATOR_USAGE</th>\n",
              "      <th>cases</th>\n",
              "      <th>deaths</th>\n",
              "    </tr>\n",
              "  </thead>\n",
              "  <tbody>\n",
              "    <tr>\n",
              "      <th>0</th>\n",
              "      <td>85.0</td>\n",
              "      <td>55.0</td>\n",
              "      <td>6.0</td>\n",
              "      <td>6.0</td>\n",
              "      <td>0.0</td>\n",
              "      <td>0.623113</td>\n",
              "      <td>30.0</td>\n",
              "      <td>2.0</td>\n",
              "      <td>39785.0</td>\n",
              "      <td>931.0</td>\n",
              "    </tr>\n",
              "    <tr>\n",
              "      <th>1</th>\n",
              "      <td>386.0</td>\n",
              "      <td>362.0</td>\n",
              "      <td>51.0</td>\n",
              "      <td>51.0</td>\n",
              "      <td>0.0</td>\n",
              "      <td>2.248812</td>\n",
              "      <td>24.0</td>\n",
              "      <td>8.0</td>\n",
              "      <td>77258.0</td>\n",
              "      <td>992.0</td>\n",
              "    </tr>\n",
              "    <tr>\n",
              "      <th>2</th>\n",
              "      <td>74.0</td>\n",
              "      <td>30.0</td>\n",
              "      <td>5.0</td>\n",
              "      <td>5.0</td>\n",
              "      <td>0.0</td>\n",
              "      <td>0.378721</td>\n",
              "      <td>44.0</td>\n",
              "      <td>2.0</td>\n",
              "      <td>24648.0</td>\n",
              "      <td>155.0</td>\n",
              "    </tr>\n",
              "    <tr>\n",
              "      <th>3</th>\n",
              "      <td>35.0</td>\n",
              "      <td>25.0</td>\n",
              "      <td>4.0</td>\n",
              "      <td>4.0</td>\n",
              "      <td>0.0</td>\n",
              "      <td>0.430904</td>\n",
              "      <td>10.0</td>\n",
              "      <td>1.0</td>\n",
              "      <td>13685.0</td>\n",
              "      <td>103.0</td>\n",
              "    </tr>\n",
              "    <tr>\n",
              "      <th>4</th>\n",
              "      <td>25.0</td>\n",
              "      <td>25.0</td>\n",
              "      <td>6.0</td>\n",
              "      <td>6.0</td>\n",
              "      <td>0.0</td>\n",
              "      <td>0.499069</td>\n",
              "      <td>0.0</td>\n",
              "      <td>2.0</td>\n",
              "      <td>19359.0</td>\n",
              "      <td>82.0</td>\n",
              "    </tr>\n",
              "  </tbody>\n",
              "</table>\n",
              "</div>"
            ],
            "text/plain": [
              "   NUM_LICENSED_BEDS  NUM_STAFFED_BEDS  ...    cases  deaths\n",
              "0               85.0              55.0  ...  39785.0   931.0\n",
              "1              386.0             362.0  ...  77258.0   992.0\n",
              "2               74.0              30.0  ...  24648.0   155.0\n",
              "3               35.0              25.0  ...  13685.0   103.0\n",
              "4               25.0              25.0  ...  19359.0    82.0\n",
              "\n",
              "[5 rows x 10 columns]"
            ]
          },
          "metadata": {
            "tags": []
          },
          "execution_count": 4
        }
      ]
    },
    {
      "cell_type": "code",
      "metadata": {
        "id": "OZqyBXnUMIcm",
        "outputId": "aa4dec0d-8b95-46bc-ce0c-1aa270864127",
        "colab": {
          "base_uri": "https://localhost:8080/",
          "height": 219
        }
      },
      "source": [
        "df.isnull().sum()"
      ],
      "execution_count": 5,
      "outputs": [
        {
          "output_type": "execute_result",
          "data": {
            "text/plain": [
              "NUM_LICENSED_BEDS                  0\n",
              "NUM_STAFFED_BEDS                   0\n",
              "NUM_ICU_BEDS                       0\n",
              "ADULT_ICU_BEDS                     0\n",
              "PEDI_ICU_BEDS                      0\n",
              "BED_UTILIZATION                    0\n",
              "Potential_Increase_In_Bed_Capac    0\n",
              "AVG_VENTILATOR_USAGE               0\n",
              "cases                              0\n",
              "deaths                             0\n",
              "dtype: int64"
            ]
          },
          "metadata": {
            "tags": []
          },
          "execution_count": 5
        }
      ]
    },
    {
      "cell_type": "code",
      "metadata": {
        "id": "DzkRiBUNMPgf"
      },
      "source": [
        "Y = df['BED_UTILIZATION']\n",
        "X = df.drop('BED_UTILIZATION',axis=1)"
      ],
      "execution_count": 6,
      "outputs": []
    },
    {
      "cell_type": "code",
      "metadata": {
        "id": "Evawz3LVMgK1"
      },
      "source": [
        "# Split train and test\n",
        "X_train, X_test, Y_train, Y_test = train_test_split(X, Y, test_size = 0.3, random_state=5)"
      ],
      "execution_count": 7,
      "outputs": []
    },
    {
      "cell_type": "markdown",
      "metadata": {
        "id": "Q7QodhIlQJGL"
      },
      "source": [
        "**Random Forest Model**"
      ]
    },
    {
      "cell_type": "code",
      "metadata": {
        "id": "UxX1_arZMzQF"
      },
      "source": [
        "RFRegressor = RandomForestRegressor()\n",
        "prm = {\n",
        "    \"n_estimators\":[200,400,600,800],\n",
        "    \"max_depth\":[16,32,64,128,256,None]\n",
        "}"
      ],
      "execution_count": 8,
      "outputs": []
    },
    {
      "cell_type": "code",
      "metadata": {
        "id": "9jkXsAQoM_ay",
        "outputId": "f2172663-5a72-4220-b9ff-9f89b8892c03",
        "colab": {
          "base_uri": "https://localhost:8080/",
          "height": 366
        }
      },
      "source": [
        "GS = GridSearchCV(RFRegressor,prm,cv=8)\n",
        "GS.fit(X_train, Y_train)"
      ],
      "execution_count": 9,
      "outputs": [
        {
          "output_type": "execute_result",
          "data": {
            "text/plain": [
              "GridSearchCV(cv=8, error_score=nan,\n",
              "             estimator=RandomForestRegressor(bootstrap=True, ccp_alpha=0.0,\n",
              "                                             criterion='mse', max_depth=None,\n",
              "                                             max_features='auto',\n",
              "                                             max_leaf_nodes=None,\n",
              "                                             max_samples=None,\n",
              "                                             min_impurity_decrease=0.0,\n",
              "                                             min_impurity_split=None,\n",
              "                                             min_samples_leaf=1,\n",
              "                                             min_samples_split=2,\n",
              "                                             min_weight_fraction_leaf=0.0,\n",
              "                                             n_estimators=100, n_jobs=None,\n",
              "                                             oob_score=False, random_state=None,\n",
              "                                             verbose=0, warm_start=False),\n",
              "             iid='deprecated', n_jobs=None,\n",
              "             param_grid={'max_depth': [16, 32, 64, 128, 256, None],\n",
              "                         'n_estimators': [200, 400, 600, 800]},\n",
              "             pre_dispatch='2*n_jobs', refit=True, return_train_score=False,\n",
              "             scoring=None, verbose=0)"
            ]
          },
          "metadata": {
            "tags": []
          },
          "execution_count": 9
        }
      ]
    },
    {
      "cell_type": "code",
      "metadata": {
        "id": "d6UK1QSQNMnB",
        "outputId": "b963990e-c800-4c01-febc-4ffae86a1620",
        "colab": {
          "base_uri": "https://localhost:8080/",
          "height": 54
        }
      },
      "source": [
        "#Prediction\n",
        "from sklearn.metrics import r2_score\n",
        "\n",
        "Predict_Y = GS.predict(X_test)\n",
        "#Evaluating algorithm performance\n",
        "r2 = r2_score(Y_test,Predict_Y)\n",
        "#MSE Result\n",
        "rmse = mean_squared_error(Y_test,Predict_Y)\n",
        "print('R^2 Score:, %.2f' % r2)\n",
        "print('Root Mean Squared Error:, %.2f' % np.sqrt(rmse))"
      ],
      "execution_count": 10,
      "outputs": [
        {
          "output_type": "stream",
          "text": [
            "R^2 Score:, 0.93\n",
            "Root Mean Squared Error:, 0.66\n"
          ],
          "name": "stdout"
        }
      ]
    },
    {
      "cell_type": "code",
      "metadata": {
        "id": "46inE6pGNNyP",
        "outputId": "a58592b6-dc7f-4832-f3d0-45001e7e2c0c",
        "colab": {
          "base_uri": "https://localhost:8080/",
          "height": 295
        }
      },
      "source": [
        "fig, pX = plt.subplots()\n",
        "\n",
        "pX.scatter(Y_test, Predict_Y, edgecolors=(0, 0, 0))\n",
        "pX.plot([Y_test.min(), Y_test.max()], [Y_test.min(), Y_test.max()], 'm--', lw=3)\n",
        "pX.set_xlabel('Actual Data')\n",
        "pX.set_ylabel('Predicted Data')\n",
        "pX.set_title(\"Verified vs Predicted\")\n",
        "plt.show()"
      ],
      "execution_count": 11,
      "outputs": [
        {
          "output_type": "display_data",
          "data": {
            "image/png": "[encoded data removed]",
            "text/plain": [
              "<Figure size 432x288 with 1 Axes>"
            ]
          },
          "metadata": {
            "tags": [],
            "needs_background": "light"
          }
        }
      ]
    },
    {
      "cell_type": "markdown",
      "metadata": {
        "id": "BE6To373QOuI"
      },
      "source": [
        "**GradientBoosting Model**"
      ]
    },
    {
      "cell_type": "code",
      "metadata": {
        "id": "jD9h113EQW9m"
      },
      "source": [
        "GBRegressor = GradientBoostingRegressor()\n",
        "prm = {\n",
        "    \"n_estimators\":[200,400,600,800],\n",
        "    \"max_depth\":[16,32,64,128,256,None]\n",
        "}"
      ],
      "execution_count": 12,
      "outputs": []
    },
    {
      "cell_type": "code",
      "metadata": {
        "id": "392siY2WQhAg",
        "outputId": "eaac9f5d-2baa-43ff-e280-cafdc9ea4400",
        "colab": {
          "base_uri": "https://localhost:8080/",
          "height": 458
        }
      },
      "source": [
        "GS_GB = GridSearchCV(GBRegressor,prm,cv=8)\n",
        "GS_GB.fit(X_train, Y_train)"
      ],
      "execution_count": 13,
      "outputs": [
        {
          "output_type": "execute_result",
          "data": {
            "text/plain": [
              "GridSearchCV(cv=8, error_score=nan,\n",
              "             estimator=GradientBoostingRegressor(alpha=0.9, ccp_alpha=0.0,\n",
              "                                                 criterion='friedman_mse',\n",
              "                                                 init=None, learning_rate=0.1,\n",
              "                                                 loss='ls', max_depth=3,\n",
              "                                                 max_features=None,\n",
              "                                                 max_leaf_nodes=None,\n",
              "                                                 min_impurity_decrease=0.0,\n",
              "                                                 min_impurity_split=None,\n",
              "                                                 min_samples_leaf=1,\n",
              "                                                 min_samples_split=2,\n",
              "                                                 min_weight_fraction_leaf=0.0,\n",
              "                                                 n_estimators=100,\n",
              "                                                 n_iter_no_change=None,\n",
              "                                                 presort='deprecated',\n",
              "                                                 random_state=None,\n",
              "                                                 subsample=1.0, tol=0.0001,\n",
              "                                                 validation_fraction=0.1,\n",
              "                                                 verbose=0, warm_start=False),\n",
              "             iid='deprecated', n_jobs=None,\n",
              "             param_grid={'max_depth': [16, 32, 64, 128, 256, None],\n",
              "                         'n_estimators': [200, 400, 600, 800]},\n",
              "             pre_dispatch='2*n_jobs', refit=True, return_train_score=False,\n",
              "             scoring=None, verbose=0)"
            ]
          },
          "metadata": {
            "tags": []
          },
          "execution_count": 13
        }
      ]
    },
    {
      "cell_type": "code",
      "metadata": {
        "id": "24qmaQMaQmaM",
        "outputId": "5137a706-cb6c-4b29-c259-9374aa543647",
        "colab": {
          "base_uri": "https://localhost:8080/",
          "height": 54
        }
      },
      "source": [
        "#Prediction\n",
        "from sklearn.metrics import r2_score\n",
        "\n",
        "Predict_YG = GS_GB.predict(X_test)\n",
        "#Evaluating algorithm performance\n",
        "r2_B = r2_score(Y_test,Predict_YG)\n",
        "#MSE Result\n",
        "rmse_B = mean_squared_error(Y_test,Predict_YG)\n",
        "print('R^2 Score:, %.2f' % r2_B)\n",
        "print('Root Mean Squared Error:, %.2f' % np.sqrt(rmse_B))"
      ],
      "execution_count": 14,
      "outputs": [
        {
          "output_type": "stream",
          "text": [
            "R^2 Score:, 0.85\n",
            "Root Mean Squared Error:, 0.98\n"
          ],
          "name": "stdout"
        }
      ]
    },
    {
      "cell_type": "code",
      "metadata": {
        "id": "ut8UYhYnQpUF",
        "outputId": "399a4b80-4675-4a35-a59d-3b3eeb2582ca",
        "colab": {
          "base_uri": "https://localhost:8080/",
          "height": 295
        }
      },
      "source": [
        "fig, pX = plt.subplots()\n",
        "\n",
        "pX.scatter(Y_test, Predict_YG, edgecolors=(0, 0, 0))\n",
        "pX.plot([Y_test.min(), Y_test.max()], [Y_test.min(), Y_test.max()], 'm--', lw=3)\n",
        "pX.set_xlabel('Actual Data')\n",
        "pX.set_ylabel('Predicted Data')\n",
        "pX.set_title(\"Verified vs Predicted\")\n",
        "plt.show()"
      ],
      "execution_count": 15,
      "outputs": [
        {
          "output_type": "display_data",
          "data": {
            "image/png": "[encoded data removed]",
            "text/plain": [
              "<Figure size 432x288 with 1 Axes>"
            ]
          },
          "metadata": {
            "tags": [],
            "needs_background": "light"
          }
        }
      ]
    }
  ]
}