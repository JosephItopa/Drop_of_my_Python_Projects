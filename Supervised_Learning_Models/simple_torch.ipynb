{
  "nbformat": 4,
  "nbformat_minor": 0,
  "metadata": {
    "colab": {
      "name": "simple_torch.ipynb",
      "provenance": []
    },
    "kernelspec": {
      "name": "python3",
      "display_name": "Python 3"
    }
  },
  "cells": [
    {
      "cell_type": "markdown",
      "metadata": {
        "id": "Soa_8bKbf62-",
        "colab_type": "text"
      },
      "source": [
        "**A simple torch experience.**"
      ]
    },
    {
      "cell_type": "code",
      "metadata": {
        "id": "cD1jUeXpf1Ab",
        "colab_type": "code",
        "colab": {}
      },
      "source": [
        "#import needed library\n",
        "import torch"
      ],
      "execution_count": 1,
      "outputs": []
    },
    {
      "cell_type": "code",
      "metadata": {
        "id": "y0lc0vPDgap5",
        "colab_type": "code",
        "colab": {}
      },
      "source": [
        "#develop a sigmoid activation function\n",
        "def activation(x):\n",
        "  \"\"\"Sigmoid activation function\"\"\"\n",
        "  return 1/(1+torch.exp(-x))"
      ],
      "execution_count": 3,
      "outputs": []
    },
    {
      "cell_type": "code",
      "metadata": {
        "id": "AVr88u14g70-",
        "colab_type": "code",
        "colab": {}
      },
      "source": [
        "#generate the input features, weight and bias\n",
        "torch.manual_seed(10)\n",
        "features = torch.randn((4, 8))\n",
        "weights = torch.randn_like(features)\n",
        "bias = torch.randn((1,1))"
      ],
      "execution_count": 4,
      "outputs": []
    },
    {
      "cell_type": "code",
      "metadata": {
        "id": "URxOf5WLhy4u",
        "colab_type": "code",
        "colab": {
          "base_uri": "https://localhost:8080/",
          "height": 35
        },
        "outputId": "e0240c91-49f2-445f-b99d-bee38d0508c9"
      },
      "source": [
        "#output of the neural network\n",
        "y = torch.sum(activation(features*weights)+ bias)\n",
        "print(y)"
      ],
      "execution_count": 5,
      "outputs": [
        {
          "output_type": "stream",
          "text": [
            "tensor(66.0143)\n"
          ],
          "name": "stdout"
        }
      ]
    }
  ]
}