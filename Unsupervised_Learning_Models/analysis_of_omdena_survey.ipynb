{
  "nbformat": 4,
  "nbformat_minor": 0,
  "metadata": {
    "colab": {
      "name": "analysis_of_omdena_survey.ipynb",
      "provenance": [],
      "authorship_tag": "ABX9TyNsYpJha8Q9sftF2BeNubwq",
      "include_colab_link": true
    },
    "kernelspec": {
      "name": "python3",
      "display_name": "Python 3"
    }
  },
  "cells": [
    {
      "cell_type": "markdown",
      "metadata": {
        "id": "view-in-github",
        "colab_type": "text"
      },
      "source": [
        "<a href=\"https://colab.research.google.com/github/light-ti-man/Drop_of_my_Python_Projects/blob/master/Unsupervised_Learning_Models/analysis_of_omdena_survey.ipynb\" target=\"_parent\"><img src=\"https://colab.research.google.com/assets/colab-badge.svg\" alt=\"Open In Colab\"/></a>"
      ]
    },
    {
      "cell_type": "code",
      "metadata": {
        "id": "uJfbe7zUWIeq",
        "outputId": "ae7a1e9c-0f03-4c67-c044-5bd264ba09a0",
        "colab": {
          "base_uri": "https://localhost:8080/"
        }
      },
      "source": [
        "from time import time\n",
        "import pandas as pd\n",
        "import numpy as np\n",
        "import re\n",
        "import sys\n",
        "import csv\n",
        "csv.field_size_limit(sys.maxsize)\n",
        "\n",
        "import matplotlib.pyplot as plt\n",
        "from matplotlib import rcParams\n",
        "import seaborn as sns\n",
        "\n",
        "import nltk\n",
        "nltk.download('punkt')\n",
        "nltk.download('averaged_perceptron_tagger')\n",
        "nltk.download('stopwords')\n",
        "stopwords = nltk.corpus.stopwords.words('english')\n",
        "from nltk.corpus import stopwords\n",
        "from nltk.tokenize import word_tokenize\n",
        "\n",
        "import itertools\n",
        "import datetime\n",
        "\n",
        "import pprint\n",
        "import warnings\n",
        "warnings.filterwarnings('ignore')\n",
        "\n",
        "from sklearn.feature_extraction.text import CountVectorizer\n",
        "from sklearn.naive_bayes import MultinomialNB\n",
        "from sklearn.feature_extraction.text import TfidfTransformer"
      ],
      "execution_count": 139,
      "outputs": [
        {
          "output_type": "stream",
          "text": [
            "[nltk_data] Downloading package punkt to /root/nltk_data...\n",
            "[nltk_data]   Package punkt is already up-to-date!\n",
            "[nltk_data] Downloading package averaged_perceptron_tagger to\n",
            "[nltk_data]     /root/nltk_data...\n",
            "[nltk_data]   Package averaged_perceptron_tagger is already up-to-\n",
            "[nltk_data]       date!\n",
            "[nltk_data] Downloading package stopwords to /root/nltk_data...\n",
            "[nltk_data]   Package stopwords is already up-to-date!\n"
          ],
          "name": "stdout"
        }
      ]
    },
    {
      "cell_type": "code",
      "metadata": {
        "id": "yfFSIP2KYV0o",
        "outputId": "2f965774-946e-482d-bc8a-c3ca4003495a",
        "colab": {
          "base_uri": "https://localhost:8080/",
          "height": 329
        }
      },
      "source": [
        "df = pd.read_csv('/content/Survey_D.csv',lineterminator='\\n')\n",
        "df = df.applymap(lambda x: x.strip() if isinstance(x, str) else x)\n",
        "\n",
        "nRow, nCol = df.shape\n",
        "print(f'There are {nRow} rows and {nCol} columns in the training set')\n",
        "\n",
        "df.head()"
      ],
      "execution_count": 140,
      "outputs": [
        {
          "output_type": "stream",
          "text": [
            "There are 40 rows and 6 columns in the training set\n"
          ],
          "name": "stdout"
        },
        {
          "output_type": "execute_result",
          "data": {
            "text/html": [
              "<div>\n",
              "<style scoped>\n",
              "    .dataframe tbody tr th:only-of-type {\n",
              "        vertical-align: middle;\n",
              "    }\n",
              "\n",
              "    .dataframe tbody tr th {\n",
              "        vertical-align: top;\n",
              "    }\n",
              "\n",
              "    .dataframe thead th {\n",
              "        text-align: right;\n",
              "    }\n",
              "</style>\n",
              "<table border=\"1\" class=\"dataframe\">\n",
              "  <thead>\n",
              "    <tr style=\"text-align: right;\">\n",
              "      <th></th>\n",
              "      <th>S/N</th>\n",
              "      <th>NAME</th>\n",
              "      <th>Omdena challenge</th>\n",
              "      <th>Used Tech Tools provided by Omde</th>\n",
              "      <th>Suggested Tech Tools</th>\n",
              "      <th>Comments on Difficulties\\r</th>\n",
              "    </tr>\n",
              "  </thead>\n",
              "  <tbody>\n",
              "    <tr>\n",
              "      <th>0</th>\n",
              "      <td>2</td>\n",
              "      <td>Leo Sanchez</td>\n",
              "      <td>Spacept, WRI, Sintecsys,</td>\n",
              "      <td>Labelbox, Slack, Github, AWS</td>\n",
              "      <td>Tableau, AWS (with more freedom), Zoom (for ta...</td>\n",
              "      <td>Excess of communication in Slack, team not pus...</td>\n",
              "    </tr>\n",
              "    <tr>\n",
              "      <th>1</th>\n",
              "      <td>3</td>\n",
              "      <td>Aboli Marathe</td>\n",
              "      <td>Energy transitions, Youth Sentiment</td>\n",
              "      <td>NaN</td>\n",
              "      <td>A good lot of API keys for social media, remot...</td>\n",
              "      <td>Facebook and Twitter APIs often put constraint...</td>\n",
              "    </tr>\n",
              "    <tr>\n",
              "      <th>2</th>\n",
              "      <td>4</td>\n",
              "      <td>Emma Roscow</td>\n",
              "      <td>TrashOut</td>\n",
              "      <td>NaN</td>\n",
              "      <td>NaN</td>\n",
              "      <td>Hosting the model on an easy-to-use platform t...</td>\n",
              "    </tr>\n",
              "    <tr>\n",
              "      <th>3</th>\n",
              "      <td>5</td>\n",
              "      <td>Sara</td>\n",
              "      <td>PTSD, TrashOut</td>\n",
              "      <td>NaN</td>\n",
              "      <td>Azure or AWS or GCP, Labelbox, Zoom</td>\n",
              "      <td></td>\n",
              "    </tr>\n",
              "    <tr>\n",
              "      <th>4</th>\n",
              "      <td>6</td>\n",
              "      <td>Amardeep Singh</td>\n",
              "      <td>World Resources Institute Project, ASU Shaping...</td>\n",
              "      <td>Some of the tools like access to online reposi...</td>\n",
              "      <td>AWS Sagemaker, IBM Watson or Bluemix, Google G...</td>\n",
              "      <td>Having access to cloud credits to speed up the...</td>\n",
              "    </tr>\n",
              "  </tbody>\n",
              "</table>\n",
              "</div>"
            ],
            "text/plain": [
              "   S/N  ...                         Comments on Difficulties\\r\n",
              "0    2  ...  Excess of communication in Slack, team not pus...\n",
              "1    3  ...  Facebook and Twitter APIs often put constraint...\n",
              "2    4  ...  Hosting the model on an easy-to-use platform t...\n",
              "3    5  ...                                                   \n",
              "4    6  ...  Having access to cloud credits to speed up the...\n",
              "\n",
              "[5 rows x 6 columns]"
            ]
          },
          "metadata": {
            "tags": []
          },
          "execution_count": 140
        }
      ]
    },
    {
      "cell_type": "code",
      "metadata": {
        "id": "3cHP4o8wZsmh",
        "outputId": "9e815e63-4e94-4f3a-86e8-dac918d448e6",
        "colab": {
          "base_uri": "https://localhost:8080/"
        }
      },
      "source": [
        "df.info()"
      ],
      "execution_count": 141,
      "outputs": [
        {
          "output_type": "stream",
          "text": [
            "<class 'pandas.core.frame.DataFrame'>\n",
            "RangeIndex: 40 entries, 0 to 39\n",
            "Data columns (total 6 columns):\n",
            " #   Column                            Non-Null Count  Dtype \n",
            "---  ------                            --------------  ----- \n",
            " 0   S/N                               40 non-null     int64 \n",
            " 1   NAME                              40 non-null     object\n",
            " 2   Omdena challenge                  40 non-null     object\n",
            " 3   Used Tech Tools provided by Omde  25 non-null     object\n",
            " 4   Suggested Tech Tools              33 non-null     object\n",
            " 5   Comments on Difficulties\r         40 non-null     object\n",
            "dtypes: int64(1), object(5)\n",
            "memory usage: 2.0+ KB\n"
          ],
          "name": "stdout"
        }
      ]
    },
    {
      "cell_type": "code",
      "metadata": {
        "id": "L1zEeHQ1Z5cw",
        "outputId": "92c68768-0b58-4e11-ff1f-36e196b5b48e",
        "colab": {
          "base_uri": "https://localhost:8080/"
        }
      },
      "source": [
        "df.isnull().sum()"
      ],
      "execution_count": 142,
      "outputs": [
        {
          "output_type": "execute_result",
          "data": {
            "text/plain": [
              "S/N                                  0\n",
              "NAME                                 0\n",
              "Omdena challenge                     0\n",
              "Used Tech Tools provided by Omde    15\n",
              "Suggested Tech Tools                 7\n",
              "Comments on Difficulties\\r           0\n",
              "dtype: int64"
            ]
          },
          "metadata": {
            "tags": []
          },
          "execution_count": 142
        }
      ]
    },
    {
      "cell_type": "code",
      "metadata": {
        "id": "4GMTiaCLauTm"
      },
      "source": [
        "df1 = df.drop(['NAME'], axis=1)"
      ],
      "execution_count": 143,
      "outputs": []
    },
    {
      "cell_type": "code",
      "metadata": {
        "id": "kgzP2TOMePcu",
        "outputId": "f45da187-233e-4c7f-9245-4e749e012235",
        "colab": {
          "base_uri": "https://localhost:8080/"
        }
      },
      "source": [
        "df1.columns"
      ],
      "execution_count": 144,
      "outputs": [
        {
          "output_type": "execute_result",
          "data": {
            "text/plain": [
              "Index(['S/N', 'Omdena challenge', 'Used Tech Tools provided by Omde',\n",
              "       'Suggested Tech Tools', 'Comments on Difficulties\\r'],\n",
              "      dtype='object')"
            ]
          },
          "metadata": {
            "tags": []
          },
          "execution_count": 144
        }
      ]
    },
    {
      "cell_type": "code",
      "metadata": {
        "id": "_UZ3lMhpaoBX",
        "outputId": "b8815e42-599c-4e56-e6d5-1389670cb40c",
        "colab": {
          "base_uri": "https://localhost:8080/"
        }
      },
      "source": [
        "!pip install contractions\n",
        "import contractions"
      ],
      "execution_count": 145,
      "outputs": [
        {
          "output_type": "stream",
          "text": [
            "Requirement already satisfied: contractions in /usr/local/lib/python3.6/dist-packages (0.0.25)\n",
            "Requirement already satisfied: textsearch in /usr/local/lib/python3.6/dist-packages (from contractions) (0.0.17)\n",
            "Requirement already satisfied: Unidecode in /usr/local/lib/python3.6/dist-packages (from textsearch->contractions) (1.1.1)\n",
            "Requirement already satisfied: pyahocorasick in /usr/local/lib/python3.6/dist-packages (from textsearch->contractions) (1.4.0)\n"
          ],
          "name": "stdout"
        }
      ]
    },
    {
      "cell_type": "code",
      "metadata": {
        "id": "U8BqP5B1N417",
        "outputId": "4b6320b1-d78f-402c-e416-7439522bd7c1",
        "colab": {
          "base_uri": "https://localhost:8080/",
          "height": 310
        }
      },
      "source": [
        "df1.head(5)"
      ],
      "execution_count": 146,
      "outputs": [
        {
          "output_type": "execute_result",
          "data": {
            "text/html": [
              "<div>\n",
              "<style scoped>\n",
              "    .dataframe tbody tr th:only-of-type {\n",
              "        vertical-align: middle;\n",
              "    }\n",
              "\n",
              "    .dataframe tbody tr th {\n",
              "        vertical-align: top;\n",
              "    }\n",
              "\n",
              "    .dataframe thead th {\n",
              "        text-align: right;\n",
              "    }\n",
              "</style>\n",
              "<table border=\"1\" class=\"dataframe\">\n",
              "  <thead>\n",
              "    <tr style=\"text-align: right;\">\n",
              "      <th></th>\n",
              "      <th>S/N</th>\n",
              "      <th>Omdena challenge</th>\n",
              "      <th>Used Tech Tools provided by Omde</th>\n",
              "      <th>Suggested Tech Tools</th>\n",
              "      <th>Comments on Difficulties\\r</th>\n",
              "    </tr>\n",
              "  </thead>\n",
              "  <tbody>\n",
              "    <tr>\n",
              "      <th>0</th>\n",
              "      <td>2</td>\n",
              "      <td>Spacept, WRI, Sintecsys,</td>\n",
              "      <td>Labelbox, Slack, Github, AWS</td>\n",
              "      <td>Tableau, AWS (with more freedom), Zoom (for ta...</td>\n",
              "      <td>Excess of communication in Slack, team not pus...</td>\n",
              "    </tr>\n",
              "    <tr>\n",
              "      <th>1</th>\n",
              "      <td>3</td>\n",
              "      <td>Energy transitions, Youth Sentiment</td>\n",
              "      <td>NaN</td>\n",
              "      <td>A good lot of API keys for social media, remot...</td>\n",
              "      <td>Facebook and Twitter APIs often put constraint...</td>\n",
              "    </tr>\n",
              "    <tr>\n",
              "      <th>2</th>\n",
              "      <td>4</td>\n",
              "      <td>TrashOut</td>\n",
              "      <td>NaN</td>\n",
              "      <td>NaN</td>\n",
              "      <td>Hosting the model on an easy-to-use platform t...</td>\n",
              "    </tr>\n",
              "    <tr>\n",
              "      <th>3</th>\n",
              "      <td>5</td>\n",
              "      <td>PTSD, TrashOut</td>\n",
              "      <td>NaN</td>\n",
              "      <td>Azure or AWS or GCP, Labelbox, Zoom</td>\n",
              "      <td></td>\n",
              "    </tr>\n",
              "    <tr>\n",
              "      <th>4</th>\n",
              "      <td>6</td>\n",
              "      <td>World Resources Institute Project, ASU Shaping...</td>\n",
              "      <td>Some of the tools like access to online reposi...</td>\n",
              "      <td>AWS Sagemaker, IBM Watson or Bluemix, Google G...</td>\n",
              "      <td>Having access to cloud credits to speed up the...</td>\n",
              "    </tr>\n",
              "  </tbody>\n",
              "</table>\n",
              "</div>"
            ],
            "text/plain": [
              "   S/N  ...                         Comments on Difficulties\\r\n",
              "0    2  ...  Excess of communication in Slack, team not pus...\n",
              "1    3  ...  Facebook and Twitter APIs often put constraint...\n",
              "2    4  ...  Hosting the model on an easy-to-use platform t...\n",
              "3    5  ...                                                   \n",
              "4    6  ...  Having access to cloud credits to speed up the...\n",
              "\n",
              "[5 rows x 5 columns]"
            ]
          },
          "metadata": {
            "tags": []
          },
          "execution_count": 146
        }
      ]
    },
    {
      "cell_type": "markdown",
      "metadata": {
        "id": "9WDf5yYmhwy1"
      },
      "source": [
        "**Explore the first column(Omdena Challenge)**"
      ]
    },
    {
      "cell_type": "code",
      "metadata": {
        "id": "AGwWmKVjdm7E"
      },
      "source": [
        "# Noise Cleaning - spacing, special characters, lowercasing \n",
        "import regex as re\n",
        "\n",
        "df1['Omdena challenge'] = df1['Omdena challenge'].str.lower()\n",
        "df1['Omdena challenge'] = df1['Omdena challenge'].apply(lambda x: re.sub(r'[^\\w\\d\\s\\']+', '', x))"
      ],
      "execution_count": 147,
      "outputs": []
    },
    {
      "cell_type": "code",
      "metadata": {
        "id": "2NO604bPYBQ0",
        "outputId": "26963951-94dd-4acd-eb19-0c0b704f31c8",
        "colab": {
          "base_uri": "https://localhost:8080/",
          "height": 310
        }
      },
      "source": [
        "df1.head(5)"
      ],
      "execution_count": 148,
      "outputs": [
        {
          "output_type": "execute_result",
          "data": {
            "text/html": [
              "<div>\n",
              "<style scoped>\n",
              "    .dataframe tbody tr th:only-of-type {\n",
              "        vertical-align: middle;\n",
              "    }\n",
              "\n",
              "    .dataframe tbody tr th {\n",
              "        vertical-align: top;\n",
              "    }\n",
              "\n",
              "    .dataframe thead th {\n",
              "        text-align: right;\n",
              "    }\n",
              "</style>\n",
              "<table border=\"1\" class=\"dataframe\">\n",
              "  <thead>\n",
              "    <tr style=\"text-align: right;\">\n",
              "      <th></th>\n",
              "      <th>S/N</th>\n",
              "      <th>Omdena challenge</th>\n",
              "      <th>Used Tech Tools provided by Omde</th>\n",
              "      <th>Suggested Tech Tools</th>\n",
              "      <th>Comments on Difficulties\\r</th>\n",
              "    </tr>\n",
              "  </thead>\n",
              "  <tbody>\n",
              "    <tr>\n",
              "      <th>0</th>\n",
              "      <td>2</td>\n",
              "      <td>spacept wri sintecsys</td>\n",
              "      <td>Labelbox, Slack, Github, AWS</td>\n",
              "      <td>Tableau, AWS (with more freedom), Zoom (for ta...</td>\n",
              "      <td>Excess of communication in Slack, team not pus...</td>\n",
              "    </tr>\n",
              "    <tr>\n",
              "      <th>1</th>\n",
              "      <td>3</td>\n",
              "      <td>energy transitions youth sentiment</td>\n",
              "      <td>NaN</td>\n",
              "      <td>A good lot of API keys for social media, remot...</td>\n",
              "      <td>Facebook and Twitter APIs often put constraint...</td>\n",
              "    </tr>\n",
              "    <tr>\n",
              "      <th>2</th>\n",
              "      <td>4</td>\n",
              "      <td>trashout</td>\n",
              "      <td>NaN</td>\n",
              "      <td>NaN</td>\n",
              "      <td>Hosting the model on an easy-to-use platform t...</td>\n",
              "    </tr>\n",
              "    <tr>\n",
              "      <th>3</th>\n",
              "      <td>5</td>\n",
              "      <td>ptsd trashout</td>\n",
              "      <td>NaN</td>\n",
              "      <td>Azure or AWS or GCP, Labelbox, Zoom</td>\n",
              "      <td></td>\n",
              "    </tr>\n",
              "    <tr>\n",
              "      <th>4</th>\n",
              "      <td>6</td>\n",
              "      <td>world resources institute project asu shaping ...</td>\n",
              "      <td>Some of the tools like access to online reposi...</td>\n",
              "      <td>AWS Sagemaker, IBM Watson or Bluemix, Google G...</td>\n",
              "      <td>Having access to cloud credits to speed up the...</td>\n",
              "    </tr>\n",
              "  </tbody>\n",
              "</table>\n",
              "</div>"
            ],
            "text/plain": [
              "   S/N  ...                         Comments on Difficulties\\r\n",
              "0    2  ...  Excess of communication in Slack, team not pus...\n",
              "1    3  ...  Facebook and Twitter APIs often put constraint...\n",
              "2    4  ...  Hosting the model on an easy-to-use platform t...\n",
              "3    5  ...                                                   \n",
              "4    6  ...  Having access to cloud credits to speed up the...\n",
              "\n",
              "[5 rows x 5 columns]"
            ]
          },
          "metadata": {
            "tags": []
          },
          "execution_count": 148
        }
      ]
    },
    {
      "cell_type": "code",
      "metadata": {
        "id": "mam9hoThhSmo"
      },
      "source": [
        "#nltk tokenization\n",
        "df1['Omdena challenge tokenize'] = df1['Omdena challenge'].apply(word_tokenize)"
      ],
      "execution_count": 149,
      "outputs": []
    },
    {
      "cell_type": "code",
      "metadata": {
        "id": "88vj-w6zi3cn",
        "outputId": "56322d32-c3d6-4f79-bca2-5ba2de91429b",
        "colab": {
          "base_uri": "https://localhost:8080/"
        }
      },
      "source": [
        "# initializing Stop words libraries\n",
        "\n",
        "nltk.download('stopwords')\n",
        "from nltk.corpus import stopwords\n",
        "stop_words = set(stopwords.words('english'))"
      ],
      "execution_count": 150,
      "outputs": [
        {
          "output_type": "stream",
          "text": [
            "[nltk_data] Downloading package stopwords to /root/nltk_data...\n",
            "[nltk_data]   Package stopwords is already up-to-date!\n"
          ],
          "name": "stdout"
        }
      ]
    },
    {
      "cell_type": "code",
      "metadata": {
        "id": "vE7OeV6uZZCR"
      },
      "source": [
        "# Before removing checking occurances of stopwords in article content\n",
        "\n",
        "%matplotlib inline\n",
        "from matplotlib import pyplot as plt\n",
        "\n",
        "def plot_top_stopwords_barchart(text):\n",
        "    stop=set(stopwords.words('english'))\n",
        "    \n",
        "    new= text.str.split()\n",
        "    new=new.values.tolist()\n",
        "    corpus=[word for i in new for word in i]\n",
        "    from collections import defaultdict\n",
        "    dic=defaultdict(int)\n",
        "    for word in corpus:\n",
        "        if word in stop:\n",
        "            dic[word]+=1\n",
        "            \n",
        "    top=sorted(dic.items(), key=lambda x:x[1],reverse=True)[:10]\n",
        "    x,y=zip(*top)\n",
        "    plt.figure(figsize=(10,10))\n",
        "    plt.bar(x,y)"
      ],
      "execution_count": 151,
      "outputs": []
    },
    {
      "cell_type": "code",
      "metadata": {
        "id": "IL98tnzCa251",
        "outputId": "ec35e670-f7f1-4406-f8da-71199ac9fcf2",
        "colab": {
          "base_uri": "https://localhost:8080/"
        }
      },
      "source": [
        "df1.columns"
      ],
      "execution_count": 152,
      "outputs": [
        {
          "output_type": "execute_result",
          "data": {
            "text/plain": [
              "Index(['S/N', 'Omdena challenge', 'Used Tech Tools provided by Omde',\n",
              "       'Suggested Tech Tools', 'Comments on Difficulties\\r',\n",
              "       'Omdena challenge tokenize'],\n",
              "      dtype='object')"
            ]
          },
          "metadata": {
            "tags": []
          },
          "execution_count": 152
        }
      ]
    },
    {
      "cell_type": "code",
      "metadata": {
        "id": "w_zAtGUFZqQy",
        "outputId": "05dc9765-89d7-470e-d58b-52e71c2e2965",
        "colab": {
          "base_uri": "https://localhost:8080/",
          "height": 592
        }
      },
      "source": [
        "df2 = df1['Omdena challenge']\n",
        "plot_top_stopwords_barchart(df2)"
      ],
      "execution_count": 153,
      "outputs": [
        {
          "output_type": "display_data",
          "data": {
            "image/png": "[encoded data removed]",
            "text/plain": [
              "<Figure size 720x720 with 1 Axes>"
            ]
          },
          "metadata": {
            "tags": [],
            "needs_background": "light"
          }
        }
      ]
    },
    {
      "cell_type": "code",
      "metadata": {
        "id": "cXGBZ1h3g1T3"
      },
      "source": [
        "import seaborn as sns\n",
        "from collections import  Counter\n",
        "\n",
        "def plot_top_non_stopwords_barchart(text):\n",
        "    stop=set(stopwords.words('english'))\n",
        "    \n",
        "    new= text.str.split()\n",
        "    new=new.values.tolist()\n",
        "    corpus=[word for i in new for word in i]\n",
        "\n",
        "    counter=Counter(corpus)\n",
        "    most=counter.most_common()\n",
        "    x, y=[], []\n",
        "    for word,count in most[:50]:\n",
        "        if (word not in stop):\n",
        "            x.append(word)\n",
        "            y.append(count)\n",
        "    plt.figure(figsize=(10,10))\n",
        "    sns.barplot(x=y,y=x)"
      ],
      "execution_count": 154,
      "outputs": []
    },
    {
      "cell_type": "code",
      "metadata": {
        "id": "5XP0k6DPhBot",
        "outputId": "4da828f1-a9bb-4450-fd1e-25f014494e24",
        "colab": {
          "base_uri": "https://localhost:8080/",
          "height": 592
        }
      },
      "source": [
        "plot_top_non_stopwords_barchart(df2)"
      ],
      "execution_count": 155,
      "outputs": [
        {
          "output_type": "display_data",
          "data": {
            "image/png": "[encoded data removed]",
            "text/plain": [
              "<Figure size 720x720 with 1 Axes>"
            ]
          },
          "metadata": {
            "tags": [],
            "needs_background": "light"
          }
        }
      ]
    },
    {
      "cell_type": "code",
      "metadata": {
        "id": "1WsEhiw6hg82",
        "outputId": "74cb8448-9c3e-409b-f97b-5851b9d105d7",
        "colab": {
          "base_uri": "https://localhost:8080/"
        }
      },
      "source": [
        "df1.columns"
      ],
      "execution_count": 156,
      "outputs": [
        {
          "output_type": "execute_result",
          "data": {
            "text/plain": [
              "Index(['S/N', 'Omdena challenge', 'Used Tech Tools provided by Omde',\n",
              "       'Suggested Tech Tools', 'Comments on Difficulties\\r',\n",
              "       'Omdena challenge tokenize'],\n",
              "      dtype='object')"
            ]
          },
          "metadata": {
            "tags": []
          },
          "execution_count": 156
        }
      ]
    },
    {
      "cell_type": "markdown",
      "metadata": {
        "id": "dvITzuDItKI4"
      },
      "source": [
        "**Analysis of the last column(Comments on Difficulties)**"
      ]
    },
    {
      "cell_type": "code",
      "metadata": {
        "id": "dwB0zXN0h6jx"
      },
      "source": [
        "# Noise Cleaning - spacing, special characters, lowercasing \n",
        "import regex as re\n",
        "\n",
        "df1['Comments on Difficulties\\r'] = df1['Comments on Difficulties\\r'].str.lower()\n",
        "df1['Comments on Difficulties\\r'] = df1['Comments on Difficulties\\r'].apply(lambda x: re.sub(r'[^\\w\\d\\s\\']+', '', x))"
      ],
      "execution_count": 157,
      "outputs": []
    },
    {
      "cell_type": "code",
      "metadata": {
        "id": "4dUzSTMAsfq5",
        "outputId": "37c91869-5a28-40ba-fe9b-a5caa0c3ff34",
        "colab": {
          "base_uri": "https://localhost:8080/",
          "height": 592
        }
      },
      "source": [
        "df4 = df1['Comments on Difficulties\\r']\n",
        "plot_top_stopwords_barchart(df4)"
      ],
      "execution_count": 158,
      "outputs": [
        {
          "output_type": "display_data",
          "data": {
            "image/png": "[encoded data removed]",
            "text/plain": [
              "<Figure size 720x720 with 1 Axes>"
            ]
          },
          "metadata": {
            "tags": [],
            "needs_background": "light"
          }
        }
      ]
    },
    {
      "cell_type": "code",
      "metadata": {
        "id": "v1sQ2m2hsl80",
        "outputId": "99e9d2d9-7a15-4dd4-aa23-158859105cd2",
        "colab": {
          "base_uri": "https://localhost:8080/",
          "height": 592
        }
      },
      "source": [
        "plot_top_non_stopwords_barchart(df4)"
      ],
      "execution_count": 159,
      "outputs": [
        {
          "output_type": "display_data",
          "data": {
            "image/png": "[encoded data removed]",
            "text/plain": [
              "<Figure size 720x720 with 1 Axes>"
            ]
          },
          "metadata": {
            "tags": [],
            "needs_background": "light"
          }
        }
      ]
    },
    {
      "cell_type": "code",
      "metadata": {
        "id": "ygkVe7uts4Zk",
        "outputId": "d8f22a5a-887d-4502-9535-d7fe39c26dd8",
        "colab": {
          "base_uri": "https://localhost:8080/",
          "height": 328
        }
      },
      "source": [
        "df1.head(5)"
      ],
      "execution_count": 160,
      "outputs": [
        {
          "output_type": "execute_result",
          "data": {
            "text/html": [
              "<div>\n",
              "<style scoped>\n",
              "    .dataframe tbody tr th:only-of-type {\n",
              "        vertical-align: middle;\n",
              "    }\n",
              "\n",
              "    .dataframe tbody tr th {\n",
              "        vertical-align: top;\n",
              "    }\n",
              "\n",
              "    .dataframe thead th {\n",
              "        text-align: right;\n",
              "    }\n",
              "</style>\n",
              "<table border=\"1\" class=\"dataframe\">\n",
              "  <thead>\n",
              "    <tr style=\"text-align: right;\">\n",
              "      <th></th>\n",
              "      <th>S/N</th>\n",
              "      <th>Omdena challenge</th>\n",
              "      <th>Used Tech Tools provided by Omde</th>\n",
              "      <th>Suggested Tech Tools</th>\n",
              "      <th>Comments on Difficulties\\r</th>\n",
              "      <th>Omdena challenge tokenize</th>\n",
              "    </tr>\n",
              "  </thead>\n",
              "  <tbody>\n",
              "    <tr>\n",
              "      <th>0</th>\n",
              "      <td>2</td>\n",
              "      <td>spacept wri sintecsys</td>\n",
              "      <td>Labelbox, Slack, Github, AWS</td>\n",
              "      <td>Tableau, AWS (with more freedom), Zoom (for ta...</td>\n",
              "      <td>excess of communication in slack team not push...</td>\n",
              "      <td>[spacept, wri, sintecsys]</td>\n",
              "    </tr>\n",
              "    <tr>\n",
              "      <th>1</th>\n",
              "      <td>3</td>\n",
              "      <td>energy transitions youth sentiment</td>\n",
              "      <td>NaN</td>\n",
              "      <td>A good lot of API keys for social media, remot...</td>\n",
              "      <td>facebook and twitter apis often put constraint...</td>\n",
              "      <td>[energy, transitions, youth, sentiment]</td>\n",
              "    </tr>\n",
              "    <tr>\n",
              "      <th>2</th>\n",
              "      <td>4</td>\n",
              "      <td>trashout</td>\n",
              "      <td>NaN</td>\n",
              "      <td>NaN</td>\n",
              "      <td>hosting the model on an easytouse platform to ...</td>\n",
              "      <td>[trashout]</td>\n",
              "    </tr>\n",
              "    <tr>\n",
              "      <th>3</th>\n",
              "      <td>5</td>\n",
              "      <td>ptsd trashout</td>\n",
              "      <td>NaN</td>\n",
              "      <td>Azure or AWS or GCP, Labelbox, Zoom</td>\n",
              "      <td></td>\n",
              "      <td>[ptsd, trashout]</td>\n",
              "    </tr>\n",
              "    <tr>\n",
              "      <th>4</th>\n",
              "      <td>6</td>\n",
              "      <td>world resources institute project asu shaping ...</td>\n",
              "      <td>Some of the tools like access to online reposi...</td>\n",
              "      <td>AWS Sagemaker, IBM Watson or Bluemix, Google G...</td>\n",
              "      <td>having access to cloud credits to speed up the...</td>\n",
              "      <td>[world, resources, institute, project, asu, sh...</td>\n",
              "    </tr>\n",
              "  </tbody>\n",
              "</table>\n",
              "</div>"
            ],
            "text/plain": [
              "   S/N  ...                          Omdena challenge tokenize\n",
              "0    2  ...                          [spacept, wri, sintecsys]\n",
              "1    3  ...            [energy, transitions, youth, sentiment]\n",
              "2    4  ...                                         [trashout]\n",
              "3    5  ...                                   [ptsd, trashout]\n",
              "4    6  ...  [world, resources, institute, project, asu, sh...\n",
              "\n",
              "[5 rows x 6 columns]"
            ]
          },
          "metadata": {
            "tags": []
          },
          "execution_count": 160
        }
      ]
    },
    {
      "cell_type": "markdown",
      "metadata": {
        "id": "KH88Gug5CFfB"
      },
      "source": [
        "**Exploration of Perspectives on Tools**"
      ]
    },
    {
      "cell_type": "code",
      "metadata": {
        "id": "6WJ6VDjY4VqG",
        "outputId": "fa1ffed8-9998-4e36-9ed5-6331a57104c8",
        "colab": {
          "base_uri": "https://localhost:8080/",
          "height": 225
        }
      },
      "source": [
        "dff1 = pd.read_csv('/content/Survey_D1.csv',lineterminator='\\n')\n",
        "dff1 = dff1.applymap(lambda x: x.strip() if isinstance(x, str) else x)\n",
        "\n",
        "nRow, nCol = df.shape\n",
        "print(f'There are {nRow} rows and {nCol} columns in the training set')\n",
        "\n",
        "dff1.head()"
      ],
      "execution_count": 181,
      "outputs": [
        {
          "output_type": "stream",
          "text": [
            "There are 40 rows and 6 columns in the training set\n"
          ],
          "name": "stdout"
        },
        {
          "output_type": "execute_result",
          "data": {
            "text/html": [
              "<div>\n",
              "<style scoped>\n",
              "    .dataframe tbody tr th:only-of-type {\n",
              "        vertical-align: middle;\n",
              "    }\n",
              "\n",
              "    .dataframe tbody tr th {\n",
              "        vertical-align: top;\n",
              "    }\n",
              "\n",
              "    .dataframe thead th {\n",
              "        text-align: right;\n",
              "    }\n",
              "</style>\n",
              "<table border=\"1\" class=\"dataframe\">\n",
              "  <thead>\n",
              "    <tr style=\"text-align: right;\">\n",
              "      <th></th>\n",
              "      <th>S/N</th>\n",
              "      <th>Used Tech Tools</th>\n",
              "      <th>Suggested Tech Tools\\r</th>\n",
              "    </tr>\n",
              "  </thead>\n",
              "  <tbody>\n",
              "    <tr>\n",
              "      <th>0</th>\n",
              "      <td>2</td>\n",
              "      <td>Labelbox, Slack, Github, AWS</td>\n",
              "      <td>Tableau, AWS, Zoom, Datasets tools</td>\n",
              "    </tr>\n",
              "    <tr>\n",
              "      <th>1</th>\n",
              "      <td>3</td>\n",
              "      <td>NaN</td>\n",
              "      <td>CoCalc environments, Pycharm plugin, VSCode</td>\n",
              "    </tr>\n",
              "    <tr>\n",
              "      <th>2</th>\n",
              "      <td>4</td>\n",
              "      <td>NaN</td>\n",
              "      <td></td>\n",
              "    </tr>\n",
              "    <tr>\n",
              "      <th>3</th>\n",
              "      <td>5</td>\n",
              "      <td>NaN</td>\n",
              "      <td>Azure or AWS or GCP, Labelbox, Zoom</td>\n",
              "    </tr>\n",
              "    <tr>\n",
              "      <th>4</th>\n",
              "      <td>6</td>\n",
              "      <td>Some of the tools like access to online reposi...</td>\n",
              "      <td>AWS Sagemaker, IBM Watson or Bluemix, Google G...</td>\n",
              "    </tr>\n",
              "  </tbody>\n",
              "</table>\n",
              "</div>"
            ],
            "text/plain": [
              "   S/N  ...                             Suggested Tech Tools\\r\n",
              "0    2  ...                 Tableau, AWS, Zoom, Datasets tools\n",
              "1    3  ...        CoCalc environments, Pycharm plugin, VSCode\n",
              "2    4  ...                                                   \n",
              "3    5  ...                Azure or AWS or GCP, Labelbox, Zoom\n",
              "4    6  ...  AWS Sagemaker, IBM Watson or Bluemix, Google G...\n",
              "\n",
              "[5 rows x 3 columns]"
            ]
          },
          "metadata": {
            "tags": []
          },
          "execution_count": 181
        }
      ]
    },
    {
      "cell_type": "code",
      "metadata": {
        "id": "f3hPoHS1DOJT"
      },
      "source": [
        "# Noise Cleaning - spacing, special characters, lowercasing \n",
        "\n",
        "dff1['Suggested Tech Tools\\r'] = dff1['Suggested Tech Tools\\r'].str.lower()\n",
        "dff1['Suggested Tech Tools\\r'] = dff1['Suggested Tech Tools\\r'].apply(lambda x: re.sub(r'[^\\w\\d\\s\\']+', '', x))"
      ],
      "execution_count": 182,
      "outputs": []
    },
    {
      "cell_type": "code",
      "metadata": {
        "id": "vG-g5AkHDy1U",
        "outputId": "19125ba0-4d33-4104-ca8e-3a30bea9d0b7",
        "colab": {
          "base_uri": "https://localhost:8080/",
          "height": 592
        }
      },
      "source": [
        "df5 = dff1['Suggested Tech Tools\\r']\n",
        "plot_top_stopwords_barchart(df4)"
      ],
      "execution_count": 183,
      "outputs": [
        {
          "output_type": "display_data",
          "data": {
            "image/png": "[encoded data removed]",
            "text/plain": [
              "<Figure size 720x720 with 1 Axes>"
            ]
          },
          "metadata": {
            "tags": [],
            "needs_background": "light"
          }
        }
      ]
    },
    {
      "cell_type": "code",
      "metadata": {
        "id": "6hXjyaUWEWlo",
        "outputId": "2fb14109-a5e5-44a2-cb5a-294ded120516",
        "colab": {
          "base_uri": "https://localhost:8080/",
          "height": 592
        }
      },
      "source": [
        "plot_top_non_stopwords_barchart(df5)"
      ],
      "execution_count": 184,
      "outputs": [
        {
          "output_type": "display_data",
          "data": {
            "image/png": "[encoded data removed]",
            "text/plain": [
              "<Figure size 720x720 with 1 Axes>"
            ]
          },
          "metadata": {
            "tags": [],
            "needs_background": "light"
          }
        }
      ]
    },
    {
      "cell_type": "code",
      "metadata": {
        "id": "qL08kjmLFGkj"
      },
      "source": [
        "# Noise Cleaning - spacing, special characters, lowercasing \n",
        "\n",
        "dff1['Used Tech Tools'] = dff1['Used Tech Tools'].str.lower()"
      ],
      "execution_count": 187,
      "outputs": []
    },
    {
      "cell_type": "code",
      "metadata": {
        "id": "O09WxF_RJaKz"
      },
      "source": [
        ""
      ],
      "execution_count": null,
      "outputs": []
    },
    {
      "cell_type": "code",
      "metadata": {
        "id": "Zs9uN6ptIOCR",
        "outputId": "00dca52d-8855-498b-f1fc-80531ee2a1a3",
        "colab": {
          "base_uri": "https://localhost:8080/",
          "height": 380
        }
      },
      "source": [
        "dff1['Used Tech Tools'] = dff1['Used Tech Tools'].apply(lambda x: re.sub(r'[^\\w\\d\\s\\']+', '', x))"
      ],
      "execution_count": 189,
      "outputs": [
        {
          "output_type": "error",
          "ename": "TypeError",
          "evalue": "ignored",
          "traceback": [
            "\u001b[0;31m---------------------------------------------------------------------------\u001b[0m",
            "\u001b[0;31mTypeError\u001b[0m                                 Traceback (most recent call last)",
            "\u001b[0;32m<ipython-input-189-182e1e24e429>\u001b[0m in \u001b[0;36m<module>\u001b[0;34m()\u001b[0m\n\u001b[0;32m----> 1\u001b[0;31m \u001b[0mdff1\u001b[0m\u001b[0;34m[\u001b[0m\u001b[0;34m'Used Tech Tools'\u001b[0m\u001b[0;34m]\u001b[0m \u001b[0;34m=\u001b[0m \u001b[0mdff1\u001b[0m\u001b[0;34m[\u001b[0m\u001b[0;34m'Used Tech Tools'\u001b[0m\u001b[0;34m]\u001b[0m\u001b[0;34m.\u001b[0m\u001b[0mapply\u001b[0m\u001b[0;34m(\u001b[0m\u001b[0;32mlambda\u001b[0m \u001b[0mx\u001b[0m\u001b[0;34m:\u001b[0m \u001b[0mre\u001b[0m\u001b[0;34m.\u001b[0m\u001b[0msub\u001b[0m\u001b[0;34m(\u001b[0m\u001b[0;34mr'[^\\w\\d\\s\\']+'\u001b[0m\u001b[0;34m,\u001b[0m \u001b[0;34m''\u001b[0m\u001b[0;34m,\u001b[0m \u001b[0mx\u001b[0m\u001b[0;34m)\u001b[0m\u001b[0;34m)\u001b[0m\u001b[0;34m\u001b[0m\u001b[0;34m\u001b[0m\u001b[0m\n\u001b[0m",
            "\u001b[0;32m/usr/local/lib/python3.6/dist-packages/pandas/core/series.py\u001b[0m in \u001b[0;36mapply\u001b[0;34m(self, func, convert_dtype, args, **kwds)\u001b[0m\n\u001b[1;32m   4198\u001b[0m             \u001b[0;32melse\u001b[0m\u001b[0;34m:\u001b[0m\u001b[0;34m\u001b[0m\u001b[0;34m\u001b[0m\u001b[0m\n\u001b[1;32m   4199\u001b[0m                 \u001b[0mvalues\u001b[0m \u001b[0;34m=\u001b[0m \u001b[0mself\u001b[0m\u001b[0;34m.\u001b[0m\u001b[0mastype\u001b[0m\u001b[0;34m(\u001b[0m\u001b[0mobject\u001b[0m\u001b[0;34m)\u001b[0m\u001b[0;34m.\u001b[0m\u001b[0m_values\u001b[0m\u001b[0;34m\u001b[0m\u001b[0;34m\u001b[0m\u001b[0m\n\u001b[0;32m-> 4200\u001b[0;31m                 \u001b[0mmapped\u001b[0m \u001b[0;34m=\u001b[0m \u001b[0mlib\u001b[0m\u001b[0;34m.\u001b[0m\u001b[0mmap_infer\u001b[0m\u001b[0;34m(\u001b[0m\u001b[0mvalues\u001b[0m\u001b[0;34m,\u001b[0m \u001b[0mf\u001b[0m\u001b[0;34m,\u001b[0m \u001b[0mconvert\u001b[0m\u001b[0;34m=\u001b[0m\u001b[0mconvert_dtype\u001b[0m\u001b[0;34m)\u001b[0m\u001b[0;34m\u001b[0m\u001b[0;34m\u001b[0m\u001b[0m\n\u001b[0m\u001b[1;32m   4201\u001b[0m \u001b[0;34m\u001b[0m\u001b[0m\n\u001b[1;32m   4202\u001b[0m         \u001b[0;32mif\u001b[0m \u001b[0mlen\u001b[0m\u001b[0;34m(\u001b[0m\u001b[0mmapped\u001b[0m\u001b[0;34m)\u001b[0m \u001b[0;32mand\u001b[0m \u001b[0misinstance\u001b[0m\u001b[0;34m(\u001b[0m\u001b[0mmapped\u001b[0m\u001b[0;34m[\u001b[0m\u001b[0;36m0\u001b[0m\u001b[0;34m]\u001b[0m\u001b[0;34m,\u001b[0m \u001b[0mSeries\u001b[0m\u001b[0;34m)\u001b[0m\u001b[0;34m:\u001b[0m\u001b[0;34m\u001b[0m\u001b[0;34m\u001b[0m\u001b[0m\n",
            "\u001b[0;32mpandas/_libs/lib.pyx\u001b[0m in \u001b[0;36mpandas._libs.lib.map_infer\u001b[0;34m()\u001b[0m\n",
            "\u001b[0;32m<ipython-input-189-182e1e24e429>\u001b[0m in \u001b[0;36m<lambda>\u001b[0;34m(x)\u001b[0m\n\u001b[0;32m----> 1\u001b[0;31m \u001b[0mdff1\u001b[0m\u001b[0;34m[\u001b[0m\u001b[0;34m'Used Tech Tools'\u001b[0m\u001b[0;34m]\u001b[0m \u001b[0;34m=\u001b[0m \u001b[0mdff1\u001b[0m\u001b[0;34m[\u001b[0m\u001b[0;34m'Used Tech Tools'\u001b[0m\u001b[0;34m]\u001b[0m\u001b[0;34m.\u001b[0m\u001b[0mapply\u001b[0m\u001b[0;34m(\u001b[0m\u001b[0;32mlambda\u001b[0m \u001b[0mx\u001b[0m\u001b[0;34m:\u001b[0m \u001b[0mre\u001b[0m\u001b[0;34m.\u001b[0m\u001b[0msub\u001b[0m\u001b[0;34m(\u001b[0m\u001b[0;34mr'[^\\w\\d\\s\\']+'\u001b[0m\u001b[0;34m,\u001b[0m \u001b[0;34m''\u001b[0m\u001b[0;34m,\u001b[0m \u001b[0mx\u001b[0m\u001b[0;34m)\u001b[0m\u001b[0;34m)\u001b[0m\u001b[0;34m\u001b[0m\u001b[0;34m\u001b[0m\u001b[0m\n\u001b[0m",
            "\u001b[0;32m/usr/local/lib/python3.6/dist-packages/regex/regex.py\u001b[0m in \u001b[0;36msub\u001b[0;34m(pattern, repl, string, count, flags, pos, endpos, concurrent, timeout, **kwargs)\u001b[0m\n\u001b[1;32m    274\u001b[0m     object and must return a replacement string to be used.\"\"\"\n\u001b[1;32m    275\u001b[0m     return _compile(pattern, flags, kwargs).sub(repl, string, count, pos,\n\u001b[0;32m--> 276\u001b[0;31m       endpos, concurrent, timeout)\n\u001b[0m\u001b[1;32m    277\u001b[0m \u001b[0;34m\u001b[0m\u001b[0m\n\u001b[1;32m    278\u001b[0m def subf(pattern, format, string, count=0, flags=0, pos=None, endpos=None,\n",
            "\u001b[0;31mTypeError\u001b[0m: expected string or buffer"
          ]
        }
      ]
    },
    {
      "cell_type": "code",
      "metadata": {
        "id": "6v0NgQoRJCqO"
      },
      "source": [
        "# Now we remove stopwords \n",
        "\n",
        "train['total_tokenize'] = train['total_tokenize'].apply(lambda x: [word for word in x if word not in stop_words])\n",
        "train['total_tokenize_join'] = [' '.join(map(str, l)) for l in train['total_tokenize']]"
      ],
      "execution_count": null,
      "outputs": []
    }
  ]
}